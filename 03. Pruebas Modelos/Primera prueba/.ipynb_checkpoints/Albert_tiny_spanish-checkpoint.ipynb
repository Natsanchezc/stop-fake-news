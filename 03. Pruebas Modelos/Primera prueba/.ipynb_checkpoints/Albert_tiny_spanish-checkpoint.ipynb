{
 "cells": [
  {
   "cell_type": "code",
   "execution_count": 33,
   "metadata": {
    "executionInfo": {
     "elapsed": 6727,
     "status": "ok",
     "timestamp": 1689916413897,
     "user": {
      "displayName": "Pablo Sánchez Ochando",
      "userId": "07213702614868848965"
     },
     "user_tz": -120
    },
    "id": "-S5n8fXB2hXk"
   },
   "outputs": [],
   "source": [
    "import pandas as pd\n",
    "import torch\n",
    "import numpy as np\n",
    "from transformers import AutoTokenizer, AutoModelForSequenceClassification, Trainer, TrainingArguments"
   ]
  },
  {
   "cell_type": "code",
   "execution_count": 34,
   "metadata": {},
   "outputs": [
    {
     "data": {
      "text/plain": [
       "True"
      ]
     },
     "execution_count": 34,
     "metadata": {},
     "output_type": "execute_result"
    }
   ],
   "source": [
    "torch.cuda.is_available()"
   ]
  },
  {
   "cell_type": "code",
   "execution_count": 35,
   "metadata": {
    "executionInfo": {
     "elapsed": 18,
     "status": "ok",
     "timestamp": 1689916413898,
     "user": {
      "displayName": "Pablo Sánchez Ochando",
      "userId": "07213702614868848965"
     },
     "user_tz": -120
    },
    "id": "wFPzHLoFT4WU"
   },
   "outputs": [
    {
     "name": "stdout",
     "output_type": "stream",
     "text": [
      "cuda:0\n"
     ]
    }
   ],
   "source": [
    "device = \"cuda:0\" if torch.cuda.is_available() else \"cpu\" #para gpu\n",
    "print(device)"
   ]
  },
  {
   "cell_type": "code",
   "execution_count": 36,
   "metadata": {
    "colab": {
     "base_uri": "https://localhost:8080/"
    },
    "executionInfo": {
     "elapsed": 13,
     "status": "ok",
     "timestamp": 1689916413900,
     "user": {
      "displayName": "Pablo Sánchez Ochando",
      "userId": "07213702614868848965"
     },
     "user_tz": -120
    },
    "id": "xB-TtY2e-KpM",
    "outputId": "4363d6e6-d0fe-4ff6-9385-e4f679eba501"
   },
   "outputs": [
    {
     "data": {
      "text/html": [
       "<div>\n",
       "<style scoped>\n",
       "    .dataframe tbody tr th:only-of-type {\n",
       "        vertical-align: middle;\n",
       "    }\n",
       "\n",
       "    .dataframe tbody tr th {\n",
       "        vertical-align: top;\n",
       "    }\n",
       "\n",
       "    .dataframe thead th {\n",
       "        text-align: right;\n",
       "    }\n",
       "</style>\n",
       "<table border=\"1\" class=\"dataframe\">\n",
       "  <thead>\n",
       "    <tr style=\"text-align: right;\">\n",
       "      <th></th>\n",
       "      <th>Periódico</th>\n",
       "      <th>Hipervínculo</th>\n",
       "      <th>Fecha publicación</th>\n",
       "      <th>Titular</th>\n",
       "      <th>Subtítulo</th>\n",
       "      <th>Cuerpo</th>\n",
       "      <th>Categoría</th>\n",
       "      <th>Target</th>\n",
       "    </tr>\n",
       "  </thead>\n",
       "  <tbody>\n",
       "    <tr>\n",
       "      <th>0</th>\n",
       "      <td>ElDiario.es</td>\n",
       "      <td>https://www.eldiario.es/politica/pp-recupera-l...</td>\n",
       "      <td>2023-07-11</td>\n",
       "      <td>El PP se recupera ligeramente pero sigue sin o...</td>\n",
       "      <td>La estimación de escaños no se mueve en la enc...</td>\n",
       "      <td>El partido popular se recupera muy ligeramente...</td>\n",
       "      <td>politica</td>\n",
       "      <td>0</td>\n",
       "    </tr>\n",
       "    <tr>\n",
       "      <th>1</th>\n",
       "      <td>ElDiario.es</td>\n",
       "      <td>https://www.eldiario.es/politica/58-ciudadanos...</td>\n",
       "      <td>2023-07-11</td>\n",
       "      <td>Un 58% de los ciudadanos critican los pactos c...</td>\n",
       "      <td>El 17,8% de quienes apuestan por Feijóo ven “m...</td>\n",
       "      <td>El PP ha necesitado a Vox para recuperar buena...</td>\n",
       "      <td>politica</td>\n",
       "      <td>0</td>\n",
       "    </tr>\n",
       "    <tr>\n",
       "      <th>2</th>\n",
       "      <td>ElDiario.es</td>\n",
       "      <td>https://www.eldiario.es/politica/diputado-ayus...</td>\n",
       "      <td>2023-07-11</td>\n",
       "      <td>Un diputado de Ayuso reúne a un grupo de vícti...</td>\n",
       "      <td>Daniel Portero trata con urgencia de contrarre...</td>\n",
       "      <td>El diputado del PP en la Asamblea de Madrid Da...</td>\n",
       "      <td>politica</td>\n",
       "      <td>0</td>\n",
       "    </tr>\n",
       "    <tr>\n",
       "      <th>3</th>\n",
       "      <td>ElDiario.es</td>\n",
       "      <td>https://www.eldiario.es/andalucia/almeria/psoe...</td>\n",
       "      <td>2023-07-11</td>\n",
       "      <td>El PSOE de Mójacar recurre ante el Constitucio...</td>\n",
       "      <td>Ya con nuevo alcalde del PP, los socialistas r...</td>\n",
       "      <td>Mojácar retomó el ritmo político con la procla...</td>\n",
       "      <td>andalucia</td>\n",
       "      <td>0</td>\n",
       "    </tr>\n",
       "    <tr>\n",
       "      <th>4</th>\n",
       "      <td>ElDiario.es</td>\n",
       "      <td>https://www.eldiario.es/castilla-la-mancha/pol...</td>\n",
       "      <td>2023-07-11</td>\n",
       "      <td>La exalcaldesa de Toledo pide a Feijóo que fir...</td>\n",
       "      <td>La socialista, también número dos al Congreso,...</td>\n",
       "      <td>La exalcaldesa de Toledo y 'número dos' de la ...</td>\n",
       "      <td>castilla-la-mancha</td>\n",
       "      <td>0</td>\n",
       "    </tr>\n",
       "    <tr>\n",
       "      <th>...</th>\n",
       "      <td>...</td>\n",
       "      <td>...</td>\n",
       "      <td>...</td>\n",
       "      <td>...</td>\n",
       "      <td>...</td>\n",
       "      <td>...</td>\n",
       "      <td>...</td>\n",
       "      <td>...</td>\n",
       "    </tr>\n",
       "    <tr>\n",
       "      <th>4974</th>\n",
       "      <td>HayNoticia.es</td>\n",
       "      <td>https://haynoticia.es/una-empresa-catalana-tri...</td>\n",
       "      <td>2018-11-06</td>\n",
       "      <td>Una empresa catalana triunfa con su papel higi...</td>\n",
       "      <td>NaN</td>\n",
       "      <td>La empresa catalana Banys Nous de Barcelona es...</td>\n",
       "      <td>curiosidades</td>\n",
       "      <td>1</td>\n",
       "    </tr>\n",
       "    <tr>\n",
       "      <th>4975</th>\n",
       "      <td>HayNoticia.es</td>\n",
       "      <td>https://haynoticia.es/hospitalizado-tras-inten...</td>\n",
       "      <td>2018-10-31</td>\n",
       "      <td>Hospitalizado tras intentar sacarse una muela ...</td>\n",
       "      <td>NaN</td>\n",
       "      <td>Sucedió el pasado lunes poco después de las 20...</td>\n",
       "      <td>curiosidades</td>\n",
       "      <td>1</td>\n",
       "    </tr>\n",
       "    <tr>\n",
       "      <th>4976</th>\n",
       "      <td>HayNoticia.es</td>\n",
       "      <td>https://haynoticia.es/lleva-300-bolsas-de-plas...</td>\n",
       "      <td>2018-10-30</td>\n",
       "      <td>Lleva 300 bolsas de plástico a Mercadona para ...</td>\n",
       "      <td>NaN</td>\n",
       "      <td>Un joven ha sido noticia ayer tras presentarse...</td>\n",
       "      <td>curiosidades</td>\n",
       "      <td>1</td>\n",
       "    </tr>\n",
       "    <tr>\n",
       "      <th>4977</th>\n",
       "      <td>HayNoticia.es</td>\n",
       "      <td>https://haynoticia.es/la-dgt-multara-a-los-con...</td>\n",
       "      <td>2018-10-28</td>\n",
       "      <td>La DGT multará a los conductores que no hayan ...</td>\n",
       "      <td>NaN</td>\n",
       "      <td>Este domingo nos ha tocado hacer por segunda v...</td>\n",
       "      <td>curiosidades</td>\n",
       "      <td>1</td>\n",
       "    </tr>\n",
       "    <tr>\n",
       "      <th>4978</th>\n",
       "      <td>HayNoticia.es</td>\n",
       "      <td>https://haynoticia.es/una-sentencia-prohibe-a-...</td>\n",
       "      <td>2018-10-25</td>\n",
       "      <td>Una Sentencia prohibe a los comercios poner vi...</td>\n",
       "      <td>NaN</td>\n",
       "      <td>Así se ha pronunciado la Audiencia Provincial ...</td>\n",
       "      <td>curiosidades</td>\n",
       "      <td>1</td>\n",
       "    </tr>\n",
       "  </tbody>\n",
       "</table>\n",
       "<p>4979 rows × 8 columns</p>\n",
       "</div>"
      ],
      "text/plain": [
       "          Periódico                                       Hipervínculo  \\\n",
       "0       ElDiario.es  https://www.eldiario.es/politica/pp-recupera-l...   \n",
       "1       ElDiario.es  https://www.eldiario.es/politica/58-ciudadanos...   \n",
       "2       ElDiario.es  https://www.eldiario.es/politica/diputado-ayus...   \n",
       "3       ElDiario.es  https://www.eldiario.es/andalucia/almeria/psoe...   \n",
       "4       ElDiario.es  https://www.eldiario.es/castilla-la-mancha/pol...   \n",
       "...             ...                                                ...   \n",
       "4974  HayNoticia.es  https://haynoticia.es/una-empresa-catalana-tri...   \n",
       "4975  HayNoticia.es  https://haynoticia.es/hospitalizado-tras-inten...   \n",
       "4976  HayNoticia.es  https://haynoticia.es/lleva-300-bolsas-de-plas...   \n",
       "4977  HayNoticia.es  https://haynoticia.es/la-dgt-multara-a-los-con...   \n",
       "4978  HayNoticia.es  https://haynoticia.es/una-sentencia-prohibe-a-...   \n",
       "\n",
       "     Fecha publicación                                            Titular  \\\n",
       "0           2023-07-11  El PP se recupera ligeramente pero sigue sin o...   \n",
       "1           2023-07-11  Un 58% de los ciudadanos critican los pactos c...   \n",
       "2           2023-07-11  Un diputado de Ayuso reúne a un grupo de vícti...   \n",
       "3           2023-07-11  El PSOE de Mójacar recurre ante el Constitucio...   \n",
       "4           2023-07-11  La exalcaldesa de Toledo pide a Feijóo que fir...   \n",
       "...                ...                                                ...   \n",
       "4974        2018-11-06  Una empresa catalana triunfa con su papel higi...   \n",
       "4975        2018-10-31  Hospitalizado tras intentar sacarse una muela ...   \n",
       "4976        2018-10-30  Lleva 300 bolsas de plástico a Mercadona para ...   \n",
       "4977        2018-10-28  La DGT multará a los conductores que no hayan ...   \n",
       "4978        2018-10-25  Una Sentencia prohibe a los comercios poner vi...   \n",
       "\n",
       "                                              Subtítulo  \\\n",
       "0     La estimación de escaños no se mueve en la enc...   \n",
       "1     El 17,8% de quienes apuestan por Feijóo ven “m...   \n",
       "2     Daniel Portero trata con urgencia de contrarre...   \n",
       "3     Ya con nuevo alcalde del PP, los socialistas r...   \n",
       "4     La socialista, también número dos al Congreso,...   \n",
       "...                                                 ...   \n",
       "4974                                                NaN   \n",
       "4975                                                NaN   \n",
       "4976                                                NaN   \n",
       "4977                                                NaN   \n",
       "4978                                                NaN   \n",
       "\n",
       "                                                 Cuerpo           Categoría  \\\n",
       "0     El partido popular se recupera muy ligeramente...            politica   \n",
       "1     El PP ha necesitado a Vox para recuperar buena...            politica   \n",
       "2     El diputado del PP en la Asamblea de Madrid Da...            politica   \n",
       "3     Mojácar retomó el ritmo político con la procla...           andalucia   \n",
       "4     La exalcaldesa de Toledo y 'número dos' de la ...  castilla-la-mancha   \n",
       "...                                                 ...                 ...   \n",
       "4974  La empresa catalana Banys Nous de Barcelona es...        curiosidades   \n",
       "4975  Sucedió el pasado lunes poco después de las 20...        curiosidades   \n",
       "4976  Un joven ha sido noticia ayer tras presentarse...        curiosidades   \n",
       "4977  Este domingo nos ha tocado hacer por segunda v...        curiosidades   \n",
       "4978  Así se ha pronunciado la Audiencia Provincial ...        curiosidades   \n",
       "\n",
       "      Target  \n",
       "0          0  \n",
       "1          0  \n",
       "2          0  \n",
       "3          0  \n",
       "4          0  \n",
       "...      ...  \n",
       "4974       1  \n",
       "4975       1  \n",
       "4976       1  \n",
       "4977       1  \n",
       "4978       1  \n",
       "\n",
       "[4979 rows x 8 columns]"
      ]
     },
     "execution_count": 36,
     "metadata": {},
     "output_type": "execute_result"
    }
   ],
   "source": [
    "df = pd.read_csv('dataset_final_actualizacion_mayus2.csv')\n",
    "df"
   ]
  },
  {
   "cell_type": "code",
   "execution_count": 37,
   "metadata": {},
   "outputs": [
    {
     "data": {
      "text/html": [
       "<div>\n",
       "<style scoped>\n",
       "    .dataframe tbody tr th:only-of-type {\n",
       "        vertical-align: middle;\n",
       "    }\n",
       "\n",
       "    .dataframe tbody tr th {\n",
       "        vertical-align: top;\n",
       "    }\n",
       "\n",
       "    .dataframe thead th {\n",
       "        text-align: right;\n",
       "    }\n",
       "</style>\n",
       "<table border=\"1\" class=\"dataframe\">\n",
       "  <thead>\n",
       "    <tr style=\"text-align: right;\">\n",
       "      <th></th>\n",
       "      <th>Periódico</th>\n",
       "      <th>Hipervínculo</th>\n",
       "      <th>Fecha publicación</th>\n",
       "      <th>Titular</th>\n",
       "      <th>Subtítulo</th>\n",
       "      <th>Cuerpo</th>\n",
       "      <th>Categoría</th>\n",
       "      <th>Target</th>\n",
       "      <th>Texto</th>\n",
       "    </tr>\n",
       "  </thead>\n",
       "  <tbody>\n",
       "    <tr>\n",
       "      <th>0</th>\n",
       "      <td>ElDiario.es</td>\n",
       "      <td>https://www.eldiario.es/politica/pp-recupera-l...</td>\n",
       "      <td>2023-07-11</td>\n",
       "      <td>El PP se recupera ligeramente pero sigue sin o...</td>\n",
       "      <td>La estimación de escaños no se mueve en la enc...</td>\n",
       "      <td>El partido popular se recupera muy ligeramente...</td>\n",
       "      <td>politica</td>\n",
       "      <td>0</td>\n",
       "      <td>El PP se recupera ligeramente pero sigue sin o...</td>\n",
       "    </tr>\n",
       "    <tr>\n",
       "      <th>1</th>\n",
       "      <td>ElDiario.es</td>\n",
       "      <td>https://www.eldiario.es/politica/58-ciudadanos...</td>\n",
       "      <td>2023-07-11</td>\n",
       "      <td>Un 58% de los ciudadanos critican los pactos c...</td>\n",
       "      <td>El 17,8% de quienes apuestan por Feijóo ven “m...</td>\n",
       "      <td>El PP ha necesitado a Vox para recuperar buena...</td>\n",
       "      <td>politica</td>\n",
       "      <td>0</td>\n",
       "      <td>Un 58% de los ciudadanos critican los pactos c...</td>\n",
       "    </tr>\n",
       "    <tr>\n",
       "      <th>2</th>\n",
       "      <td>ElDiario.es</td>\n",
       "      <td>https://www.eldiario.es/politica/diputado-ayus...</td>\n",
       "      <td>2023-07-11</td>\n",
       "      <td>Un diputado de Ayuso reúne a un grupo de vícti...</td>\n",
       "      <td>Daniel Portero trata con urgencia de contrarre...</td>\n",
       "      <td>El diputado del PP en la Asamblea de Madrid Da...</td>\n",
       "      <td>politica</td>\n",
       "      <td>0</td>\n",
       "      <td>Un diputado de Ayuso reúne a un grupo de vícti...</td>\n",
       "    </tr>\n",
       "    <tr>\n",
       "      <th>3</th>\n",
       "      <td>ElDiario.es</td>\n",
       "      <td>https://www.eldiario.es/andalucia/almeria/psoe...</td>\n",
       "      <td>2023-07-11</td>\n",
       "      <td>El PSOE de Mójacar recurre ante el Constitucio...</td>\n",
       "      <td>Ya con nuevo alcalde del PP, los socialistas r...</td>\n",
       "      <td>Mojácar retomó el ritmo político con la procla...</td>\n",
       "      <td>andalucia</td>\n",
       "      <td>0</td>\n",
       "      <td>El PSOE de Mójacar recurre ante el Constitucio...</td>\n",
       "    </tr>\n",
       "    <tr>\n",
       "      <th>4</th>\n",
       "      <td>ElDiario.es</td>\n",
       "      <td>https://www.eldiario.es/castilla-la-mancha/pol...</td>\n",
       "      <td>2023-07-11</td>\n",
       "      <td>La exalcaldesa de Toledo pide a Feijóo que fir...</td>\n",
       "      <td>La socialista, también número dos al Congreso,...</td>\n",
       "      <td>La exalcaldesa de Toledo y 'número dos' de la ...</td>\n",
       "      <td>castilla-la-mancha</td>\n",
       "      <td>0</td>\n",
       "      <td>La exalcaldesa de Toledo pide a Feijóo que fir...</td>\n",
       "    </tr>\n",
       "  </tbody>\n",
       "</table>\n",
       "</div>"
      ],
      "text/plain": [
       "     Periódico                                       Hipervínculo  \\\n",
       "0  ElDiario.es  https://www.eldiario.es/politica/pp-recupera-l...   \n",
       "1  ElDiario.es  https://www.eldiario.es/politica/58-ciudadanos...   \n",
       "2  ElDiario.es  https://www.eldiario.es/politica/diputado-ayus...   \n",
       "3  ElDiario.es  https://www.eldiario.es/andalucia/almeria/psoe...   \n",
       "4  ElDiario.es  https://www.eldiario.es/castilla-la-mancha/pol...   \n",
       "\n",
       "  Fecha publicación                                            Titular  \\\n",
       "0        2023-07-11  El PP se recupera ligeramente pero sigue sin o...   \n",
       "1        2023-07-11  Un 58% de los ciudadanos critican los pactos c...   \n",
       "2        2023-07-11  Un diputado de Ayuso reúne a un grupo de vícti...   \n",
       "3        2023-07-11  El PSOE de Mójacar recurre ante el Constitucio...   \n",
       "4        2023-07-11  La exalcaldesa de Toledo pide a Feijóo que fir...   \n",
       "\n",
       "                                           Subtítulo  \\\n",
       "0  La estimación de escaños no se mueve en la enc...   \n",
       "1  El 17,8% de quienes apuestan por Feijóo ven “m...   \n",
       "2  Daniel Portero trata con urgencia de contrarre...   \n",
       "3  Ya con nuevo alcalde del PP, los socialistas r...   \n",
       "4  La socialista, también número dos al Congreso,...   \n",
       "\n",
       "                                              Cuerpo           Categoría  \\\n",
       "0  El partido popular se recupera muy ligeramente...            politica   \n",
       "1  El PP ha necesitado a Vox para recuperar buena...            politica   \n",
       "2  El diputado del PP en la Asamblea de Madrid Da...            politica   \n",
       "3  Mojácar retomó el ritmo político con la procla...           andalucia   \n",
       "4  La exalcaldesa de Toledo y 'número dos' de la ...  castilla-la-mancha   \n",
       "\n",
       "   Target                                              Texto  \n",
       "0       0  El PP se recupera ligeramente pero sigue sin o...  \n",
       "1       0  Un 58% de los ciudadanos critican los pactos c...  \n",
       "2       0  Un diputado de Ayuso reúne a un grupo de vícti...  \n",
       "3       0  El PSOE de Mójacar recurre ante el Constitucio...  \n",
       "4       0  La exalcaldesa de Toledo pide a Feijóo que fir...  "
      ]
     },
     "execution_count": 37,
     "metadata": {},
     "output_type": "execute_result"
    }
   ],
   "source": [
    "df[\"Texto\"] = df.Titular + \" \" + df.Cuerpo\n",
    "df.head()"
   ]
  },
  {
   "cell_type": "code",
   "execution_count": 38,
   "metadata": {},
   "outputs": [],
   "source": [
    "from sklearn.model_selection import train_test_split\n",
    "X_train, X_test, y_train, y_test = train_test_split(df[\"Texto\"].tolist(), \n",
    "                                                  df[\"Target\"].tolist(), \n",
    "                                                  test_size=0.25, \n",
    "                                                  stratify=df[\"Target\"],\n",
    "                                                  random_state=42)"
   ]
  },
  {
   "cell_type": "code",
   "execution_count": 39,
   "metadata": {
    "executionInfo": {
     "elapsed": 10,
     "status": "ok",
     "timestamp": 1689916413901,
     "user": {
      "displayName": "Pablo Sánchez Ochando",
      "userId": "07213702614868848965"
     },
     "user_tz": -120
    },
    "id": "rwg3iDArO4EQ"
   },
   "outputs": [
    {
     "data": {
      "application/vnd.jupyter.widget-view+json": {
       "model_id": "886112df185240c4aa8e0a88b8054371",
       "version_major": 2,
       "version_minor": 0
      },
      "text/plain": [
       "Downloading (…)okenizer_config.json:   0%|          | 0.00/465 [00:00<?, ?B/s]"
      ]
     },
     "metadata": {},
     "output_type": "display_data"
    },
    {
     "data": {
      "application/vnd.jupyter.widget-view+json": {
       "model_id": "8ea158f9c7a14234b90f315c0b908f39",
       "version_major": 2,
       "version_minor": 0
      },
      "text/plain": [
       "Downloading spiece.model:   0%|          | 0.00/798k [00:00<?, ?B/s]"
      ]
     },
     "metadata": {},
     "output_type": "display_data"
    },
    {
     "data": {
      "application/vnd.jupyter.widget-view+json": {
       "model_id": "117112b738cc4e9fb2f818a0a5037bb7",
       "version_major": 2,
       "version_minor": 0
      },
      "text/plain": [
       "Downloading (…)/main/tokenizer.json:   0%|          | 0.00/1.74M [00:00<?, ?B/s]"
      ]
     },
     "metadata": {},
     "output_type": "display_data"
    },
    {
     "data": {
      "application/vnd.jupyter.widget-view+json": {
       "model_id": "8add769e6f194d6fa024618bbf29ec12",
       "version_major": 2,
       "version_minor": 0
      },
      "text/plain": [
       "Downloading (…)cial_tokens_map.json:   0%|          | 0.00/156 [00:00<?, ?B/s]"
      ]
     },
     "metadata": {},
     "output_type": "display_data"
    }
   ],
   "source": [
    "tokenizer = AutoTokenizer.from_pretrained('dccuchile/albert-tiny-spanish')\n",
    "\n",
    "# AHORA EL MODELO SÍ DISTINGUE MAYUSCULAS Y MINUSCULAS"
   ]
  },
  {
   "cell_type": "code",
   "execution_count": 40,
   "metadata": {
    "executionInfo": {
     "elapsed": 16217,
     "status": "ok",
     "timestamp": 1689916430108,
     "user": {
      "displayName": "Pablo Sánchez Ochando",
      "userId": "07213702614868848965"
     },
     "user_tz": -120
    },
    "id": "9pxAiMkUO7QM"
   },
   "outputs": [],
   "source": [
    "train_encodings = tokenizer(X_train, truncation=True, padding=True)\n",
    "test_encodings = tokenizer(X_test, truncation=True, padding=True)"
   ]
  },
  {
   "cell_type": "code",
   "execution_count": 41,
   "metadata": {
    "executionInfo": {
     "elapsed": 38,
     "status": "ok",
     "timestamp": 1689916430109,
     "user": {
      "displayName": "Pablo Sánchez Ochando",
      "userId": "07213702614868848965"
     },
     "user_tz": -120
    },
    "id": "D_urDO7ASqRK"
   },
   "outputs": [],
   "source": [
    "# Crear el dataset personalizado para PyTorch\n",
    "class MyDataset(torch.utils.data.Dataset):\n",
    "    def __init__(self, encodings, labels):\n",
    "        self.encodings = encodings\n",
    "        self.labels = labels\n",
    "\n",
    "    def __getitem__(self, idx):\n",
    "        item = {\n",
    "            'input_ids': torch.tensor(self.encodings['input_ids'][idx]),\n",
    "            'attention_mask': torch.tensor(self.encodings['attention_mask'][idx]),\n",
    "            'labels': torch.tensor(self.labels[idx])\n",
    "        }\n",
    "        return item\n",
    "\n",
    "    def __len__(self):\n",
    "        return len(self.labels)"
   ]
  },
  {
   "cell_type": "code",
   "execution_count": 42,
   "metadata": {
    "executionInfo": {
     "elapsed": 38,
     "status": "ok",
     "timestamp": 1689916430110,
     "user": {
      "displayName": "Pablo Sánchez Ochando",
      "userId": "07213702614868848965"
     },
     "user_tz": -120
    },
    "id": "glXg4KSHS3jW"
   },
   "outputs": [],
   "source": [
    "train_dataset = MyDataset(train_encodings, y_train)\n",
    "test_dataset = MyDataset(test_encodings, y_test)\n"
   ]
  },
  {
   "cell_type": "code",
   "execution_count": 43,
   "metadata": {
    "executionInfo": {
     "elapsed": 38,
     "status": "ok",
     "timestamp": 1689916430111,
     "user": {
      "displayName": "Pablo Sánchez Ochando",
      "userId": "07213702614868848965"
     },
     "user_tz": -120
    },
    "id": "tOdzCFHjS6jl"
   },
   "outputs": [],
   "source": [
    "def compute_metrics(pred):\n",
    "    logits, labels = pred\n",
    "    predictions = np.argmax(logits, axis=1)\n",
    "    return {\"accuracy\": (predictions == labels).mean()}\n"
   ]
  },
  {
   "cell_type": "code",
   "execution_count": 65,
   "metadata": {
    "executionInfo": {
     "elapsed": 38,
     "status": "ok",
     "timestamp": 1689916430111,
     "user": {
      "displayName": "Pablo Sánchez Ochando",
      "userId": "07213702614868848965"
     },
     "user_tz": -120
    },
    "id": "Z8aZb-LkS_nM"
   },
   "outputs": [],
   "source": [
    "# Configurar los argumentos de entrenamiento\n",
    "training_args = TrainingArguments(\n",
    "    per_device_train_batch_size=8,\n",
    "    per_device_eval_batch_size=16,\n",
    "    num_train_epochs=4,\n",
    "    evaluation_strategy=\"epoch\",\n",
    "    output_dir=\"./results\"\n",
    ")"
   ]
  },
  {
   "cell_type": "code",
   "execution_count": 66,
   "metadata": {},
   "outputs": [],
   "source": [
    "torch.cuda.empty_cache()"
   ]
  },
  {
   "cell_type": "code",
   "execution_count": 67,
   "metadata": {
    "colab": {
     "base_uri": "https://localhost:8080/",
     "height": 104,
     "referenced_widgets": [
      "640dcd70d3da4c1589814f7f17d34eb5",
      "74bf8995d9194113a8f504fe6a5ad4d7",
      "704c59fbf6e94026b850ee776a337ad4",
      "5fe1955db1874ec29df56e152ac90d34",
      "171b6b570b7c4867a24a33eebcc8e093",
      "9e04d3ef0a304739b0ca872fc1214fbc",
      "2900824b024b4132bd2df5d39eb10669",
      "ac89865d4039462aa755c788fc9fe395",
      "3e2bdf5f1f9f4f52a0458fa2b3d61e6a",
      "251c33ddbd4e48dc8f296f7b7a8b2003",
      "293a16c12efd406c813c6ed221018972"
     ]
    },
    "executionInfo": {
     "elapsed": 8006,
     "status": "ok",
     "timestamp": 1689924353181,
     "user": {
      "displayName": "Pablo Sánchez Ochando",
      "userId": "07213702614868848965"
     },
     "user_tz": -120
    },
    "id": "FJB2AziQTDp3",
    "outputId": "f63c9635-00d1-44d1-e3cb-7a5a38ea4653"
   },
   "outputs": [
    {
     "name": "stderr",
     "output_type": "stream",
     "text": [
      "Some weights of the model checkpoint at dccuchile/albert-tiny-spanish were not used when initializing AlbertForSequenceClassification: ['predictions.decoder.bias', 'sop_classifier.classifier.bias', 'predictions.LayerNorm.weight', 'predictions.dense.bias', 'sop_classifier.classifier.weight', 'predictions.dense.weight', 'predictions.bias', 'predictions.LayerNorm.bias', 'predictions.decoder.weight']\n",
      "- This IS expected if you are initializing AlbertForSequenceClassification from the checkpoint of a model trained on another task or with another architecture (e.g. initializing a BertForSequenceClassification model from a BertForPreTraining model).\n",
      "- This IS NOT expected if you are initializing AlbertForSequenceClassification from the checkpoint of a model that you expect to be exactly identical (initializing a BertForSequenceClassification model from a BertForSequenceClassification model).\n",
      "Some weights of AlbertForSequenceClassification were not initialized from the model checkpoint at dccuchile/albert-tiny-spanish and are newly initialized: ['classifier.bias', 'classifier.weight']\n",
      "You should probably TRAIN this model on a down-stream task to be able to use it for predictions and inference.\n"
     ]
    }
   ],
   "source": [
    "model = AutoModelForSequenceClassification.from_pretrained('dccuchile/albert-tiny-spanish', num_labels=2).to(device)"
   ]
  },
  {
   "cell_type": "code",
   "execution_count": 68,
   "metadata": {
    "executionInfo": {
     "elapsed": 255,
     "status": "ok",
     "timestamp": 1689924362035,
     "user": {
      "displayName": "Pablo Sánchez Ochando",
      "userId": "07213702614868848965"
     },
     "user_tz": -120
    },
    "id": "KXZ7ZSAjTH-R"
   },
   "outputs": [],
   "source": [
    "# Crear el entrenador y entrenar el modelo\n",
    "trainer = Trainer(\n",
    "    model=model,\n",
    "    args=training_args,\n",
    "    train_dataset=train_dataset,\n",
    "    eval_dataset=test_dataset,\n",
    "    compute_metrics=compute_metrics,\n",
    ")"
   ]
  },
  {
   "cell_type": "code",
   "execution_count": 16,
   "metadata": {},
   "outputs": [
    {
     "data": {
      "text/plain": [
       "<module 'torch.cuda.amp' from 'C:\\\\Users\\\\Usuario\\\\anaconda3\\\\lib\\\\site-packages\\\\torch\\\\cuda\\\\amp\\\\__init__.py'>"
      ]
     },
     "execution_count": 16,
     "metadata": {},
     "output_type": "execute_result"
    }
   ],
   "source": [
    "torch.cuda.amp"
   ]
  },
  {
   "cell_type": "code",
   "execution_count": 69,
   "metadata": {},
   "outputs": [
    {
     "name": "stderr",
     "output_type": "stream",
     "text": [
      "C:\\Users\\Usuario\\anaconda3\\lib\\site-packages\\transformers\\optimization.py:411: FutureWarning: This implementation of AdamW is deprecated and will be removed in a future version. Use the PyTorch implementation torch.optim.AdamW instead, or set `no_deprecation_warning=True` to disable this warning\n",
      "  warnings.warn(\n"
     ]
    },
    {
     "data": {
      "text/html": [
       "\n",
       "    <div>\n",
       "      \n",
       "      <progress value='1868' max='1868' style='width:300px; height:20px; vertical-align: middle;'></progress>\n",
       "      [1868/1868 04:17, Epoch 4/4]\n",
       "    </div>\n",
       "    <table border=\"1\" class=\"dataframe\">\n",
       "  <thead>\n",
       " <tr style=\"text-align: left;\">\n",
       "      <th>Epoch</th>\n",
       "      <th>Training Loss</th>\n",
       "      <th>Validation Loss</th>\n",
       "      <th>Accuracy</th>\n",
       "    </tr>\n",
       "  </thead>\n",
       "  <tbody>\n",
       "    <tr>\n",
       "      <td>1</td>\n",
       "      <td>No log</td>\n",
       "      <td>0.093696</td>\n",
       "      <td>0.980723</td>\n",
       "    </tr>\n",
       "    <tr>\n",
       "      <td>2</td>\n",
       "      <td>0.139100</td>\n",
       "      <td>0.072183</td>\n",
       "      <td>0.985542</td>\n",
       "    </tr>\n",
       "    <tr>\n",
       "      <td>3</td>\n",
       "      <td>0.045800</td>\n",
       "      <td>0.047083</td>\n",
       "      <td>0.989558</td>\n",
       "    </tr>\n",
       "    <tr>\n",
       "      <td>4</td>\n",
       "      <td>0.019000</td>\n",
       "      <td>0.042895</td>\n",
       "      <td>0.989558</td>\n",
       "    </tr>\n",
       "  </tbody>\n",
       "</table><p>"
      ],
      "text/plain": [
       "<IPython.core.display.HTML object>"
      ]
     },
     "metadata": {},
     "output_type": "display_data"
    },
    {
     "data": {
      "text/plain": [
       "TrainOutput(global_step=1868, training_loss=0.05624395889694737, metrics={'train_runtime': 258.2766, 'train_samples_per_second': 57.829, 'train_steps_per_second': 7.233, 'total_flos': 60151750410240.0, 'train_loss': 0.05624395889694737, 'epoch': 4.0})"
      ]
     },
     "execution_count": 69,
     "metadata": {},
     "output_type": "execute_result"
    }
   ],
   "source": [
    "trainer.train() # bacth size = 8, epochs =4"
   ]
  },
  {
   "cell_type": "code",
   "execution_count": 63,
   "metadata": {},
   "outputs": [
    {
     "name": "stderr",
     "output_type": "stream",
     "text": [
      "C:\\Users\\Usuario\\anaconda3\\lib\\site-packages\\transformers\\optimization.py:411: FutureWarning: This implementation of AdamW is deprecated and will be removed in a future version. Use the PyTorch implementation torch.optim.AdamW instead, or set `no_deprecation_warning=True` to disable this warning\n",
      "  warnings.warn(\n"
     ]
    },
    {
     "data": {
      "text/html": [
       "\n",
       "    <div>\n",
       "      \n",
       "      <progress value='702' max='702' style='width:300px; height:20px; vertical-align: middle;'></progress>\n",
       "      [702/702 02:37, Epoch 3/3]\n",
       "    </div>\n",
       "    <table border=\"1\" class=\"dataframe\">\n",
       "  <thead>\n",
       " <tr style=\"text-align: left;\">\n",
       "      <th>Epoch</th>\n",
       "      <th>Training Loss</th>\n",
       "      <th>Validation Loss</th>\n",
       "      <th>Accuracy</th>\n",
       "    </tr>\n",
       "  </thead>\n",
       "  <tbody>\n",
       "    <tr>\n",
       "      <td>1</td>\n",
       "      <td>No log</td>\n",
       "      <td>0.097129</td>\n",
       "      <td>0.971888</td>\n",
       "    </tr>\n",
       "    <tr>\n",
       "      <td>2</td>\n",
       "      <td>No log</td>\n",
       "      <td>0.074418</td>\n",
       "      <td>0.982329</td>\n",
       "    </tr>\n",
       "    <tr>\n",
       "      <td>3</td>\n",
       "      <td>0.103900</td>\n",
       "      <td>0.069552</td>\n",
       "      <td>0.982329</td>\n",
       "    </tr>\n",
       "  </tbody>\n",
       "</table><p>"
      ],
      "text/plain": [
       "<IPython.core.display.HTML object>"
      ]
     },
     "metadata": {},
     "output_type": "display_data"
    },
    {
     "data": {
      "text/plain": [
       "TrainOutput(global_step=702, training_loss=0.08451372334080884, metrics={'train_runtime': 157.8143, 'train_samples_per_second': 70.982, 'train_steps_per_second': 4.448, 'total_flos': 45113812807680.0, 'train_loss': 0.08451372334080884, 'epoch': 3.0})"
      ]
     },
     "execution_count": 63,
     "metadata": {},
     "output_type": "execute_result"
    }
   ],
   "source": [
    "trainer.train() # bacth size = 16, epochs =3"
   ]
  },
  {
   "cell_type": "code",
   "execution_count": 48,
   "metadata": {
    "colab": {
     "base_uri": "https://localhost:8080/",
     "height": 276
    },
    "executionInfo": {
     "elapsed": 1194106,
     "status": "ok",
     "timestamp": 1689925558046,
     "user": {
      "displayName": "Pablo Sánchez Ochando",
      "userId": "07213702614868848965"
     },
     "user_tz": -120
    },
    "id": "nxmouQVdUAAn",
    "outputId": "cc66aa67-afa2-4040-f711-b36a4a29274e"
   },
   "outputs": [
    {
     "name": "stderr",
     "output_type": "stream",
     "text": [
      "C:\\Users\\Usuario\\anaconda3\\lib\\site-packages\\transformers\\optimization.py:411: FutureWarning: This implementation of AdamW is deprecated and will be removed in a future version. Use the PyTorch implementation torch.optim.AdamW instead, or set `no_deprecation_warning=True` to disable this warning\n",
      "  warnings.warn(\n"
     ]
    },
    {
     "data": {
      "text/html": [
       "\n",
       "    <div>\n",
       "      \n",
       "      <progress value='1869' max='1869' style='width:300px; height:20px; vertical-align: middle;'></progress>\n",
       "      [1869/1869 02:48, Epoch 3/3]\n",
       "    </div>\n",
       "    <table border=\"1\" class=\"dataframe\">\n",
       "  <thead>\n",
       " <tr style=\"text-align: left;\">\n",
       "      <th>Epoch</th>\n",
       "      <th>Training Loss</th>\n",
       "      <th>Validation Loss</th>\n",
       "      <th>Accuracy</th>\n",
       "    </tr>\n",
       "  </thead>\n",
       "  <tbody>\n",
       "    <tr>\n",
       "      <td>1</td>\n",
       "      <td>0.171300</td>\n",
       "      <td>0.084252</td>\n",
       "      <td>0.983133</td>\n",
       "    </tr>\n",
       "    <tr>\n",
       "      <td>2</td>\n",
       "      <td>0.056900</td>\n",
       "      <td>0.074454</td>\n",
       "      <td>0.984739</td>\n",
       "    </tr>\n",
       "    <tr>\n",
       "      <td>3</td>\n",
       "      <td>0.032600</td>\n",
       "      <td>0.057849</td>\n",
       "      <td>0.987149</td>\n",
       "    </tr>\n",
       "  </tbody>\n",
       "</table><p>"
      ],
      "text/plain": [
       "<IPython.core.display.HTML object>"
      ]
     },
     "metadata": {},
     "output_type": "display_data"
    },
    {
     "data": {
      "text/plain": [
       "TrainOutput(global_step=1869, training_loss=0.07367581795600087, metrics={'train_runtime': 169.3547, 'train_samples_per_second': 66.145, 'train_steps_per_second': 11.036, 'total_flos': 45113812807680.0, 'train_loss': 0.07367581795600087, 'epoch': 3.0})"
      ]
     },
     "execution_count": 48,
     "metadata": {},
     "output_type": "execute_result"
    }
   ],
   "source": [
    "trainer.train() # bacth size = 6, epochs = 3"
   ]
  },
  {
   "cell_type": "code",
   "execution_count": 18,
   "metadata": {
    "executionInfo": {
     "elapsed": 238,
     "status": "ok",
     "timestamp": 1689924237703,
     "user": {
      "displayName": "Pablo Sánchez Ochando",
      "userId": "07213702614868848965"
     },
     "user_tz": -120
    },
    "id": "rKKTN_p4UJS0"
   },
   "outputs": [],
   "source": [
    "test_preds = []\n",
    "for i in range(len(X_test)):\n",
    "    val_encoding = tokenizer(X_test.iloc[i], truncation=True, padding=True, return_tensors=\"pt\").to(device)\n",
    "    outputs = model(**val_encoding)\n",
    "    logits = outputs.logits.cpu().detach().numpy()\n",
    "    test_preds.append(np.argmax(logits))"
   ]
  },
  {
   "cell_type": "code",
   "execution_count": 70,
   "metadata": {
    "colab": {
     "base_uri": "https://localhost:8080/",
     "height": 72
    },
    "executionInfo": {
     "elapsed": 117985,
     "status": "ok",
     "timestamp": 1689927138226,
     "user": {
      "displayName": "Pablo Sánchez Ochando",
      "userId": "07213702614868848965"
     },
     "user_tz": -120
    },
    "id": "vBP6fvdYXlHg",
    "outputId": "d9abc417-0347-48e6-dff1-202e9d563f34"
   },
   "outputs": [
    {
     "data": {
      "text/html": [
       "\n",
       "    <div>\n",
       "      \n",
       "      <progress value='234' max='234' style='width:300px; height:20px; vertical-align: middle;'></progress>\n",
       "      [234/234 00:17]\n",
       "    </div>\n",
       "    "
      ],
      "text/plain": [
       "<IPython.core.display.HTML object>"
      ]
     },
     "metadata": {},
     "output_type": "display_data"
    },
    {
     "data": {
      "text/plain": [
       "0.9989287627209427"
      ]
     },
     "execution_count": 70,
     "metadata": {},
     "output_type": "execute_result"
    }
   ],
   "source": [
    "# bacth size = 8, epochs = 4\n",
    "print('accuracy del train:')\n",
    "trainer.evaluate(train_dataset)['eval_accuracy']"
   ]
  },
  {
   "cell_type": "code",
   "execution_count": 49,
   "metadata": {
    "colab": {
     "base_uri": "https://localhost:8080/",
     "height": 72
    },
    "executionInfo": {
     "elapsed": 117985,
     "status": "ok",
     "timestamp": 1689927138226,
     "user": {
      "displayName": "Pablo Sánchez Ochando",
      "userId": "07213702614868848965"
     },
     "user_tz": -120
    },
    "id": "vBP6fvdYXlHg",
    "outputId": "d9abc417-0347-48e6-dff1-202e9d563f34"
   },
   "outputs": [
    {
     "name": "stdout",
     "output_type": "stream",
     "text": [
      "accuracy del train:\n"
     ]
    },
    {
     "data": {
      "text/html": [
       "\n",
       "    <div>\n",
       "      \n",
       "      <progress value='312' max='234' style='width:300px; height:20px; vertical-align: middle;'></progress>\n",
       "      [234/234 00:39]\n",
       "    </div>\n",
       "    "
      ],
      "text/plain": [
       "<IPython.core.display.HTML object>"
      ]
     },
     "metadata": {},
     "output_type": "display_data"
    },
    {
     "data": {
      "text/plain": [
       "0.9970540974825924"
      ]
     },
     "execution_count": 49,
     "metadata": {},
     "output_type": "execute_result"
    }
   ],
   "source": [
    "# bacth size = 6, epochs = 3\n",
    "print('accuracy del train:')\n",
    "trainer.evaluate(train_dataset)['eval_accuracy']"
   ]
  },
  {
   "cell_type": "code",
   "execution_count": 50,
   "metadata": {
    "colab": {
     "base_uri": "https://localhost:8080/",
     "height": 72
    },
    "executionInfo": {
     "elapsed": 50217,
     "status": "ok",
     "timestamp": 1689927189195,
     "user": {
      "displayName": "Pablo Sánchez Ochando",
      "userId": "07213702614868848965"
     },
     "user_tz": -120
    },
    "id": "D2AQZzMdXkBB",
    "outputId": "b3fcc52c-d3a4-4744-f91e-731ec079c883"
   },
   "outputs": [
    {
     "name": "stdout",
     "output_type": "stream",
     "text": [
      "accuracy del test:\n"
     ]
    },
    {
     "data": {
      "text/plain": [
       "0.98714859437751"
      ]
     },
     "execution_count": 50,
     "metadata": {},
     "output_type": "execute_result"
    }
   ],
   "source": [
    "print('accuracy del test:')\n",
    "trainer.evaluate(test_dataset)['eval_accuracy']"
   ]
  },
  {
   "cell_type": "markdown",
   "metadata": {
    "executionInfo": {
     "elapsed": 40,
     "status": "ok",
     "timestamp": 1689917696784,
     "user": {
      "displayName": "Pablo Sánchez Ochando",
      "userId": "07213702614868848965"
     },
     "user_tz": -120
    },
    "id": "62Q5RyqsXj15"
   },
   "source": [
    "# Loguearse en HuggingFace y guardar mi modelo"
   ]
  },
  {
   "cell_type": "code",
   "execution_count": 52,
   "metadata": {
    "executionInfo": {
     "elapsed": 39,
     "status": "ok",
     "timestamp": 1689917696784,
     "user": {
      "displayName": "Pablo Sánchez Ochando",
      "userId": "07213702614868848965"
     },
     "user_tz": -120
    },
    "id": "tv7YJ3UuWzlz"
   },
   "outputs": [
    {
     "data": {
      "application/vnd.jupyter.widget-view+json": {
       "model_id": "d9bf6a1af9c54f739df155f29471201c",
       "version_major": 2,
       "version_minor": 0
      },
      "text/plain": [
       "VBox(children=(HTML(value='<center> <img\\nsrc=https://huggingface.co/front/assets/huggingface_logo-noborder.sv…"
      ]
     },
     "metadata": {},
     "output_type": "display_data"
    }
   ],
   "source": [
    "from huggingface_hub import notebook_login\n",
    "notebook_login()"
   ]
  },
  {
   "cell_type": "code",
   "execution_count": 53,
   "metadata": {},
   "outputs": [
    {
     "data": {
      "application/vnd.jupyter.widget-view+json": {
       "model_id": "b9c69a0a75b947cc80c2dd90c60bcaba",
       "version_major": 2,
       "version_minor": 0
      },
      "text/plain": [
       "pytorch_model.bin:   0%|          | 0.00/21.4M [00:00<?, ?B/s]"
      ]
     },
     "metadata": {},
     "output_type": "display_data"
    },
    {
     "data": {
      "text/plain": [
       "CommitInfo(commit_url='https://huggingface.co/natsanchezc/albert-tiny-spanish-fakenews/commit/959349d438034bfc71c80a703e995f6e4b1fac63', commit_message='Upload AlbertForSequenceClassification', commit_description='', oid='959349d438034bfc71c80a703e995f6e4b1fac63', pr_url=None, pr_revision=None, pr_num=None)"
      ]
     },
     "execution_count": 53,
     "metadata": {},
     "output_type": "execute_result"
    }
   ],
   "source": [
    "model.push_to_hub(\"albert-tiny-spanish-fakenews\")"
   ]
  },
  {
   "cell_type": "code",
   "execution_count": 54,
   "metadata": {},
   "outputs": [
    {
     "data": {
      "application/vnd.jupyter.widget-view+json": {
       "model_id": "a4531d8e60b4485aaaefeaabf4ebfb64",
       "version_major": 2,
       "version_minor": 0
      },
      "text/plain": [
       "spiece.model:   0%|          | 0.00/798k [00:00<?, ?B/s]"
      ]
     },
     "metadata": {},
     "output_type": "display_data"
    },
    {
     "data": {
      "text/plain": [
       "CommitInfo(commit_url='https://huggingface.co/natsanchezc/albert-tiny-spanish-fakenews/commit/2193c8e18e7fcfd37ee469a387c6fbe50e11e621', commit_message='Upload tokenizer', commit_description='', oid='2193c8e18e7fcfd37ee469a387c6fbe50e11e621', pr_url=None, pr_revision=None, pr_num=None)"
      ]
     },
     "execution_count": 54,
     "metadata": {},
     "output_type": "execute_result"
    }
   ],
   "source": [
    "tokenizer.push_to_hub(\"albert-tiny-spanish-fakenews\")"
   ]
  },
  {
   "cell_type": "markdown",
   "metadata": {},
   "source": [
    "# Cargar el modelo desde HuggingFace "
   ]
  },
  {
   "cell_type": "code",
   "execution_count": null,
   "metadata": {},
   "outputs": [],
   "source": [
    "import pandas as pd\n",
    "import torch\n",
    "import numpy as np\n",
    "from transformers import AutoTokenizer, AutoModelForSequenceClassification, Trainer, TrainingArguments"
   ]
  },
  {
   "cell_type": "code",
   "execution_count": null,
   "metadata": {},
   "outputs": [],
   "source": [
    "model = AutoModelForSequenceClassification.from_pretrained(\"natsanchezc/albert-tiny-spanish-fakenews\").to(device)"
   ]
  }
 ],
 "metadata": {
  "accelerator": "GPU",
  "colab": {
   "authorship_tag": "ABX9TyPzcNbI/SS3XQkJJl9h69Bs",
   "gpuType": "T4",
   "provenance": []
  },
  "kernelspec": {
   "display_name": "Python 3 (ipykernel)",
   "language": "python",
   "name": "python3"
  },
  "language_info": {
   "codemirror_mode": {
    "name": "ipython",
    "version": 3
   },
   "file_extension": ".py",
   "mimetype": "text/x-python",
   "name": "python",
   "nbconvert_exporter": "python",
   "pygments_lexer": "ipython3",
   "version": "3.10.9"
  },
  "widgets": {
   "application/vnd.jupyter.widget-state+json": {
    "171b6b570b7c4867a24a33eebcc8e093": {
     "model_module": "@jupyter-widgets/base",
     "model_module_version": "1.2.0",
     "model_name": "LayoutModel",
     "state": {
      "_model_module": "@jupyter-widgets/base",
      "_model_module_version": "1.2.0",
      "_model_name": "LayoutModel",
      "_view_count": null,
      "_view_module": "@jupyter-widgets/base",
      "_view_module_version": "1.2.0",
      "_view_name": "LayoutView",
      "align_content": null,
      "align_items": null,
      "align_self": null,
      "border": null,
      "bottom": null,
      "display": null,
      "flex": null,
      "flex_flow": null,
      "grid_area": null,
      "grid_auto_columns": null,
      "grid_auto_flow": null,
      "grid_auto_rows": null,
      "grid_column": null,
      "grid_gap": null,
      "grid_row": null,
      "grid_template_areas": null,
      "grid_template_columns": null,
      "grid_template_rows": null,
      "height": null,
      "justify_content": null,
      "justify_items": null,
      "left": null,
      "margin": null,
      "max_height": null,
      "max_width": null,
      "min_height": null,
      "min_width": null,
      "object_fit": null,
      "object_position": null,
      "order": null,
      "overflow": null,
      "overflow_x": null,
      "overflow_y": null,
      "padding": null,
      "right": null,
      "top": null,
      "visibility": null,
      "width": null
     }
    },
    "251c33ddbd4e48dc8f296f7b7a8b2003": {
     "model_module": "@jupyter-widgets/base",
     "model_module_version": "1.2.0",
     "model_name": "LayoutModel",
     "state": {
      "_model_module": "@jupyter-widgets/base",
      "_model_module_version": "1.2.0",
      "_model_name": "LayoutModel",
      "_view_count": null,
      "_view_module": "@jupyter-widgets/base",
      "_view_module_version": "1.2.0",
      "_view_name": "LayoutView",
      "align_content": null,
      "align_items": null,
      "align_self": null,
      "border": null,
      "bottom": null,
      "display": null,
      "flex": null,
      "flex_flow": null,
      "grid_area": null,
      "grid_auto_columns": null,
      "grid_auto_flow": null,
      "grid_auto_rows": null,
      "grid_column": null,
      "grid_gap": null,
      "grid_row": null,
      "grid_template_areas": null,
      "grid_template_columns": null,
      "grid_template_rows": null,
      "height": null,
      "justify_content": null,
      "justify_items": null,
      "left": null,
      "margin": null,
      "max_height": null,
      "max_width": null,
      "min_height": null,
      "min_width": null,
      "object_fit": null,
      "object_position": null,
      "order": null,
      "overflow": null,
      "overflow_x": null,
      "overflow_y": null,
      "padding": null,
      "right": null,
      "top": null,
      "visibility": null,
      "width": null
     }
    },
    "2900824b024b4132bd2df5d39eb10669": {
     "model_module": "@jupyter-widgets/controls",
     "model_module_version": "1.5.0",
     "model_name": "DescriptionStyleModel",
     "state": {
      "_model_module": "@jupyter-widgets/controls",
      "_model_module_version": "1.5.0",
      "_model_name": "DescriptionStyleModel",
      "_view_count": null,
      "_view_module": "@jupyter-widgets/base",
      "_view_module_version": "1.2.0",
      "_view_name": "StyleView",
      "description_width": ""
     }
    },
    "293a16c12efd406c813c6ed221018972": {
     "model_module": "@jupyter-widgets/controls",
     "model_module_version": "1.5.0",
     "model_name": "DescriptionStyleModel",
     "state": {
      "_model_module": "@jupyter-widgets/controls",
      "_model_module_version": "1.5.0",
      "_model_name": "DescriptionStyleModel",
      "_view_count": null,
      "_view_module": "@jupyter-widgets/base",
      "_view_module_version": "1.2.0",
      "_view_name": "StyleView",
      "description_width": ""
     }
    },
    "3e2bdf5f1f9f4f52a0458fa2b3d61e6a": {
     "model_module": "@jupyter-widgets/controls",
     "model_module_version": "1.5.0",
     "model_name": "ProgressStyleModel",
     "state": {
      "_model_module": "@jupyter-widgets/controls",
      "_model_module_version": "1.5.0",
      "_model_name": "ProgressStyleModel",
      "_view_count": null,
      "_view_module": "@jupyter-widgets/base",
      "_view_module_version": "1.2.0",
      "_view_name": "StyleView",
      "bar_color": null,
      "description_width": ""
     }
    },
    "5fe1955db1874ec29df56e152ac90d34": {
     "model_module": "@jupyter-widgets/controls",
     "model_module_version": "1.5.0",
     "model_name": "HTMLModel",
     "state": {
      "_dom_classes": [],
      "_model_module": "@jupyter-widgets/controls",
      "_model_module_version": "1.5.0",
      "_model_name": "HTMLModel",
      "_view_count": null,
      "_view_module": "@jupyter-widgets/controls",
      "_view_module_version": "1.5.0",
      "_view_name": "HTMLView",
      "description": "",
      "description_tooltip": null,
      "layout": "IPY_MODEL_251c33ddbd4e48dc8f296f7b7a8b2003",
      "placeholder": "​",
      "style": "IPY_MODEL_293a16c12efd406c813c6ed221018972",
      "value": " 436M/436M [00:06&lt;00:00, 101MB/s]"
     }
    },
    "640dcd70d3da4c1589814f7f17d34eb5": {
     "model_module": "@jupyter-widgets/controls",
     "model_module_version": "1.5.0",
     "model_name": "HBoxModel",
     "state": {
      "_dom_classes": [],
      "_model_module": "@jupyter-widgets/controls",
      "_model_module_version": "1.5.0",
      "_model_name": "HBoxModel",
      "_view_count": null,
      "_view_module": "@jupyter-widgets/controls",
      "_view_module_version": "1.5.0",
      "_view_name": "HBoxView",
      "box_style": "",
      "children": [
       "IPY_MODEL_74bf8995d9194113a8f504fe6a5ad4d7",
       "IPY_MODEL_704c59fbf6e94026b850ee776a337ad4",
       "IPY_MODEL_5fe1955db1874ec29df56e152ac90d34"
      ],
      "layout": "IPY_MODEL_171b6b570b7c4867a24a33eebcc8e093"
     }
    },
    "704c59fbf6e94026b850ee776a337ad4": {
     "model_module": "@jupyter-widgets/controls",
     "model_module_version": "1.5.0",
     "model_name": "FloatProgressModel",
     "state": {
      "_dom_classes": [],
      "_model_module": "@jupyter-widgets/controls",
      "_model_module_version": "1.5.0",
      "_model_name": "FloatProgressModel",
      "_view_count": null,
      "_view_module": "@jupyter-widgets/controls",
      "_view_module_version": "1.5.0",
      "_view_name": "ProgressView",
      "bar_style": "success",
      "description": "",
      "description_tooltip": null,
      "layout": "IPY_MODEL_ac89865d4039462aa755c788fc9fe395",
      "max": 435755784,
      "min": 0,
      "orientation": "horizontal",
      "style": "IPY_MODEL_3e2bdf5f1f9f4f52a0458fa2b3d61e6a",
      "value": 435755784
     }
    },
    "74bf8995d9194113a8f504fe6a5ad4d7": {
     "model_module": "@jupyter-widgets/controls",
     "model_module_version": "1.5.0",
     "model_name": "HTMLModel",
     "state": {
      "_dom_classes": [],
      "_model_module": "@jupyter-widgets/controls",
      "_model_module_version": "1.5.0",
      "_model_name": "HTMLModel",
      "_view_count": null,
      "_view_module": "@jupyter-widgets/controls",
      "_view_module_version": "1.5.0",
      "_view_name": "HTMLView",
      "description": "",
      "description_tooltip": null,
      "layout": "IPY_MODEL_9e04d3ef0a304739b0ca872fc1214fbc",
      "placeholder": "​",
      "style": "IPY_MODEL_2900824b024b4132bd2df5d39eb10669",
      "value": "Downloading model.safetensors: 100%"
     }
    },
    "9e04d3ef0a304739b0ca872fc1214fbc": {
     "model_module": "@jupyter-widgets/base",
     "model_module_version": "1.2.0",
     "model_name": "LayoutModel",
     "state": {
      "_model_module": "@jupyter-widgets/base",
      "_model_module_version": "1.2.0",
      "_model_name": "LayoutModel",
      "_view_count": null,
      "_view_module": "@jupyter-widgets/base",
      "_view_module_version": "1.2.0",
      "_view_name": "LayoutView",
      "align_content": null,
      "align_items": null,
      "align_self": null,
      "border": null,
      "bottom": null,
      "display": null,
      "flex": null,
      "flex_flow": null,
      "grid_area": null,
      "grid_auto_columns": null,
      "grid_auto_flow": null,
      "grid_auto_rows": null,
      "grid_column": null,
      "grid_gap": null,
      "grid_row": null,
      "grid_template_areas": null,
      "grid_template_columns": null,
      "grid_template_rows": null,
      "height": null,
      "justify_content": null,
      "justify_items": null,
      "left": null,
      "margin": null,
      "max_height": null,
      "max_width": null,
      "min_height": null,
      "min_width": null,
      "object_fit": null,
      "object_position": null,
      "order": null,
      "overflow": null,
      "overflow_x": null,
      "overflow_y": null,
      "padding": null,
      "right": null,
      "top": null,
      "visibility": null,
      "width": null
     }
    },
    "ac89865d4039462aa755c788fc9fe395": {
     "model_module": "@jupyter-widgets/base",
     "model_module_version": "1.2.0",
     "model_name": "LayoutModel",
     "state": {
      "_model_module": "@jupyter-widgets/base",
      "_model_module_version": "1.2.0",
      "_model_name": "LayoutModel",
      "_view_count": null,
      "_view_module": "@jupyter-widgets/base",
      "_view_module_version": "1.2.0",
      "_view_name": "LayoutView",
      "align_content": null,
      "align_items": null,
      "align_self": null,
      "border": null,
      "bottom": null,
      "display": null,
      "flex": null,
      "flex_flow": null,
      "grid_area": null,
      "grid_auto_columns": null,
      "grid_auto_flow": null,
      "grid_auto_rows": null,
      "grid_column": null,
      "grid_gap": null,
      "grid_row": null,
      "grid_template_areas": null,
      "grid_template_columns": null,
      "grid_template_rows": null,
      "height": null,
      "justify_content": null,
      "justify_items": null,
      "left": null,
      "margin": null,
      "max_height": null,
      "max_width": null,
      "min_height": null,
      "min_width": null,
      "object_fit": null,
      "object_position": null,
      "order": null,
      "overflow": null,
      "overflow_x": null,
      "overflow_y": null,
      "padding": null,
      "right": null,
      "top": null,
      "visibility": null,
      "width": null
     }
    }
   }
  }
 },
 "nbformat": 4,
 "nbformat_minor": 4
}
