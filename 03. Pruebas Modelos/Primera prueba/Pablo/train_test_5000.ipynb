{
 "cells": [
  {
   "cell_type": "code",
   "execution_count": 1,
   "id": "04cd8af1-381b-42a7-8f65-23f789cd7fa8",
   "metadata": {},
   "outputs": [
    {
     "name": "stdout",
     "output_type": "stream",
     "text": [
      "<class 'pandas.core.frame.DataFrame'>\n",
      "RangeIndex: 4979 entries, 0 to 4978\n",
      "Data columns (total 8 columns):\n",
      " #   Column             Non-Null Count  Dtype \n",
      "---  ------             --------------  ----- \n",
      " 0   Periódico          4979 non-null   object\n",
      " 1   Hipervínculo       4979 non-null   object\n",
      " 2   Fecha publicación  4976 non-null   object\n",
      " 3   Titular            4979 non-null   object\n",
      " 4   Subtítulo          3918 non-null   object\n",
      " 5   Cuerpo             4979 non-null   object\n",
      " 6   Categoría          3437 non-null   object\n",
      " 7   Target             4979 non-null   int64 \n",
      "dtypes: int64(1), object(7)\n",
      "memory usage: 311.3+ KB\n",
      "None\n"
     ]
    }
   ],
   "source": [
    "import pandas as pd\n",
    "import numpy as np\n",
    "\n",
    "df = pd.read_csv('dataset_final_actualizacion2.csv')\n",
    "print(df.info())\n",
    "df.head()\n",
    "df1 = df[['Titular', 'Subtítulo', 'Cuerpo', 'Periódico']]\n",
    "\n",
    "# df1.to_csv('data_5000.csv', index = False)"
   ]
  },
  {
   "cell_type": "code",
   "execution_count": 2,
   "id": "10100dbf-529b-4869-a249-05b361f8c6f1",
   "metadata": {},
   "outputs": [
    {
     "data": {
      "text/html": [
       "<div>\n",
       "<style scoped>\n",
       "    .dataframe tbody tr th:only-of-type {\n",
       "        vertical-align: middle;\n",
       "    }\n",
       "\n",
       "    .dataframe tbody tr th {\n",
       "        vertical-align: top;\n",
       "    }\n",
       "\n",
       "    .dataframe thead th {\n",
       "        text-align: right;\n",
       "    }\n",
       "</style>\n",
       "<table border=\"1\" class=\"dataframe\">\n",
       "  <thead>\n",
       "    <tr style=\"text-align: right;\">\n",
       "      <th></th>\n",
       "      <th>Titular</th>\n",
       "      <th>Subtítulo</th>\n",
       "      <th>Cuerpo</th>\n",
       "      <th>Periódico</th>\n",
       "    </tr>\n",
       "  </thead>\n",
       "  <tbody>\n",
       "    <tr>\n",
       "      <th>0</th>\n",
       "      <td>el pp se recupera ligeramente pero sigue sin o...</td>\n",
       "      <td>la estimación de escaños no se mueve en la enc...</td>\n",
       "      <td>el partido popular se recupera muy ligeramente...</td>\n",
       "      <td>ElDiario.es</td>\n",
       "    </tr>\n",
       "    <tr>\n",
       "      <th>1</th>\n",
       "      <td>un 58% de los ciudadanos critican los pactos c...</td>\n",
       "      <td>el 17,8% de quienes apuestan por feijóo ven “m...</td>\n",
       "      <td>el pp ha necesitado a vox para recuperar buena...</td>\n",
       "      <td>ElDiario.es</td>\n",
       "    </tr>\n",
       "    <tr>\n",
       "      <th>2</th>\n",
       "      <td>un diputado de ayuso reúne a un grupo de vícti...</td>\n",
       "      <td>daniel portero trata con urgencia de contrarre...</td>\n",
       "      <td>el diputado del pp en la asamblea de madrid da...</td>\n",
       "      <td>ElDiario.es</td>\n",
       "    </tr>\n",
       "    <tr>\n",
       "      <th>3</th>\n",
       "      <td>el psoe de mójacar recurre ante el constitucio...</td>\n",
       "      <td>ya con nuevo alcalde del pp, los socialistas r...</td>\n",
       "      <td>mojácar retomó el ritmo político con la procla...</td>\n",
       "      <td>ElDiario.es</td>\n",
       "    </tr>\n",
       "    <tr>\n",
       "      <th>4</th>\n",
       "      <td>la exalcaldesa de toledo pide a feijóo que fir...</td>\n",
       "      <td>la socialista, también número dos al congreso,...</td>\n",
       "      <td>la exalcaldesa de toledo y 'número dos' de la ...</td>\n",
       "      <td>ElDiario.es</td>\n",
       "    </tr>\n",
       "    <tr>\n",
       "      <th>...</th>\n",
       "      <td>...</td>\n",
       "      <td>...</td>\n",
       "      <td>...</td>\n",
       "      <td>...</td>\n",
       "    </tr>\n",
       "    <tr>\n",
       "      <th>4974</th>\n",
       "      <td>una empresa catalana triunfa con su papel higi...</td>\n",
       "      <td>NaN</td>\n",
       "      <td>la empresa catalana banys nous de barcelona es...</td>\n",
       "      <td>HayNoticia.es</td>\n",
       "    </tr>\n",
       "    <tr>\n",
       "      <th>4975</th>\n",
       "      <td>hospitalizado tras intentar sacarse una muela ...</td>\n",
       "      <td>NaN</td>\n",
       "      <td>sucedió el pasado lunes poco después de las 20...</td>\n",
       "      <td>HayNoticia.es</td>\n",
       "    </tr>\n",
       "    <tr>\n",
       "      <th>4976</th>\n",
       "      <td>lleva 300 bolsas de plástico a mercadona para ...</td>\n",
       "      <td>NaN</td>\n",
       "      <td>un joven ha sido noticia ayer tras presentarse...</td>\n",
       "      <td>HayNoticia.es</td>\n",
       "    </tr>\n",
       "    <tr>\n",
       "      <th>4977</th>\n",
       "      <td>la dgt multará a los conductores que no hayan ...</td>\n",
       "      <td>NaN</td>\n",
       "      <td>este domingo nos ha tocado hacer por segunda v...</td>\n",
       "      <td>HayNoticia.es</td>\n",
       "    </tr>\n",
       "    <tr>\n",
       "      <th>4978</th>\n",
       "      <td>una sentencia prohibe a los comercios poner vi...</td>\n",
       "      <td>NaN</td>\n",
       "      <td>así se ha pronunciado la audiencia provincial ...</td>\n",
       "      <td>HayNoticia.es</td>\n",
       "    </tr>\n",
       "  </tbody>\n",
       "</table>\n",
       "<p>4979 rows × 4 columns</p>\n",
       "</div>"
      ],
      "text/plain": [
       "                                                Titular  \\\n",
       "0     el pp se recupera ligeramente pero sigue sin o...   \n",
       "1     un 58% de los ciudadanos critican los pactos c...   \n",
       "2     un diputado de ayuso reúne a un grupo de vícti...   \n",
       "3     el psoe de mójacar recurre ante el constitucio...   \n",
       "4     la exalcaldesa de toledo pide a feijóo que fir...   \n",
       "...                                                 ...   \n",
       "4974  una empresa catalana triunfa con su papel higi...   \n",
       "4975  hospitalizado tras intentar sacarse una muela ...   \n",
       "4976  lleva 300 bolsas de plástico a mercadona para ...   \n",
       "4977  la dgt multará a los conductores que no hayan ...   \n",
       "4978  una sentencia prohibe a los comercios poner vi...   \n",
       "\n",
       "                                              Subtítulo  \\\n",
       "0     la estimación de escaños no se mueve en la enc...   \n",
       "1     el 17,8% de quienes apuestan por feijóo ven “m...   \n",
       "2     daniel portero trata con urgencia de contrarre...   \n",
       "3     ya con nuevo alcalde del pp, los socialistas r...   \n",
       "4     la socialista, también número dos al congreso,...   \n",
       "...                                                 ...   \n",
       "4974                                                NaN   \n",
       "4975                                                NaN   \n",
       "4976                                                NaN   \n",
       "4977                                                NaN   \n",
       "4978                                                NaN   \n",
       "\n",
       "                                                 Cuerpo      Periódico  \n",
       "0     el partido popular se recupera muy ligeramente...    ElDiario.es  \n",
       "1     el pp ha necesitado a vox para recuperar buena...    ElDiario.es  \n",
       "2     el diputado del pp en la asamblea de madrid da...    ElDiario.es  \n",
       "3     mojácar retomó el ritmo político con la procla...    ElDiario.es  \n",
       "4     la exalcaldesa de toledo y 'número dos' de la ...    ElDiario.es  \n",
       "...                                                 ...            ...  \n",
       "4974  la empresa catalana banys nous de barcelona es...  HayNoticia.es  \n",
       "4975  sucedió el pasado lunes poco después de las 20...  HayNoticia.es  \n",
       "4976  un joven ha sido noticia ayer tras presentarse...  HayNoticia.es  \n",
       "4977  este domingo nos ha tocado hacer por segunda v...  HayNoticia.es  \n",
       "4978  así se ha pronunciado la audiencia provincial ...  HayNoticia.es  \n",
       "\n",
       "[4979 rows x 4 columns]"
      ]
     },
     "execution_count": 2,
     "metadata": {},
     "output_type": "execute_result"
    }
   ],
   "source": [
    "df1"
   ]
  },
  {
   "cell_type": "code",
   "execution_count": 3,
   "id": "32dffecc-a664-4b4d-9a5b-2f4240f1667a",
   "metadata": {},
   "outputs": [],
   "source": [
    "from sklearn.model_selection import train_test_split\n",
    "X_train, X_test, y_train, y_test = train_test_split(df1[['Titular', 'Subtítulo', 'Cuerpo']], df1[\"Periódico\"], test_size = 0.3, stratify = df1[\"Periódico\"], random_state = 1)"
   ]
  },
  {
   "cell_type": "code",
   "execution_count": 9,
   "id": "04cf57bc-e6ab-452d-9692-9ded73a8950b",
   "metadata": {},
   "outputs": [
    {
     "data": {
      "text/plain": [
       "El Mundo Today    1079\n",
       "ElMundo           1009\n",
       "El País            689\n",
       "HayNoticia.es      652\n",
       "ElDiario.es         56\n",
       "Name: Periódico, dtype: int64"
      ]
     },
     "execution_count": 9,
     "metadata": {},
     "output_type": "execute_result"
    }
   ],
   "source": [
    "y_train.value_counts()"
   ]
  },
  {
   "cell_type": "code",
   "execution_count": 10,
   "id": "98286400-8619-4e04-8f5c-b8a2b0d186e5",
   "metadata": {},
   "outputs": [
    {
     "data": {
      "text/plain": [
       "El Mundo Today    463\n",
       "ElMundo           433\n",
       "El País           295\n",
       "HayNoticia.es     279\n",
       "ElDiario.es        24\n",
       "Name: Periódico, dtype: int64"
      ]
     },
     "execution_count": 10,
     "metadata": {},
     "output_type": "execute_result"
    }
   ],
   "source": [
    "y_test.value_counts()"
   ]
  },
  {
   "cell_type": "code",
   "execution_count": 11,
   "id": "bfb2d371-a93e-4614-8d5f-181d5390af0c",
   "metadata": {},
   "outputs": [],
   "source": [
    "X_train.to_csv('X_train_5000.csv', index = False)\n",
    "X_test.to_csv('X_test_5000.csv', index = False)\n",
    "y_train.to_csv('y_train_5000.csv', index = False)\n",
    "y_test.to_csv('y_test_5000.csv', index = False)"
   ]
  },
  {
   "cell_type": "code",
   "execution_count": null,
   "id": "a78e1b1d-6eb2-41ca-b874-7f7bb368028d",
   "metadata": {},
   "outputs": [],
   "source": []
  }
 ],
 "metadata": {
  "kernelspec": {
   "display_name": "Python 3 (ipykernel)",
   "language": "python",
   "name": "python3"
  },
  "language_info": {
   "codemirror_mode": {
    "name": "ipython",
    "version": 3
   },
   "file_extension": ".py",
   "mimetype": "text/x-python",
   "name": "python",
   "nbconvert_exporter": "python",
   "pygments_lexer": "ipython3",
   "version": "3.10.9"
  }
 },
 "nbformat": 4,
 "nbformat_minor": 5
}
