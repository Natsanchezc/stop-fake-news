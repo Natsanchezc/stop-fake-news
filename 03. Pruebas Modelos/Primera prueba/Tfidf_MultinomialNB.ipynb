{
 "cells": [
  {
   "cell_type": "markdown",
   "id": "6e3818b5-8318-48f7-a5f5-bebe2cbdd0ef",
   "metadata": {},
   "source": [
    "# Segunda prueba\n",
    "# Modelo MultinomialNB - TfidfVectorizer"
   ]
  },
  {
   "cell_type": "code",
   "execution_count": 1,
   "id": "41e1ce31-6128-4146-875e-592c4fc34939",
   "metadata": {},
   "outputs": [],
   "source": [
    "import pandas as pd\n",
    "import matplotlib.pyplot as plt\n",
    "import seaborn as sns"
   ]
  },
  {
   "cell_type": "code",
   "execution_count": 2,
   "id": "23ce3c5f-8d8e-4b87-ba76-1e3159a26fdc",
   "metadata": {},
   "outputs": [
    {
     "data": {
      "text/html": [
       "<div>\n",
       "<style scoped>\n",
       "    .dataframe tbody tr th:only-of-type {\n",
       "        vertical-align: middle;\n",
       "    }\n",
       "\n",
       "    .dataframe tbody tr th {\n",
       "        vertical-align: top;\n",
       "    }\n",
       "\n",
       "    .dataframe thead th {\n",
       "        text-align: right;\n",
       "    }\n",
       "</style>\n",
       "<table border=\"1\" class=\"dataframe\">\n",
       "  <thead>\n",
       "    <tr style=\"text-align: right;\">\n",
       "      <th></th>\n",
       "      <th>Periódico</th>\n",
       "      <th>Hipervínculo</th>\n",
       "      <th>Fecha publicación</th>\n",
       "      <th>Titular</th>\n",
       "      <th>Subtítulo</th>\n",
       "      <th>Cuerpo</th>\n",
       "      <th>Categoría</th>\n",
       "      <th>Target</th>\n",
       "    </tr>\n",
       "  </thead>\n",
       "  <tbody>\n",
       "    <tr>\n",
       "      <th>0</th>\n",
       "      <td>ElDiario.es</td>\n",
       "      <td>https://www.eldiario.es/politica/pp-recupera-l...</td>\n",
       "      <td>2023-07-11</td>\n",
       "      <td>El PP se recupera ligeramente pero sigue sin o...</td>\n",
       "      <td>La estimación de escaños no se mueve en la enc...</td>\n",
       "      <td>El partido popular se recupera muy ligeramente...</td>\n",
       "      <td>politica</td>\n",
       "      <td>0</td>\n",
       "    </tr>\n",
       "    <tr>\n",
       "      <th>1</th>\n",
       "      <td>ElDiario.es</td>\n",
       "      <td>https://www.eldiario.es/politica/58-ciudadanos...</td>\n",
       "      <td>2023-07-11</td>\n",
       "      <td>Un 58% de los ciudadanos critican los pactos c...</td>\n",
       "      <td>El 17,8% de quienes apuestan por Feijóo ven “m...</td>\n",
       "      <td>El PP ha necesitado a Vox para recuperar buena...</td>\n",
       "      <td>politica</td>\n",
       "      <td>0</td>\n",
       "    </tr>\n",
       "    <tr>\n",
       "      <th>2</th>\n",
       "      <td>ElDiario.es</td>\n",
       "      <td>https://www.eldiario.es/politica/diputado-ayus...</td>\n",
       "      <td>2023-07-11</td>\n",
       "      <td>Un diputado de Ayuso reúne a un grupo de vícti...</td>\n",
       "      <td>Daniel Portero trata con urgencia de contrarre...</td>\n",
       "      <td>El diputado del PP en la Asamblea de Madrid Da...</td>\n",
       "      <td>politica</td>\n",
       "      <td>0</td>\n",
       "    </tr>\n",
       "    <tr>\n",
       "      <th>3</th>\n",
       "      <td>ElDiario.es</td>\n",
       "      <td>https://www.eldiario.es/andalucia/almeria/psoe...</td>\n",
       "      <td>2023-07-11</td>\n",
       "      <td>El PSOE de Mójacar recurre ante el Constitucio...</td>\n",
       "      <td>Ya con nuevo alcalde del PP, los socialistas r...</td>\n",
       "      <td>Mojácar retomó el ritmo político con la procla...</td>\n",
       "      <td>andalucia</td>\n",
       "      <td>0</td>\n",
       "    </tr>\n",
       "    <tr>\n",
       "      <th>4</th>\n",
       "      <td>ElDiario.es</td>\n",
       "      <td>https://www.eldiario.es/castilla-la-mancha/pol...</td>\n",
       "      <td>2023-07-11</td>\n",
       "      <td>La exalcaldesa de Toledo pide a Feijóo que fir...</td>\n",
       "      <td>La socialista, también número dos al Congreso,...</td>\n",
       "      <td>La exalcaldesa de Toledo y 'número dos' de la ...</td>\n",
       "      <td>castilla-la-mancha</td>\n",
       "      <td>0</td>\n",
       "    </tr>\n",
       "  </tbody>\n",
       "</table>\n",
       "</div>"
      ],
      "text/plain": [
       "     Periódico                                       Hipervínculo  \\\n",
       "0  ElDiario.es  https://www.eldiario.es/politica/pp-recupera-l...   \n",
       "1  ElDiario.es  https://www.eldiario.es/politica/58-ciudadanos...   \n",
       "2  ElDiario.es  https://www.eldiario.es/politica/diputado-ayus...   \n",
       "3  ElDiario.es  https://www.eldiario.es/andalucia/almeria/psoe...   \n",
       "4  ElDiario.es  https://www.eldiario.es/castilla-la-mancha/pol...   \n",
       "\n",
       "  Fecha publicación                                            Titular  \\\n",
       "0        2023-07-11  El PP se recupera ligeramente pero sigue sin o...   \n",
       "1        2023-07-11  Un 58% de los ciudadanos critican los pactos c...   \n",
       "2        2023-07-11  Un diputado de Ayuso reúne a un grupo de vícti...   \n",
       "3        2023-07-11  El PSOE de Mójacar recurre ante el Constitucio...   \n",
       "4        2023-07-11  La exalcaldesa de Toledo pide a Feijóo que fir...   \n",
       "\n",
       "                                           Subtítulo  \\\n",
       "0  La estimación de escaños no se mueve en la enc...   \n",
       "1  El 17,8% de quienes apuestan por Feijóo ven “m...   \n",
       "2  Daniel Portero trata con urgencia de contrarre...   \n",
       "3  Ya con nuevo alcalde del PP, los socialistas r...   \n",
       "4  La socialista, también número dos al Congreso,...   \n",
       "\n",
       "                                              Cuerpo           Categoría  \\\n",
       "0  El partido popular se recupera muy ligeramente...            politica   \n",
       "1  El PP ha necesitado a Vox para recuperar buena...            politica   \n",
       "2  El diputado del PP en la Asamblea de Madrid Da...            politica   \n",
       "3  Mojácar retomó el ritmo político con la procla...           andalucia   \n",
       "4  La exalcaldesa de Toledo y 'número dos' de la ...  castilla-la-mancha   \n",
       "\n",
       "   Target  \n",
       "0       0  \n",
       "1       0  \n",
       "2       0  \n",
       "3       0  \n",
       "4       0  "
      ]
     },
     "execution_count": 2,
     "metadata": {},
     "output_type": "execute_result"
    }
   ],
   "source": [
    "df = pd.read_csv('dataset_final_actualizacion_mayus2.csv')\n",
    "df.head()"
   ]
  },
  {
   "cell_type": "code",
   "execution_count": 3,
   "id": "9974276a-f5de-4262-aff1-9ff5db5b107b",
   "metadata": {},
   "outputs": [
    {
     "data": {
      "text/plain": [
       "0    2506\n",
       "1    2473\n",
       "Name: Target, dtype: int64"
      ]
     },
     "execution_count": 3,
     "metadata": {},
     "output_type": "execute_result"
    }
   ],
   "source": [
    "df.Target.value_counts()"
   ]
  },
  {
   "cell_type": "code",
   "execution_count": 4,
   "id": "ad42565c-f7aa-4a9a-9b78-3ce4f837fe8c",
   "metadata": {},
   "outputs": [
    {
     "data": {
      "text/html": [
       "<div>\n",
       "<style scoped>\n",
       "    .dataframe tbody tr th:only-of-type {\n",
       "        vertical-align: middle;\n",
       "    }\n",
       "\n",
       "    .dataframe tbody tr th {\n",
       "        vertical-align: top;\n",
       "    }\n",
       "\n",
       "    .dataframe thead th {\n",
       "        text-align: right;\n",
       "    }\n",
       "</style>\n",
       "<table border=\"1\" class=\"dataframe\">\n",
       "  <thead>\n",
       "    <tr style=\"text-align: right;\">\n",
       "      <th></th>\n",
       "      <th>Periódico</th>\n",
       "      <th>Hipervínculo</th>\n",
       "      <th>Fecha publicación</th>\n",
       "      <th>Titular</th>\n",
       "      <th>Subtítulo</th>\n",
       "      <th>Cuerpo</th>\n",
       "      <th>Categoría</th>\n",
       "      <th>Target</th>\n",
       "      <th>Texto</th>\n",
       "    </tr>\n",
       "  </thead>\n",
       "  <tbody>\n",
       "    <tr>\n",
       "      <th>0</th>\n",
       "      <td>ElDiario.es</td>\n",
       "      <td>https://www.eldiario.es/politica/pp-recupera-l...</td>\n",
       "      <td>2023-07-11</td>\n",
       "      <td>El PP se recupera ligeramente pero sigue sin o...</td>\n",
       "      <td>La estimación de escaños no se mueve en la enc...</td>\n",
       "      <td>El partido popular se recupera muy ligeramente...</td>\n",
       "      <td>politica</td>\n",
       "      <td>0</td>\n",
       "      <td>el pp se recupera ligeramente pero sigue sin o...</td>\n",
       "    </tr>\n",
       "    <tr>\n",
       "      <th>1</th>\n",
       "      <td>ElDiario.es</td>\n",
       "      <td>https://www.eldiario.es/politica/58-ciudadanos...</td>\n",
       "      <td>2023-07-11</td>\n",
       "      <td>Un 58% de los ciudadanos critican los pactos c...</td>\n",
       "      <td>El 17,8% de quienes apuestan por Feijóo ven “m...</td>\n",
       "      <td>El PP ha necesitado a Vox para recuperar buena...</td>\n",
       "      <td>politica</td>\n",
       "      <td>0</td>\n",
       "      <td>un 58% de los ciudadanos critican los pactos c...</td>\n",
       "    </tr>\n",
       "    <tr>\n",
       "      <th>2</th>\n",
       "      <td>ElDiario.es</td>\n",
       "      <td>https://www.eldiario.es/politica/diputado-ayus...</td>\n",
       "      <td>2023-07-11</td>\n",
       "      <td>Un diputado de Ayuso reúne a un grupo de vícti...</td>\n",
       "      <td>Daniel Portero trata con urgencia de contrarre...</td>\n",
       "      <td>El diputado del PP en la Asamblea de Madrid Da...</td>\n",
       "      <td>politica</td>\n",
       "      <td>0</td>\n",
       "      <td>un diputado de ayuso reúne a un grupo de vícti...</td>\n",
       "    </tr>\n",
       "    <tr>\n",
       "      <th>3</th>\n",
       "      <td>ElDiario.es</td>\n",
       "      <td>https://www.eldiario.es/andalucia/almeria/psoe...</td>\n",
       "      <td>2023-07-11</td>\n",
       "      <td>El PSOE de Mójacar recurre ante el Constitucio...</td>\n",
       "      <td>Ya con nuevo alcalde del PP, los socialistas r...</td>\n",
       "      <td>Mojácar retomó el ritmo político con la procla...</td>\n",
       "      <td>andalucia</td>\n",
       "      <td>0</td>\n",
       "      <td>el psoe de mójacar recurre ante el constitucio...</td>\n",
       "    </tr>\n",
       "    <tr>\n",
       "      <th>4</th>\n",
       "      <td>ElDiario.es</td>\n",
       "      <td>https://www.eldiario.es/castilla-la-mancha/pol...</td>\n",
       "      <td>2023-07-11</td>\n",
       "      <td>La exalcaldesa de Toledo pide a Feijóo que fir...</td>\n",
       "      <td>La socialista, también número dos al Congreso,...</td>\n",
       "      <td>La exalcaldesa de Toledo y 'número dos' de la ...</td>\n",
       "      <td>castilla-la-mancha</td>\n",
       "      <td>0</td>\n",
       "      <td>la exalcaldesa de toledo pide a feijóo que fir...</td>\n",
       "    </tr>\n",
       "  </tbody>\n",
       "</table>\n",
       "</div>"
      ],
      "text/plain": [
       "     Periódico                                       Hipervínculo  \\\n",
       "0  ElDiario.es  https://www.eldiario.es/politica/pp-recupera-l...   \n",
       "1  ElDiario.es  https://www.eldiario.es/politica/58-ciudadanos...   \n",
       "2  ElDiario.es  https://www.eldiario.es/politica/diputado-ayus...   \n",
       "3  ElDiario.es  https://www.eldiario.es/andalucia/almeria/psoe...   \n",
       "4  ElDiario.es  https://www.eldiario.es/castilla-la-mancha/pol...   \n",
       "\n",
       "  Fecha publicación                                            Titular  \\\n",
       "0        2023-07-11  El PP se recupera ligeramente pero sigue sin o...   \n",
       "1        2023-07-11  Un 58% de los ciudadanos critican los pactos c...   \n",
       "2        2023-07-11  Un diputado de Ayuso reúne a un grupo de vícti...   \n",
       "3        2023-07-11  El PSOE de Mójacar recurre ante el Constitucio...   \n",
       "4        2023-07-11  La exalcaldesa de Toledo pide a Feijóo que fir...   \n",
       "\n",
       "                                           Subtítulo  \\\n",
       "0  La estimación de escaños no se mueve en la enc...   \n",
       "1  El 17,8% de quienes apuestan por Feijóo ven “m...   \n",
       "2  Daniel Portero trata con urgencia de contrarre...   \n",
       "3  Ya con nuevo alcalde del PP, los socialistas r...   \n",
       "4  La socialista, también número dos al Congreso,...   \n",
       "\n",
       "                                              Cuerpo           Categoría  \\\n",
       "0  El partido popular se recupera muy ligeramente...            politica   \n",
       "1  El PP ha necesitado a Vox para recuperar buena...            politica   \n",
       "2  El diputado del PP en la Asamblea de Madrid Da...            politica   \n",
       "3  Mojácar retomó el ritmo político con la procla...           andalucia   \n",
       "4  La exalcaldesa de Toledo y 'número dos' de la ...  castilla-la-mancha   \n",
       "\n",
       "   Target                                              Texto  \n",
       "0       0  el pp se recupera ligeramente pero sigue sin o...  \n",
       "1       0  un 58% de los ciudadanos critican los pactos c...  \n",
       "2       0  un diputado de ayuso reúne a un grupo de vícti...  \n",
       "3       0  el psoe de mójacar recurre ante el constitucio...  \n",
       "4       0  la exalcaldesa de toledo pide a feijóo que fir...  "
      ]
     },
     "execution_count": 4,
     "metadata": {},
     "output_type": "execute_result"
    }
   ],
   "source": [
    "df[\"Texto\"] = df.Titular.str.lower() + \" \" + df.Cuerpo.str.lower()\n",
    "df.head()"
   ]
  },
  {
   "cell_type": "code",
   "execution_count": 5,
   "id": "3af1a2d5-2bc9-4f96-b920-491fe5b5547b",
   "metadata": {},
   "outputs": [
    {
     "data": {
      "text/plain": [
       "'méxico registra un récord de 74.764 solicitudes de refugio en el primer semestre de 2023 ciudad de méxico, 11 jul (efe).- el número de solicitantes de refugio en méxico durante el primer semestre de 2023 registró una cifra récord de 74.764 migrantes, un aumento del 28 % respecto al mismo periodo del año pasado, cuando se recibieron 58.283, reveló la comisión mexicana de ayuda a refugiados (comar).la cifra de peticiones recibidas por el organismo gubernamental encargado de realizar este tipo de trámites migratorios en junio también es superior a la de los años anteriores, igual que sucedió en los cinco meses pasados: 11.570, frente a las 9.667 del año pasado y las 10.297 de 2021.en el caso de seguir con esta tendencia méxico podría registrar cifras inéditas de solicitudes de refugio en 2023, en un contexto marcado por las restricciones migratorias impuestas por estados unidos, destino de muchos de los extranjeros que atraviesan el país.este martes se cumplen dos meses desde la derogación del título 42, una ley sanitaria empleada por washington para deportar a 2,8 millones de migrantes con el argumento de la pandemia de covid-19, y la implementación del título 8, que recrudece las sanciones a quienes crucen de forma ilegal la frontera.de acuerdo con expertos en la materia, esta tesitura ha provocado que cada vez más migrantes decidan solicitar refugio y establecerse en méxico.los haitianos, siguiendo una tendencia que se ha sostenido durante los seis primeros meses del año, son quienes más acuden a la comar para tratar de conseguir refugio, con 29.532 solicitudes, seguidos por los hondureños (18.210), los cubanos (5.034), los venezolanos (3.511) y los salvadoreños (3.408).tapachula, municipio del estado de chiapas fronterizo con guatemala, aglutina la mayoría de estas solicitudes (39.252), seguida por ciudad de méxico (17.099) y la sudoriental veracruz (3.934).las solicitudes realizadas por 74.764 personas se agrupan en 43.773 casos, de los que solo se han resuelto 12.197, el 68 % de forma positiva.la cifra de casos resueltos en la primera mitad de 2023 se encuentra por debajo de la registrada en los años anteriores, lo que señala la saturación que está sufriendo la comar.en 2022 y 2021 se resolvieron 36.066 y 38.105 casos, respectivamente, más de los que se registrarían este 2023 en el caso de continuar con la tendencia actual.los nacidos en honduras son los que, en proporción, más resoluciones positivas han recibido este año (89 %), seguidos por los naturales de venezuela (85 %) y el salvador (83 %).en tanto, en las numerosas solicitudes de los haitianos, que huyen del país más pobre del hemisferio occidental y donde las bandas criminales han ocupado el vacío de poder que dejó el asesinato del presidente jovenel moïse en 2021, apenas un 6 % han recibido respuestas positivas.en la última década, la comar ha recibido 494.240 solicitudes de refugio, de las que ha resuelto un total de 157.520, el 64,8 % de forma positiva'"
      ]
     },
     "execution_count": 5,
     "metadata": {},
     "output_type": "execute_result"
    }
   ],
   "source": [
    "df[\"Texto\"][65]"
   ]
  },
  {
   "cell_type": "code",
   "execution_count": 6,
   "id": "527be25a-41ca-4a60-9672-bb1aaa88f1de",
   "metadata": {},
   "outputs": [],
   "source": [
    "from sklearn.model_selection import train_test_split\n",
    "X_train, X_test, y_train, y_test = train_test_split(df[\"Texto\"], \n",
    "                                                  df[\"Target\"], \n",
    "                                                  test_size=0.2, \n",
    "                                                  stratify=df[\"Target\"],\n",
    "                                                  random_state=42)"
   ]
  },
  {
   "cell_type": "code",
   "execution_count": 7,
   "id": "e8ea1581-d338-41e8-b876-6bd6fd67b2bc",
   "metadata": {},
   "outputs": [
    {
     "data": {
      "text/plain": [
       "'México registra un récord de 74.764 solicitudes de refugio en el primer semestre de 2023'"
      ]
     },
     "execution_count": 7,
     "metadata": {},
     "output_type": "execute_result"
    }
   ],
   "source": [
    "df[\"Titular\"][65]"
   ]
  },
  {
   "cell_type": "code",
   "execution_count": 8,
   "id": "311156f7-69df-4fa7-9d6d-0b20ed067026",
   "metadata": {},
   "outputs": [],
   "source": [
    "from sklearn.feature_extraction.text import TfidfVectorizer\n",
    "from sklearn.feature_extraction.text import CountVectorizer\n",
    "from nltk.corpus import stopwords\n",
    "stopwords = stopwords.words('spanish')\n",
    "spanish_stop_words = ['10','000','00','el', 'la', 'los', 'las', 'de', 'del', 'en', 'un', 'una', 'unos', 'unas','esto', 'esta', 'este', 'estos', 'estas','newsletter']\n",
    "vectorizer = TfidfVectorizer(max_features=8000, stop_words=stopwords+spanish_stop_words)\n",
    "X_train_vect = vectorizer.fit_transform(X_train)"
   ]
  },
  {
   "cell_type": "code",
   "execution_count": 9,
   "id": "9498c7b6-53fe-456f-95ac-3f119b69fa71",
   "metadata": {
    "tags": []
   },
   "outputs": [
    {
     "data": {
      "text/plain": [
       "array(['100', '107', '11', ..., 'único', 'únicos', 'útil'], dtype=object)"
      ]
     },
     "execution_count": 9,
     "metadata": {},
     "output_type": "execute_result"
    }
   ],
   "source": [
    "vectorizer.get_feature_names_out()"
   ]
  },
  {
   "cell_type": "code",
   "execution_count": 10,
   "id": "7d2f7bc2-3d53-4b53-bf6f-8c081e22e58f",
   "metadata": {},
   "outputs": [
    {
     "data": {
      "text/plain": [
       "array([1, 1, 0, ..., 0, 1, 0], dtype=int64)"
      ]
     },
     "execution_count": 10,
     "metadata": {},
     "output_type": "execute_result"
    }
   ],
   "source": [
    "from sklearn.naive_bayes import MultinomialNB\n",
    "clf = MultinomialNB(alpha=20).fit(X_train_vect, y_train)\n",
    "clf.predict(X_train_vect)"
   ]
  },
  {
   "cell_type": "code",
   "execution_count": 11,
   "id": "e4998ef6-64a2-4aa9-9caa-6286c0709860",
   "metadata": {},
   "outputs": [],
   "source": [
    "X_test_vect = vectorizer.transform(X_test)\n",
    "y_pred = clf.predict(X_test_vect)"
   ]
  },
  {
   "cell_type": "code",
   "execution_count": 12,
   "id": "87408811-6a74-43f4-876c-da982ab03850",
   "metadata": {},
   "outputs": [
    {
     "name": "stdout",
     "output_type": "stream",
     "text": [
      "Accuracy Modelo MultinomialNB: 0.8845381526104418\n"
     ]
    }
   ],
   "source": [
    "from sklearn.metrics import accuracy_score\n",
    "accuracy = accuracy_score(y_test, y_pred)\n",
    "print(\"Accuracy Modelo MultinomialNB:\", accuracy)\n"
   ]
  },
  {
   "cell_type": "code",
   "execution_count": 13,
   "id": "06a3dc6a-25de-45ec-b5e0-8bcda6f6e0dc",
   "metadata": {},
   "outputs": [],
   "source": [
    "#matriz de confusion\n",
    "from sklearn.metrics import confusion_matrix\n",
    "from sklearn.metrics import ConfusionMatrixDisplay"
   ]
  },
  {
   "cell_type": "code",
   "execution_count": 14,
   "id": "79e241b2-e3c5-4e31-a657-73bc85df466e",
   "metadata": {},
   "outputs": [
    {
     "name": "stdout",
     "output_type": "stream",
     "text": [
      "Confusion Matrix\n"
     ]
    },
    {
     "data": {
      "image/png": "[encoded data removed]",
      "text/plain": [
       "<Figure size 640x480 with 2 Axes>"
      ]
     },
     "metadata": {},
     "output_type": "display_data"
    }
   ],
   "source": [
    "cfm = confusion_matrix(y_test,y_pred)\n",
    "print(\"Confusion Matrix\")\n",
    "disp = ConfusionMatrixDisplay(cfm)\n",
    "disp.plot()\n",
    "plt.show()"
   ]
  },
  {
   "cell_type": "code",
   "execution_count": null,
   "id": "dc45af23-b7f4-4da1-b8c0-0eca1de1404c",
   "metadata": {},
   "outputs": [],
   "source": []
  }
 ],
 "metadata": {
  "kernelspec": {
   "display_name": "Python 3 (ipykernel)",
   "language": "python",
   "name": "python3"
  },
  "language_info": {
   "codemirror_mode": {
    "name": "ipython",
    "version": 3
   },
   "file_extension": ".py",
   "mimetype": "text/x-python",
   "name": "python",
   "nbconvert_exporter": "python",
   "pygments_lexer": "ipython3",
   "version": "3.10.9"
  }
 },
 "nbformat": 4,
 "nbformat_minor": 5
}
