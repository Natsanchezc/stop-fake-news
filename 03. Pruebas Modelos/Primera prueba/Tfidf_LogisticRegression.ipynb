{
 "cells": [
  {
   "cell_type": "markdown",
   "id": "6e3818b5-8318-48f7-a5f5-bebe2cbdd0ef",
   "metadata": {},
   "source": [
    "# Primera prueba\n",
    "# Modelo Logistic Regression - TfidfVectorizer"
   ]
  },
  {
   "cell_type": "code",
   "execution_count": 4,
   "id": "41e1ce31-6128-4146-875e-592c4fc34939",
   "metadata": {},
   "outputs": [],
   "source": [
    "import pandas as pd\n",
    "import matplotlib.pyplot as plt\n",
    "import seaborn as sns"
   ]
  },
  {
   "cell_type": "code",
   "execution_count": 5,
   "id": "23ce3c5f-8d8e-4b87-ba76-1e3159a26fdc",
   "metadata": {},
   "outputs": [
    {
     "data": {
      "text/html": [
       "<div>\n",
       "<style scoped>\n",
       "    .dataframe tbody tr th:only-of-type {\n",
       "        vertical-align: middle;\n",
       "    }\n",
       "\n",
       "    .dataframe tbody tr th {\n",
       "        vertical-align: top;\n",
       "    }\n",
       "\n",
       "    .dataframe thead th {\n",
       "        text-align: right;\n",
       "    }\n",
       "</style>\n",
       "<table border=\"1\" class=\"dataframe\">\n",
       "  <thead>\n",
       "    <tr style=\"text-align: right;\">\n",
       "      <th></th>\n",
       "      <th>Periódico</th>\n",
       "      <th>Hipervínculo</th>\n",
       "      <th>Fecha publicación</th>\n",
       "      <th>Titular</th>\n",
       "      <th>Subtítulo</th>\n",
       "      <th>Cuerpo</th>\n",
       "      <th>Categoría</th>\n",
       "      <th>Target</th>\n",
       "    </tr>\n",
       "  </thead>\n",
       "  <tbody>\n",
       "    <tr>\n",
       "      <th>0</th>\n",
       "      <td>ElDiario.es</td>\n",
       "      <td>https://www.eldiario.es/politica/pp-recupera-l...</td>\n",
       "      <td>2023-07-11</td>\n",
       "      <td>El PP se recupera ligeramente pero sigue sin o...</td>\n",
       "      <td>La estimación de escaños no se mueve en la enc...</td>\n",
       "      <td>El partido popular se recupera muy ligeramente...</td>\n",
       "      <td>politica</td>\n",
       "      <td>0</td>\n",
       "    </tr>\n",
       "    <tr>\n",
       "      <th>1</th>\n",
       "      <td>ElDiario.es</td>\n",
       "      <td>https://www.eldiario.es/politica/58-ciudadanos...</td>\n",
       "      <td>2023-07-11</td>\n",
       "      <td>Un 58% de los ciudadanos critican los pactos c...</td>\n",
       "      <td>El 17,8% de quienes apuestan por Feijóo ven “m...</td>\n",
       "      <td>El PP ha necesitado a Vox para recuperar buena...</td>\n",
       "      <td>politica</td>\n",
       "      <td>0</td>\n",
       "    </tr>\n",
       "    <tr>\n",
       "      <th>2</th>\n",
       "      <td>ElDiario.es</td>\n",
       "      <td>https://www.eldiario.es/politica/diputado-ayus...</td>\n",
       "      <td>2023-07-11</td>\n",
       "      <td>Un diputado de Ayuso reúne a un grupo de vícti...</td>\n",
       "      <td>Daniel Portero trata con urgencia de contrarre...</td>\n",
       "      <td>El diputado del PP en la Asamblea de Madrid Da...</td>\n",
       "      <td>politica</td>\n",
       "      <td>0</td>\n",
       "    </tr>\n",
       "    <tr>\n",
       "      <th>3</th>\n",
       "      <td>ElDiario.es</td>\n",
       "      <td>https://www.eldiario.es/andalucia/almeria/psoe...</td>\n",
       "      <td>2023-07-11</td>\n",
       "      <td>El PSOE de Mójacar recurre ante el Constitucio...</td>\n",
       "      <td>Ya con nuevo alcalde del PP, los socialistas r...</td>\n",
       "      <td>Mojácar retomó el ritmo político con la procla...</td>\n",
       "      <td>andalucia</td>\n",
       "      <td>0</td>\n",
       "    </tr>\n",
       "    <tr>\n",
       "      <th>4</th>\n",
       "      <td>ElDiario.es</td>\n",
       "      <td>https://www.eldiario.es/castilla-la-mancha/pol...</td>\n",
       "      <td>2023-07-11</td>\n",
       "      <td>La exalcaldesa de Toledo pide a Feijóo que fir...</td>\n",
       "      <td>La socialista, también número dos al Congreso,...</td>\n",
       "      <td>La exalcaldesa de Toledo y 'número dos' de la ...</td>\n",
       "      <td>castilla-la-mancha</td>\n",
       "      <td>0</td>\n",
       "    </tr>\n",
       "    <tr>\n",
       "      <th>...</th>\n",
       "      <td>...</td>\n",
       "      <td>...</td>\n",
       "      <td>...</td>\n",
       "      <td>...</td>\n",
       "      <td>...</td>\n",
       "      <td>...</td>\n",
       "      <td>...</td>\n",
       "      <td>...</td>\n",
       "    </tr>\n",
       "    <tr>\n",
       "      <th>4974</th>\n",
       "      <td>HayNoticia.es</td>\n",
       "      <td>https://haynoticia.es/una-empresa-catalana-tri...</td>\n",
       "      <td>2018-11-06</td>\n",
       "      <td>Una empresa catalana triunfa con su papel higi...</td>\n",
       "      <td>NaN</td>\n",
       "      <td>La empresa catalana Banys Nous de Barcelona es...</td>\n",
       "      <td>curiosidades</td>\n",
       "      <td>1</td>\n",
       "    </tr>\n",
       "    <tr>\n",
       "      <th>4975</th>\n",
       "      <td>HayNoticia.es</td>\n",
       "      <td>https://haynoticia.es/hospitalizado-tras-inten...</td>\n",
       "      <td>2018-10-31</td>\n",
       "      <td>Hospitalizado tras intentar sacarse una muela ...</td>\n",
       "      <td>NaN</td>\n",
       "      <td>Sucedió el pasado lunes poco después de las 20...</td>\n",
       "      <td>curiosidades</td>\n",
       "      <td>1</td>\n",
       "    </tr>\n",
       "    <tr>\n",
       "      <th>4976</th>\n",
       "      <td>HayNoticia.es</td>\n",
       "      <td>https://haynoticia.es/lleva-300-bolsas-de-plas...</td>\n",
       "      <td>2018-10-30</td>\n",
       "      <td>Lleva 300 bolsas de plástico a Mercadona para ...</td>\n",
       "      <td>NaN</td>\n",
       "      <td>Un joven ha sido noticia ayer tras presentarse...</td>\n",
       "      <td>curiosidades</td>\n",
       "      <td>1</td>\n",
       "    </tr>\n",
       "    <tr>\n",
       "      <th>4977</th>\n",
       "      <td>HayNoticia.es</td>\n",
       "      <td>https://haynoticia.es/la-dgt-multara-a-los-con...</td>\n",
       "      <td>2018-10-28</td>\n",
       "      <td>La DGT multará a los conductores que no hayan ...</td>\n",
       "      <td>NaN</td>\n",
       "      <td>Este domingo nos ha tocado hacer por segunda v...</td>\n",
       "      <td>curiosidades</td>\n",
       "      <td>1</td>\n",
       "    </tr>\n",
       "    <tr>\n",
       "      <th>4978</th>\n",
       "      <td>HayNoticia.es</td>\n",
       "      <td>https://haynoticia.es/una-sentencia-prohibe-a-...</td>\n",
       "      <td>2018-10-25</td>\n",
       "      <td>Una Sentencia prohibe a los comercios poner vi...</td>\n",
       "      <td>NaN</td>\n",
       "      <td>Así se ha pronunciado la Audiencia Provincial ...</td>\n",
       "      <td>curiosidades</td>\n",
       "      <td>1</td>\n",
       "    </tr>\n",
       "  </tbody>\n",
       "</table>\n",
       "<p>4979 rows × 8 columns</p>\n",
       "</div>"
      ],
      "text/plain": [
       "          Periódico                                       Hipervínculo  \\\n",
       "0       ElDiario.es  https://www.eldiario.es/politica/pp-recupera-l...   \n",
       "1       ElDiario.es  https://www.eldiario.es/politica/58-ciudadanos...   \n",
       "2       ElDiario.es  https://www.eldiario.es/politica/diputado-ayus...   \n",
       "3       ElDiario.es  https://www.eldiario.es/andalucia/almeria/psoe...   \n",
       "4       ElDiario.es  https://www.eldiario.es/castilla-la-mancha/pol...   \n",
       "...             ...                                                ...   \n",
       "4974  HayNoticia.es  https://haynoticia.es/una-empresa-catalana-tri...   \n",
       "4975  HayNoticia.es  https://haynoticia.es/hospitalizado-tras-inten...   \n",
       "4976  HayNoticia.es  https://haynoticia.es/lleva-300-bolsas-de-plas...   \n",
       "4977  HayNoticia.es  https://haynoticia.es/la-dgt-multara-a-los-con...   \n",
       "4978  HayNoticia.es  https://haynoticia.es/una-sentencia-prohibe-a-...   \n",
       "\n",
       "     Fecha publicación                                            Titular  \\\n",
       "0           2023-07-11  El PP se recupera ligeramente pero sigue sin o...   \n",
       "1           2023-07-11  Un 58% de los ciudadanos critican los pactos c...   \n",
       "2           2023-07-11  Un diputado de Ayuso reúne a un grupo de vícti...   \n",
       "3           2023-07-11  El PSOE de Mójacar recurre ante el Constitucio...   \n",
       "4           2023-07-11  La exalcaldesa de Toledo pide a Feijóo que fir...   \n",
       "...                ...                                                ...   \n",
       "4974        2018-11-06  Una empresa catalana triunfa con su papel higi...   \n",
       "4975        2018-10-31  Hospitalizado tras intentar sacarse una muela ...   \n",
       "4976        2018-10-30  Lleva 300 bolsas de plástico a Mercadona para ...   \n",
       "4977        2018-10-28  La DGT multará a los conductores que no hayan ...   \n",
       "4978        2018-10-25  Una Sentencia prohibe a los comercios poner vi...   \n",
       "\n",
       "                                              Subtítulo  \\\n",
       "0     La estimación de escaños no se mueve en la enc...   \n",
       "1     El 17,8% de quienes apuestan por Feijóo ven “m...   \n",
       "2     Daniel Portero trata con urgencia de contrarre...   \n",
       "3     Ya con nuevo alcalde del PP, los socialistas r...   \n",
       "4     La socialista, también número dos al Congreso,...   \n",
       "...                                                 ...   \n",
       "4974                                                NaN   \n",
       "4975                                                NaN   \n",
       "4976                                                NaN   \n",
       "4977                                                NaN   \n",
       "4978                                                NaN   \n",
       "\n",
       "                                                 Cuerpo           Categoría  \\\n",
       "0     El partido popular se recupera muy ligeramente...            politica   \n",
       "1     El PP ha necesitado a Vox para recuperar buena...            politica   \n",
       "2     El diputado del PP en la Asamblea de Madrid Da...            politica   \n",
       "3     Mojácar retomó el ritmo político con la procla...           andalucia   \n",
       "4     La exalcaldesa de Toledo y 'número dos' de la ...  castilla-la-mancha   \n",
       "...                                                 ...                 ...   \n",
       "4974  La empresa catalana Banys Nous de Barcelona es...        curiosidades   \n",
       "4975  Sucedió el pasado lunes poco después de las 20...        curiosidades   \n",
       "4976  Un joven ha sido noticia ayer tras presentarse...        curiosidades   \n",
       "4977  Este domingo nos ha tocado hacer por segunda v...        curiosidades   \n",
       "4978  Así se ha pronunciado la Audiencia Provincial ...        curiosidades   \n",
       "\n",
       "      Target  \n",
       "0          0  \n",
       "1          0  \n",
       "2          0  \n",
       "3          0  \n",
       "4          0  \n",
       "...      ...  \n",
       "4974       1  \n",
       "4975       1  \n",
       "4976       1  \n",
       "4977       1  \n",
       "4978       1  \n",
       "\n",
       "[4979 rows x 8 columns]"
      ]
     },
     "execution_count": 5,
     "metadata": {},
     "output_type": "execute_result"
    }
   ],
   "source": [
    "df = pd.read_csv('dataset_final_actualizacion_mayus2.csv')\n",
    "df"
   ]
  },
  {
   "cell_type": "code",
   "execution_count": 6,
   "id": "9974276a-f5de-4262-aff1-9ff5db5b107b",
   "metadata": {},
   "outputs": [
    {
     "data": {
      "text/plain": [
       "0    2506\n",
       "1    2473\n",
       "Name: Target, dtype: int64"
      ]
     },
     "execution_count": 6,
     "metadata": {},
     "output_type": "execute_result"
    }
   ],
   "source": [
    "df.Target.value_counts()"
   ]
  },
  {
   "cell_type": "code",
   "execution_count": 7,
   "id": "ad42565c-f7aa-4a9a-9b78-3ce4f837fe8c",
   "metadata": {},
   "outputs": [
    {
     "data": {
      "text/html": [
       "<div>\n",
       "<style scoped>\n",
       "    .dataframe tbody tr th:only-of-type {\n",
       "        vertical-align: middle;\n",
       "    }\n",
       "\n",
       "    .dataframe tbody tr th {\n",
       "        vertical-align: top;\n",
       "    }\n",
       "\n",
       "    .dataframe thead th {\n",
       "        text-align: right;\n",
       "    }\n",
       "</style>\n",
       "<table border=\"1\" class=\"dataframe\">\n",
       "  <thead>\n",
       "    <tr style=\"text-align: right;\">\n",
       "      <th></th>\n",
       "      <th>Periódico</th>\n",
       "      <th>Hipervínculo</th>\n",
       "      <th>Fecha publicación</th>\n",
       "      <th>Titular</th>\n",
       "      <th>Subtítulo</th>\n",
       "      <th>Cuerpo</th>\n",
       "      <th>Categoría</th>\n",
       "      <th>Target</th>\n",
       "      <th>Texto</th>\n",
       "    </tr>\n",
       "  </thead>\n",
       "  <tbody>\n",
       "    <tr>\n",
       "      <th>0</th>\n",
       "      <td>ElDiario.es</td>\n",
       "      <td>https://www.eldiario.es/politica/pp-recupera-l...</td>\n",
       "      <td>2023-07-11</td>\n",
       "      <td>El PP se recupera ligeramente pero sigue sin o...</td>\n",
       "      <td>La estimación de escaños no se mueve en la enc...</td>\n",
       "      <td>El partido popular se recupera muy ligeramente...</td>\n",
       "      <td>politica</td>\n",
       "      <td>0</td>\n",
       "      <td>El PP se recupera ligeramente pero sigue sin o...</td>\n",
       "    </tr>\n",
       "    <tr>\n",
       "      <th>1</th>\n",
       "      <td>ElDiario.es</td>\n",
       "      <td>https://www.eldiario.es/politica/58-ciudadanos...</td>\n",
       "      <td>2023-07-11</td>\n",
       "      <td>Un 58% de los ciudadanos critican los pactos c...</td>\n",
       "      <td>El 17,8% de quienes apuestan por Feijóo ven “m...</td>\n",
       "      <td>El PP ha necesitado a Vox para recuperar buena...</td>\n",
       "      <td>politica</td>\n",
       "      <td>0</td>\n",
       "      <td>Un 58% de los ciudadanos critican los pactos c...</td>\n",
       "    </tr>\n",
       "    <tr>\n",
       "      <th>2</th>\n",
       "      <td>ElDiario.es</td>\n",
       "      <td>https://www.eldiario.es/politica/diputado-ayus...</td>\n",
       "      <td>2023-07-11</td>\n",
       "      <td>Un diputado de Ayuso reúne a un grupo de vícti...</td>\n",
       "      <td>Daniel Portero trata con urgencia de contrarre...</td>\n",
       "      <td>El diputado del PP en la Asamblea de Madrid Da...</td>\n",
       "      <td>politica</td>\n",
       "      <td>0</td>\n",
       "      <td>Un diputado de Ayuso reúne a un grupo de vícti...</td>\n",
       "    </tr>\n",
       "    <tr>\n",
       "      <th>3</th>\n",
       "      <td>ElDiario.es</td>\n",
       "      <td>https://www.eldiario.es/andalucia/almeria/psoe...</td>\n",
       "      <td>2023-07-11</td>\n",
       "      <td>El PSOE de Mójacar recurre ante el Constitucio...</td>\n",
       "      <td>Ya con nuevo alcalde del PP, los socialistas r...</td>\n",
       "      <td>Mojácar retomó el ritmo político con la procla...</td>\n",
       "      <td>andalucia</td>\n",
       "      <td>0</td>\n",
       "      <td>El PSOE de Mójacar recurre ante el Constitucio...</td>\n",
       "    </tr>\n",
       "    <tr>\n",
       "      <th>4</th>\n",
       "      <td>ElDiario.es</td>\n",
       "      <td>https://www.eldiario.es/castilla-la-mancha/pol...</td>\n",
       "      <td>2023-07-11</td>\n",
       "      <td>La exalcaldesa de Toledo pide a Feijóo que fir...</td>\n",
       "      <td>La socialista, también número dos al Congreso,...</td>\n",
       "      <td>La exalcaldesa de Toledo y 'número dos' de la ...</td>\n",
       "      <td>castilla-la-mancha</td>\n",
       "      <td>0</td>\n",
       "      <td>La exalcaldesa de Toledo pide a Feijóo que fir...</td>\n",
       "    </tr>\n",
       "  </tbody>\n",
       "</table>\n",
       "</div>"
      ],
      "text/plain": [
       "     Periódico                                       Hipervínculo  \\\n",
       "0  ElDiario.es  https://www.eldiario.es/politica/pp-recupera-l...   \n",
       "1  ElDiario.es  https://www.eldiario.es/politica/58-ciudadanos...   \n",
       "2  ElDiario.es  https://www.eldiario.es/politica/diputado-ayus...   \n",
       "3  ElDiario.es  https://www.eldiario.es/andalucia/almeria/psoe...   \n",
       "4  ElDiario.es  https://www.eldiario.es/castilla-la-mancha/pol...   \n",
       "\n",
       "  Fecha publicación                                            Titular  \\\n",
       "0        2023-07-11  El PP se recupera ligeramente pero sigue sin o...   \n",
       "1        2023-07-11  Un 58% de los ciudadanos critican los pactos c...   \n",
       "2        2023-07-11  Un diputado de Ayuso reúne a un grupo de vícti...   \n",
       "3        2023-07-11  El PSOE de Mójacar recurre ante el Constitucio...   \n",
       "4        2023-07-11  La exalcaldesa de Toledo pide a Feijóo que fir...   \n",
       "\n",
       "                                           Subtítulo  \\\n",
       "0  La estimación de escaños no se mueve en la enc...   \n",
       "1  El 17,8% de quienes apuestan por Feijóo ven “m...   \n",
       "2  Daniel Portero trata con urgencia de contrarre...   \n",
       "3  Ya con nuevo alcalde del PP, los socialistas r...   \n",
       "4  La socialista, también número dos al Congreso,...   \n",
       "\n",
       "                                              Cuerpo           Categoría  \\\n",
       "0  El partido popular se recupera muy ligeramente...            politica   \n",
       "1  El PP ha necesitado a Vox para recuperar buena...            politica   \n",
       "2  El diputado del PP en la Asamblea de Madrid Da...            politica   \n",
       "3  Mojácar retomó el ritmo político con la procla...           andalucia   \n",
       "4  La exalcaldesa de Toledo y 'número dos' de la ...  castilla-la-mancha   \n",
       "\n",
       "   Target                                              Texto  \n",
       "0       0  El PP se recupera ligeramente pero sigue sin o...  \n",
       "1       0  Un 58% de los ciudadanos critican los pactos c...  \n",
       "2       0  Un diputado de Ayuso reúne a un grupo de vícti...  \n",
       "3       0  El PSOE de Mójacar recurre ante el Constitucio...  \n",
       "4       0  La exalcaldesa de Toledo pide a Feijóo que fir...  "
      ]
     },
     "execution_count": 7,
     "metadata": {},
     "output_type": "execute_result"
    }
   ],
   "source": [
    "df[\"Texto\"] = df.Titular + \" \" + df.Cuerpo\n",
    "df.head()"
   ]
  },
  {
   "cell_type": "code",
   "execution_count": 8,
   "id": "3af1a2d5-2bc9-4f96-b920-491fe5b5547b",
   "metadata": {},
   "outputs": [
    {
     "data": {
      "text/plain": [
       "'México registra un récord de 74.764 solicitudes de refugio en el primer semestre de 2023 Ciudad de México, 11 jul (EFE).- El número de solicitantes de refugio en México durante el primer semestre de 2023 registró una cifra récord de 74.764 migrantes, un aumento del 28 % respecto al mismo periodo del año pasado, cuando se recibieron 58.283, reveló la Comisión Mexicana de Ayuda a Refugiados (Comar).La cifra de peticiones recibidas por el organismo gubernamental encargado de realizar este tipo de trámites migratorios en junio también es superior a la de los años anteriores, igual que sucedió en los cinco meses pasados: 11.570, frente a las 9.667 del año pasado y las 10.297 de 2021.En el caso de seguir con esta tendencia México podría registrar cifras inéditas de solicitudes de refugio en 2023, en un contexto marcado por las restricciones migratorias impuestas por Estados Unidos, destino de muchos de los extranjeros que atraviesan el país.Este martes se cumplen dos meses desde la derogación del Título 42, una ley sanitaria empleada por Washington para deportar a 2,8 millones de migrantes con el argumento de la pandemia de covid-19, y la implementación del Título 8, que recrudece las sanciones a quienes crucen de forma ilegal la frontera.De acuerdo con expertos en la materia, esta tesitura ha provocado que cada vez más migrantes decidan solicitar refugio y establecerse en México.Los haitianos, siguiendo una tendencia que se ha sostenido durante los seis primeros meses del año, son quienes más acuden a la Comar para tratar de conseguir refugio, con 29.532 solicitudes, seguidos por los hondureños (18.210), los cubanos (5.034), los venezolanos (3.511) y los salvadoreños (3.408).Tapachula, municipio del estado de Chiapas fronterizo con Guatemala, aglutina la mayoría de estas solicitudes (39.252), seguida por Ciudad de México (17.099) y la sudoriental Veracruz (3.934).Las solicitudes realizadas por 74.764 personas se agrupan en 43.773 casos, de los que solo se han resuelto 12.197, el 68 % de forma positiva.La cifra de casos resueltos en la primera mitad de 2023 se encuentra por debajo de la registrada en los años anteriores, lo que señala la saturación que está sufriendo la Comar.En 2022 y 2021 se resolvieron 36.066 y 38.105 casos, respectivamente, más de los que se registrarían este 2023 en el caso de continuar con la tendencia actual.Los nacidos en Honduras son los que, en proporción, más resoluciones positivas han recibido este año (89 %), seguidos por los naturales de Venezuela (85 %) y El Salvador (83 %).En tanto, en las numerosas solicitudes de los haitianos, que huyen del país más pobre del hemisferio occidental y donde las bandas criminales han ocupado el vacío de poder que dejó el asesinato del presidente Jovenel Moïse en 2021, apenas un 6 % han recibido respuestas positivas.En la última década, la Comar ha recibido 494.240 solicitudes de refugio, de las que ha resuelto un total de 157.520, el 64,8 % de forma positiva'"
      ]
     },
     "execution_count": 8,
     "metadata": {},
     "output_type": "execute_result"
    }
   ],
   "source": [
    "df[\"Texto\"][65]"
   ]
  },
  {
   "cell_type": "code",
   "execution_count": 9,
   "id": "527be25a-41ca-4a60-9672-bb1aaa88f1de",
   "metadata": {},
   "outputs": [],
   "source": [
    "from sklearn.model_selection import train_test_split\n",
    "X_train, X_test, y_train, y_test = train_test_split(df[\"Texto\"], \n",
    "                                                  df[\"Target\"], \n",
    "                                                  test_size=0.3, \n",
    "                                                  stratify=df[\"Target\"],\n",
    "                                                  random_state=42)"
   ]
  },
  {
   "cell_type": "code",
   "execution_count": 10,
   "id": "96f7478b-460c-4ad5-9abd-9b6253e73234",
   "metadata": {},
   "outputs": [
    {
     "data": {
      "text/plain": [
       "0"
      ]
     },
     "execution_count": 10,
     "metadata": {},
     "output_type": "execute_result"
    }
   ],
   "source": [
    "df[\"Texto\"].isna().any().sum()"
   ]
  },
  {
   "cell_type": "code",
   "execution_count": 11,
   "id": "311156f7-69df-4fa7-9d6d-0b20ed067026",
   "metadata": {},
   "outputs": [],
   "source": [
    "from sklearn.feature_extraction.text import TfidfVectorizer\n",
    "from sklearn.feature_extraction.text import CountVectorizer\n",
    "from nltk.corpus import stopwords\n",
    "stopwords = stopwords.words('spanish')\n",
    "spanish_stop_words = ['000', '10', '11','110', '112', '12','120', '13', '130','newsletter','14', '15', '18', '19', '20']\n",
    "vectorizer = TfidfVectorizer(max_features=10000, stop_words=stopwords+spanish_stop_words)\n",
    "X_train_vect = vectorizer.fit_transform(X_train)"
   ]
  },
  {
   "cell_type": "code",
   "execution_count": 12,
   "id": "9498c7b6-53fe-456f-95ac-3f119b69fa71",
   "metadata": {},
   "outputs": [
    {
     "data": {
      "text/plain": [
       "array(['05', '07', '100', ..., 'únicos', 'útil', 'útiles'], dtype=object)"
      ]
     },
     "execution_count": 12,
     "metadata": {},
     "output_type": "execute_result"
    }
   ],
   "source": [
    "vectorizer.get_feature_names_out()"
   ]
  },
  {
   "cell_type": "code",
   "execution_count": 13,
   "id": "fb910932-da0b-4066-9d2d-f5f49584ae70",
   "metadata": {},
   "outputs": [
    {
     "data": {
      "text/plain": [
       "array([0, 0, 0, ..., 0, 0, 1], dtype=int64)"
      ]
     },
     "execution_count": 13,
     "metadata": {},
     "output_type": "execute_result"
    }
   ],
   "source": [
    "from sklearn.linear_model import LogisticRegression\n",
    "clf = LogisticRegression(random_state=42, max_iter=1000).fit(X_train_vect, y_train)\n",
    "clf.predict(X_train_vect)"
   ]
  },
  {
   "cell_type": "code",
   "execution_count": 14,
   "id": "e4998ef6-64a2-4aa9-9caa-6286c0709860",
   "metadata": {},
   "outputs": [],
   "source": [
    "X_test_vect = vectorizer.transform(X_test)\n",
    "y_pred = clf.predict(X_test_vect)"
   ]
  },
  {
   "cell_type": "code",
   "execution_count": 15,
   "id": "87408811-6a74-43f4-876c-da982ab03850",
   "metadata": {},
   "outputs": [
    {
     "name": "stdout",
     "output_type": "stream",
     "text": [
      "Accuracy Modelo LogisticRegression-TfidfVectorizer: 0.9491298527443106\n",
      "Classification Report:\n",
      "               precision    recall  f1-score   support\n",
      "\n",
      "           0       0.96      0.94      0.95       752\n",
      "           1       0.94      0.96      0.95       742\n",
      "\n",
      "    accuracy                           0.95      1494\n",
      "   macro avg       0.95      0.95      0.95      1494\n",
      "weighted avg       0.95      0.95      0.95      1494\n",
      "\n"
     ]
    }
   ],
   "source": [
    "from sklearn.metrics import accuracy_score, classification_report\n",
    "\n",
    "accuracy = accuracy_score(y_test, y_pred)\n",
    "report = classification_report(y_test, y_pred)\n",
    "\n",
    "print(\"Accuracy Modelo LogisticRegression-TfidfVectorizer:\", accuracy)\n",
    "print(\"Classification Report:\\n\", report)"
   ]
  },
  {
   "cell_type": "code",
   "execution_count": 16,
   "id": "06a3dc6a-25de-45ec-b5e0-8bcda6f6e0dc",
   "metadata": {},
   "outputs": [],
   "source": [
    "from sklearn.metrics import confusion_matrix\n",
    "from sklearn.metrics import ConfusionMatrixDisplay"
   ]
  },
  {
   "cell_type": "code",
   "execution_count": 17,
   "id": "b3cdd6d4-6ccb-42b7-870f-19511b1afe42",
   "metadata": {},
   "outputs": [
    {
     "name": "stdout",
     "output_type": "stream",
     "text": [
      "Confusion Matrix\n"
     ]
    },
    {
     "data": {
      "image/png": "[encoded data removed]",
      "text/plain": [
       "<Figure size 640x480 with 2 Axes>"
      ]
     },
     "metadata": {},
     "output_type": "display_data"
    }
   ],
   "source": [
    "cfm = confusion_matrix(y_test,y_pred)\n",
    "print(\"Confusion Matrix\")\n",
    "disp = ConfusionMatrixDisplay(cfm)\n",
    "disp.plot()\n",
    "plt.show()"
   ]
  },
  {
   "cell_type": "code",
   "execution_count": 18,
   "id": "8eed5e83-b464-4320-a8df-5e9f1a27b419",
   "metadata": {},
   "outputs": [
    {
     "data": {
      "text/plain": [
       "<Figure size 640x480 with 0 Axes>"
      ]
     },
     "metadata": {},
     "output_type": "display_data"
    }
   ],
   "source": [
    "nombre_archivo = \"matrizconf_reglog.jpg\"\n",
    "plt.savefig(nombre_archivo, format='jpg', dpi=300)"
   ]
  },
  {
   "cell_type": "code",
   "execution_count": null,
   "id": "d1d60f8e-7bf0-495f-9188-f84848b51e10",
   "metadata": {},
   "outputs": [],
   "source": []
  }
 ],
 "metadata": {
  "kernelspec": {
   "display_name": "Python 3 (ipykernel)",
   "language": "python",
   "name": "python3"
  },
  "language_info": {
   "codemirror_mode": {
    "name": "ipython",
    "version": 3
   },
   "file_extension": ".py",
   "mimetype": "text/x-python",
   "name": "python",
   "nbconvert_exporter": "python",
   "pygments_lexer": "ipython3",
   "version": "3.10.9"
  }
 },
 "nbformat": 4,
 "nbformat_minor": 5
}
