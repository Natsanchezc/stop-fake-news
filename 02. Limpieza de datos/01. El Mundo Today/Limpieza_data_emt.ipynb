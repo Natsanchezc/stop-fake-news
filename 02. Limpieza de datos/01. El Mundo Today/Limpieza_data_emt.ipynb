{
 "cells": [
  {
   "cell_type": "markdown",
   "id": "9a259b66-4409-4bc8-96a7-d4b40bbc5de7",
   "metadata": {},
   "source": [
    "# Limpieza de datos ElMundoToday"
   ]
  },
  {
   "cell_type": "code",
   "execution_count": 1,
   "id": "86ce7b4f-4779-432f-96be-a02a6c7a942e",
   "metadata": {},
   "outputs": [],
   "source": [
    "import requests\n",
    "from bs4 import BeautifulSoup\n",
    "import pandas as pd\n",
    "import numpy as np\n",
    "import re"
   ]
  },
  {
   "cell_type": "code",
   "execution_count": 2,
   "id": "14b3cc1a-91a6-47d2-a720-b6feb59d5bd3",
   "metadata": {},
   "outputs": [
    {
     "data": {
      "text/html": [
       "<div>\n",
       "<style scoped>\n",
       "    .dataframe tbody tr th:only-of-type {\n",
       "        vertical-align: middle;\n",
       "    }\n",
       "\n",
       "    .dataframe tbody tr th {\n",
       "        vertical-align: top;\n",
       "    }\n",
       "\n",
       "    .dataframe thead th {\n",
       "        text-align: right;\n",
       "    }\n",
       "</style>\n",
       "<table border=\"1\" class=\"dataframe\">\n",
       "  <thead>\n",
       "    <tr style=\"text-align: right;\">\n",
       "      <th></th>\n",
       "      <th>Periódico</th>\n",
       "      <th>Hipervínculo</th>\n",
       "      <th>Fecha publicación</th>\n",
       "      <th>Titular</th>\n",
       "      <th>Subtítulo</th>\n",
       "      <th>Target</th>\n",
       "      <th>Cuerpo</th>\n",
       "    </tr>\n",
       "  </thead>\n",
       "  <tbody>\n",
       "    <tr>\n",
       "      <th>0</th>\n",
       "      <td>El Mundo Today</td>\n",
       "      <td>https://www.elmundotoday.com/2011/01/la-crisis...</td>\n",
       "      <td>2011-01-30</td>\n",
       "      <td>La crisis obliga a la mafia italiana a pegar a...</td>\n",
       "      <td>LA VIOLENCIA DE BAJO COSTE SE INSTAURA COMO TE...</td>\n",
       "      <td>1</td>\n",
       "      <td>Las dificultades económicas empiezan a hacer m...</td>\n",
       "    </tr>\n",
       "    <tr>\n",
       "      <th>1</th>\n",
       "      <td>El Mundo Today</td>\n",
       "      <td>https://www.elmundotoday.com/2011/01/neutrex-n...</td>\n",
       "      <td>2011-01-28</td>\n",
       "      <td>Neutrex no organizará más viajes en el tiempo ...</td>\n",
       "      <td>LA NEUTREX DEL FUTURO, ATRAPADA EN 2011</td>\n",
       "      <td>1</td>\n",
       "      <td>Tiene sesenta años pero aparenta veinte porque...</td>\n",
       "    </tr>\n",
       "    <tr>\n",
       "      <th>2</th>\n",
       "      <td>El Mundo Today</td>\n",
       "      <td>https://www.elmundotoday.com/2011/01/las-bajas...</td>\n",
       "      <td>2011-01-27</td>\n",
       "      <td>Las bajas temperaturas obligan a los españoles...</td>\n",
       "      <td>HA HABIDO ABRAZOS DE MÁS DE DIEZ MINUTOS CON S...</td>\n",
       "      <td>1</td>\n",
       "      <td>Tal y como advertía hace unas semanas la Agenc...</td>\n",
       "    </tr>\n",
       "    <tr>\n",
       "      <th>3</th>\n",
       "      <td>El Mundo Today</td>\n",
       "      <td>https://www.elmundotoday.com/2011/01/encuentra...</td>\n",
       "      <td>2011-01-27</td>\n",
       "      <td>Encuentra a Wally buscando el punto G</td>\n",
       "      <td>SE ESCONDÍA EN LOS GENITALES DE SU ESPOSA</td>\n",
       "      <td>1</td>\n",
       "      <td>Aunque lamenta no haber encontrado el punto G,...</td>\n",
       "    </tr>\n",
       "    <tr>\n",
       "      <th>4</th>\n",
       "      <td>El Mundo Today</td>\n",
       "      <td>https://www.elmundotoday.com/2011/01/el-gobier...</td>\n",
       "      <td>2011-01-25</td>\n",
       "      <td>El Gobierno traslada a Lourdes la sede del Min...</td>\n",
       "      <td>\"UN MILAGRO ECONÓMICO ES POSIBLE\", DECLARA ELE...</td>\n",
       "      <td>1</td>\n",
       "      <td>Tras una larga negociación con Francia, el Gob...</td>\n",
       "    </tr>\n",
       "    <tr>\n",
       "      <th>...</th>\n",
       "      <td>...</td>\n",
       "      <td>...</td>\n",
       "      <td>...</td>\n",
       "      <td>...</td>\n",
       "      <td>...</td>\n",
       "      <td>...</td>\n",
       "      <td>...</td>\n",
       "    </tr>\n",
       "    <tr>\n",
       "      <th>2102</th>\n",
       "      <td>El Mundo Today</td>\n",
       "      <td>https://www.elmundotoday.com/2023/07/un-hombre...</td>\n",
       "      <td>2023-07-05</td>\n",
       "      <td>Un hombre pregunta si, con lo del cambio climá...</td>\n",
       "      <td>\"SI EN INVIERNO HACE CALOR, DIGO YO QUE ME PUE...</td>\n",
       "      <td>1</td>\n",
       "      <td>\\nCansado de tener que esperar casi un año par...</td>\n",
       "    </tr>\n",
       "    <tr>\n",
       "      <th>2103</th>\n",
       "      <td>El Mundo Today</td>\n",
       "      <td>https://www.elmundotoday.com/2023/07/pedro-san...</td>\n",
       "      <td>2023-07-05</td>\n",
       "      <td>Pedro Sánchez ganaría las elecciones con el 10...</td>\n",
       "      <td>\"ES UN SONDEO... PERO VAMOS, ESTO ESTÁ GANADO\"...</td>\n",
       "      <td>1</td>\n",
       "      <td>\\n«Remontada», ha dicho Pedro Sánchez al prese...</td>\n",
       "    </tr>\n",
       "    <tr>\n",
       "      <th>2104</th>\n",
       "      <td>El Mundo Today</td>\n",
       "      <td>https://www.elmundotoday.com/2023/07/el-psoe-p...</td>\n",
       "      <td>2023-07-05</td>\n",
       "      <td>El PSOE pide no abandonar al perro este verano</td>\n",
       "      <td>\"TE NECESITA, QUIÉRELO\", INSISTEN LOS SOCIALISTAS</td>\n",
       "      <td>1</td>\n",
       "      <td>\\n«Llega el calor, hay cierto hartazgo y ganas...</td>\n",
       "    </tr>\n",
       "    <tr>\n",
       "      <th>2105</th>\n",
       "      <td>El Mundo Today</td>\n",
       "      <td>https://www.elmundotoday.com/2023/07/que-es-lo...</td>\n",
       "      <td>2023-07-04</td>\n",
       "      <td>¿Qué es lo que ha querido decir realmente Dani...</td>\n",
       "      <td>NaN</td>\n",
       "      <td>1</td>\n",
       "      <td>¿Qué es lo que ha querido decir realmente Dani...</td>\n",
       "    </tr>\n",
       "    <tr>\n",
       "      <th>2106</th>\n",
       "      <td>El Mundo Today</td>\n",
       "      <td>https://www.elmundotoday.com/2023/07/5-recetas...</td>\n",
       "      <td>2023-07-04</td>\n",
       "      <td>Cinco recetas rápidas de espaguetis que arruin...</td>\n",
       "      <td>¿HAS VALORADO COMPRAR UNA BÁSCULA?</td>\n",
       "      <td>1</td>\n",
       "      <td>\\nLos espaguetis o spaghetti son uno de los fo...</td>\n",
       "    </tr>\n",
       "  </tbody>\n",
       "</table>\n",
       "<p>2107 rows × 7 columns</p>\n",
       "</div>"
      ],
      "text/plain": [
       "           Periódico                                       Hipervínculo  \\\n",
       "0     El Mundo Today  https://www.elmundotoday.com/2011/01/la-crisis...   \n",
       "1     El Mundo Today  https://www.elmundotoday.com/2011/01/neutrex-n...   \n",
       "2     El Mundo Today  https://www.elmundotoday.com/2011/01/las-bajas...   \n",
       "3     El Mundo Today  https://www.elmundotoday.com/2011/01/encuentra...   \n",
       "4     El Mundo Today  https://www.elmundotoday.com/2011/01/el-gobier...   \n",
       "...              ...                                                ...   \n",
       "2102  El Mundo Today  https://www.elmundotoday.com/2023/07/un-hombre...   \n",
       "2103  El Mundo Today  https://www.elmundotoday.com/2023/07/pedro-san...   \n",
       "2104  El Mundo Today  https://www.elmundotoday.com/2023/07/el-psoe-p...   \n",
       "2105  El Mundo Today  https://www.elmundotoday.com/2023/07/que-es-lo...   \n",
       "2106  El Mundo Today  https://www.elmundotoday.com/2023/07/5-recetas...   \n",
       "\n",
       "     Fecha publicación                                            Titular  \\\n",
       "0           2011-01-30  La crisis obliga a la mafia italiana a pegar a...   \n",
       "1           2011-01-28  Neutrex no organizará más viajes en el tiempo ...   \n",
       "2           2011-01-27  Las bajas temperaturas obligan a los españoles...   \n",
       "3           2011-01-27              Encuentra a Wally buscando el punto G   \n",
       "4           2011-01-25  El Gobierno traslada a Lourdes la sede del Min...   \n",
       "...                ...                                                ...   \n",
       "2102        2023-07-05  Un hombre pregunta si, con lo del cambio climá...   \n",
       "2103        2023-07-05  Pedro Sánchez ganaría las elecciones con el 10...   \n",
       "2104        2023-07-05     El PSOE pide no abandonar al perro este verano   \n",
       "2105        2023-07-04  ¿Qué es lo que ha querido decir realmente Dani...   \n",
       "2106        2023-07-04  Cinco recetas rápidas de espaguetis que arruin...   \n",
       "\n",
       "                                              Subtítulo  Target  \\\n",
       "0     LA VIOLENCIA DE BAJO COSTE SE INSTAURA COMO TE...       1   \n",
       "1               LA NEUTREX DEL FUTURO, ATRAPADA EN 2011       1   \n",
       "2     HA HABIDO ABRAZOS DE MÁS DE DIEZ MINUTOS CON S...       1   \n",
       "3             SE ESCONDÍA EN LOS GENITALES DE SU ESPOSA       1   \n",
       "4     \"UN MILAGRO ECONÓMICO ES POSIBLE\", DECLARA ELE...       1   \n",
       "...                                                 ...     ...   \n",
       "2102  \"SI EN INVIERNO HACE CALOR, DIGO YO QUE ME PUE...       1   \n",
       "2103  \"ES UN SONDEO... PERO VAMOS, ESTO ESTÁ GANADO\"...       1   \n",
       "2104  \"TE NECESITA, QUIÉRELO\", INSISTEN LOS SOCIALISTAS       1   \n",
       "2105                                                NaN       1   \n",
       "2106                 ¿HAS VALORADO COMPRAR UNA BÁSCULA?       1   \n",
       "\n",
       "                                                 Cuerpo  \n",
       "0     Las dificultades económicas empiezan a hacer m...  \n",
       "1     Tiene sesenta años pero aparenta veinte porque...  \n",
       "2     Tal y como advertía hace unas semanas la Agenc...  \n",
       "3     Aunque lamenta no haber encontrado el punto G,...  \n",
       "4     Tras una larga negociación con Francia, el Gob...  \n",
       "...                                                 ...  \n",
       "2102  \\nCansado de tener que esperar casi un año par...  \n",
       "2103  \\n«Remontada», ha dicho Pedro Sánchez al prese...  \n",
       "2104  \\n«Llega el calor, hay cierto hartazgo y ganas...  \n",
       "2105  ¿Qué es lo que ha querido decir realmente Dani...  \n",
       "2106  \\nLos espaguetis o spaghetti son uno de los fo...  \n",
       "\n",
       "[2107 rows x 7 columns]"
      ]
     },
     "execution_count": 2,
     "metadata": {},
     "output_type": "execute_result"
    }
   ],
   "source": [
    "df_emt = pd.read_csv(\"data_emt.csv\")\n",
    "df_emt"
   ]
  },
  {
   "cell_type": "code",
   "execution_count": 16,
   "id": "b0648087-bceb-43c7-8cd2-44fdb935bc1e",
   "metadata": {},
   "outputs": [
    {
     "data": {
      "text/plain": [
       "'Las dificultades económicas empiezan a hacer mella en las organizaciones criminales. La Cosa Nostra, concretamente, ha admitido en un comunicado grabado a fuego en la espalda de una víctima de Palermo (Italia) que está llevando a cabo «recortes de plantilla por la vía rápida». Dada la creciente falta de personal, sumada a la necesidad de aceptar encargos de todo tipo -«incluyendo el asesinato de un hámster que sufre o la quema de malas hierbas»-, la efectividad de las acciones criminales está decreciendo hasta el punto de que «no hay tiempo para palizas enteras y tenemos que ir pegando a plazos».Las informaciones de la mafia cuadran con los datos de las autoridades italianas, que certifican el aumento de personas magulladas que esperan con angustia la segunda, tercera o cuarta fase de la paliza que la mafia les debe. «Primero te dan una bofetada y luego te preguntan qué plan tienes para la próxima semana porque ahora no tienen tiempo para seguir dándote fuerte. Hasta que vuelven, vives instalado en el miedo», se lamenta un testimonio anónimo, que añade que «con las prisas a veces sólo te rocían con gasolina pero no te queman, dejándote el cutis hecho un asco y la ropa ni te cuento».«La crisis nos obliga a tirar de jóvenes becarios. A veces ni siquiera tenemos para sus sueldos y entonces se enfadan y nos amenazan. Nosotros les mandamos más becarios para intimidarles y se pegan entre ellos hasta caer rendidos. Además, desde que utilizamos bombas de bajo consumo no conseguimos más que asustar a las viejas. En muchos casos nos funciona más fingir que somos bancos o incluso Testigos de Jehová», reconocía por teléfono un representante de la organización criminal.El ejemplo más llamativo de la violencia de bajo coste es el de un conocido jugador de fútbol italiano al que la mafia persigue desde hace tiempo. «Dejaron un mensaje en mi página de fans del Facebook diciendo que me arrebatarían lo que más quiero. El mismo día, llego a casa y me encuentro con que han entrado en mi cocina y se han comido todos mis Muffins de Kinder Cereali, dejando los envoltorios esparcidos por el suelo», explica el deportista. La víctima reconoce también que atacaron a su familia «bajándose una foto de mi mujer que había en Facebook y añadiéndole bigote con el Photoshop para luego difundir los retoques por Twitter».'"
      ]
     },
     "execution_count": 16,
     "metadata": {},
     "output_type": "execute_result"
    }
   ],
   "source": [
    "df_emt[\"Cuerpo\"][0].replace(\"\\n\", \"\")"
   ]
  },
  {
   "cell_type": "code",
   "execution_count": 18,
   "id": "377a9d60-2a0b-4080-b62f-9ac1b2fb5f14",
   "metadata": {
    "tags": []
   },
   "outputs": [
    {
     "data": {
      "text/plain": [
       "INICIAR SESIÓN                                                                                                                                                                                                                                                                                                                                                                                                                                                                                                                                                                                                                                                                                                                                                                                                                                                                                                                                                                                                                                                                                                                                                                                                                                                                                                                                                                                                                                                                                                                                                                                                                                                                                                                                                                                                                                                                                                                                                                                                                                                                                                                                                                                                                                                                                                                                                                                                                                                                                                                                                                                                                                                                                                                                                                                                                                                                                                                                                                                                                                                                                                                                                                                                                                                                                                                                                                                                                                                                                                                                                                                                                                                                                                                                                                                                                                                                                                                                                                                                      150\n",
       "\\n                                                                                                                                                                                                                                                                                                                                                                                                                                                                                                                                                                                                                                                                                                                                                                                                                                                                                                                                                                                                                                                                                                                                                                                                                                                                                                                                                                                                                                                                                                                                                                                                                                                                                                                                                                                                                                                                                                                                                                                                                                                                                                                                                                                                                                                                                                                                                                                                                                                                                                                                                                                                                                                                                                                                                                                                                                                                                                                                                                                                                                                                                                                                                                                                                                                                                                                                                                                                                                                                                                                                                                                                                                                                                                                                                                                                                                                                                                                                                                                                                   12\n",
       "\\n\\nEste contenido es solo para suscriptores de El Mundo Today. \\nAccede a tu cuenta ¡Suscríbete ahora!\\n\\n                                                                                                                                                                                                                                                                                                                                                                                                                                                                                                                                                                                                                                                                                                                                                                                                                                                                                                                                                                                                                                                                                                                                                                                                                                                                                                                                                                                                                                                                                                                                                                                                                                                                                                                                                                                                                                                                                                                                                                                                                                                                                                                                                                                                                                                                                                                                                                                                                                                                                                                                                                                                                                                                                                                                                                                                                                                                                                                                                                                                                                                                                                                                                                                                                                                                                                                                                                                                                                                                                                                                                                                                                                                                                                                                                                                                                                                                                                          11\n",
       "Las dificultades económicas empiezan a hacer mella en las organizaciones criminales. La Cosa Nostra, concretamente, ha admitido en un comunicado grabado a fuego en la espalda de una víctima de Palermo (Italia) que está llevando a cabo «recortes de plantilla por la vía rápida». Dada la creciente falta de personal, sumada a la necesidad de aceptar encargos de todo tipo -«incluyendo el asesinato de un hámster que sufre o la quema de malas hierbas»-, la efectividad de las acciones criminales está decreciendo hasta el punto de que «no hay tiempo para palizas enteras y tenemos que ir pegando a plazos».\\nLas informaciones de la mafia cuadran con los datos de las autoridades italianas, que certifican el aumento de personas magulladas que esperan con angustia la segunda, tercera o cuarta fase de la paliza que la mafia les debe. «Primero te dan una bofetada y luego te preguntan qué plan tienes para la próxima semana porque ahora no tienen tiempo para seguir dándote fuerte. Hasta que vuelven, vives instalado en el miedo», se lamenta un testimonio anónimo, que añade que «con las prisas a veces sólo te rocían con gasolina pero no te queman, dejándote el cutis hecho un asco y la ropa ni te cuento».\\n«La crisis nos obliga a tirar de jóvenes becarios. A veces ni siquiera tenemos para sus sueldos y entonces se enfadan y nos amenazan. Nosotros les mandamos más becarios para intimidarles y se pegan entre ellos hasta caer rendidos. Además, desde que utilizamos bombas de bajo consumo no conseguimos más que asustar a las viejas. En muchos casos nos funciona más fingir que somos bancos o incluso Testigos de Jehová», reconocía por teléfono un representante de la organización criminal.\\nEl ejemplo más llamativo de la violencia de bajo coste es el de un conocido jugador de fútbol italiano al que la mafia persigue desde hace tiempo. «Dejaron un mensaje en mi página de fans del Facebook diciendo que me arrebatarían lo que más quiero. El mismo día, llego a casa y me encuentro con que han entrado en mi cocina y se han comido todos mis Muffins de Kinder Cereali, dejando los envoltorios esparcidos por el suelo», explica el deportista. La víctima reconoce también que atacaron a su familia «bajándose una foto de mi mujer que había en Facebook y añadiéndole bigote con el Photoshop para luego difundir los retoques por Twitter».\\n                                                                                                                                                                                                                                                                                                                                                                                                                                                                                                                                                                                                                                                                                                                                                                                                                                                                                                                                                                                                                                                                                                                                                                                                                                                                                                                                                                                                                                                                                                                                                                                       1\n",
       "Absolutamente indignado y llorando amargamente por segunda vez en un mes, Amancio Ortega ha vuelto a preguntar a sus ejecutivos cómo es “puto posible, me cago en todos vuestros muertos” que se estén vendiendo tazas de El Mundo Today y no sea en un Zara Home. “Hemos fracasado otra vez, debimos adelantarnos a ellos en este tema, especialmente después de que los muy cabrones empezaran a vender camisetas y no fuera en un Zara de los de ropa”, ha dicho el magnate entre lágrimas, que considera que ya no tiene sentido seguir en el negocio del menaje de hogar después de que “estos muertos de hambre, que no tienen donde caerse muertos” hayan sacado a la venta “las mejores tazas del mundo”, según sus palabras.\\n“En las putas tazas de mierda pone ‘El teclado de tu ordenador informa de que no va a querer más café’, lo que es hilarante y no se nos ha ocurrido a nosotros”, ha dicho el empresario durante su berrinche, el segundo de este mes.\\n“Quiero que a partir de hoy mismo todo lo que produzca Inditex tenga titulares de El Mundo Today: los trajes de noche, los zapatos de hombre, las corbatas, las cestas de fruta, las toallas y hasta los calzoncillos de niño. Absolutamente todo. Estos mequetrefes miserables que no tienen ni idea de dónde se están metiendo, no van a adelantarme en esto”, ha pedido Ortega a su equipo.\\n“Vosotros creéis que son unos inútiles porque han sacado su nuevo producto a la venta justo cuando termina la campaña de Navidad… pero yo os digo que esos tíos algo traman. Son más listos de lo que pensamos, seguro que tienen algo pensado”, asegura el magnate, que ahora cree haber minusvalorado a Xavi Puig y Kike García, directores de este medio. “En unos años nos van a quitar del negocio, abrirán tiendas en todas partes… todos los productos de consumo serán de su marca… Hay que evitar eso”.\\nA última hora, Amancio Ortega ha dicho a sus ejecutivos que hagan una oferta de compra al diario satírico y que, si sus respectivos dueños tienen la desfachatez de rechazarla, deben ser “eliminados”.\\n                                                                                                                                                                                                                                                                                                                                                                                                                                                                                                                                                                                                                                                                                                                                                                                                                                                                                                                                                                                                                                                                                                                                                                                                                                                                                                                                                                                                                                                                                                                                                                                                                                                                                                                                                                                                                                                                                                             1\n",
       "                                                                                                                                                                                                                                                                                                                                                                                                                                                                                                                                                                                                                                                                                                                                                                                                                                                                                                                                                                                                                                                                                                                                                                                                                                                                                                                                                                                                                                                                                                                                                                                                                                                                                                                                                                                                                                                                                                                                                                                                                                                                                                                                                                                                                                                                                                                                                                                                                                                                                                                                                                                                                                                                                                                                                                                                                                                                                                                                                                                                                                                                                                                                                                                                                                                                                                                                                                                                                                                                                                                                                                                                                                                                                                                                                                                                                                                                                                                                                                                                                   ... \n",
       "Un equipo internacional de científicos ha informado esta semana que está absolutamente deslumbrado por diversas fotografías de un perro que, aparentemente, se pasea a sí mismo sujetando la correa con sus propias fauces, sin necesidad de un humano.\\n“Está mordiendo su propia correa y, cuando la arrastra, su propio cuerpo la sigue pero la boca que aguanta la correa forma parte misma del cuerpo que la correa sujeta”, explica el doctor Alan Reynolds, biólogo de la Universidad de Stanford y director del equipo que está tratando de encontrar una explicación al fenómeno.\\n“Es como si una parte del perro se convirtiera en la persona que pasea al perro pero sin la persona, solo con el perro”, dice.\\n“No sé si me explico: es un sistema cerrado autofundamentado”, añade.\\n«El perro no es solo independiente sino también recursivo. Está poniendo patas arriba todo lo que sabíamos sobre correas de perro”, explica Reynolds.\\nEl equipo de científicos no cree que la física actual sea capaz de explicar el fenómeno con solvencia pero “comprenderlo podría suponer hallar una fuente de energía inagotable, por ejemplo”.\\n“Lamentablemente, por ahora solo estamos generando vídeos para YouTube”, concluye el científico.\\n                                                                                                                                                                                                                                                                                                                                                                                                                                                                                                                                                                                                                                                                                                                                                                                                                                                                                                                                                                                                                                                                                                                                                                                                                                                                                                                                                                                                                                                                                                                                                                                                                                                                                                                                                                                                                                                                                                                                                                                                                                                                                                                                                                                                                                                                                                                                                                                                                                                                                                                                                                                                                                                                                                                                                          1\n",
       "Según ha podido saber este diario, el Ministerio de Economía estaría estudiando imponer un tributo por soñar. El ministro de Hacienda y Administraciones Públicas, Cristóbal Montoro, ha aclarado algo más acerca de cómo van a ser los próximos ajustes que el Gobierno prepara para este mes de septiembre.\\n«Estamos en un tránsito hacia una fiscalidad mayor en el ámbito de la imposición indirecta. Soñar no puede seguir saliendo gratis. No es una necesidad básica: es un artículo de lujo». La Comisión Europea ha criticado la medida por considerar que va en dirección contraria a las recomendaciones de la Unión Europea, más partidaria de gravar la tributación vinculada al consumo.\\nEl gravamen de los sueños es una vieja aspiración del sector empresarial, que con la crisis se ha ido convirtiendo en una necesidad. No es la primera vez que el Gobierno habla de esta posibilidad para impulsar la productividad. «El rendimiento de un soñador puede llegar a ser hasta un 60% inferior al de un trabajador capaz de vivir en la realidad y de mantener su imaginación a raya», asegura el presidente de la patronal, Juan Rosell.\\nDe acuerdo con el Plan de Estabilidad presentado por el Ejecutivo a Bruselas, la cotización de los sueños aumentará los ingresos del Estado el año próximo en cinco décimas. Para 2016 y 2017 la previsión es que el peso sobre el PIB se incremente en siete décimas más.\\nCristóbal Montoro aseguró ayer en El Escorial que «nuestros sueños se pagarán poco en comparación con otros países» y que, además, «pagarán quienes tengan que pagar».\\nSoñar con La Roja será más barato\\nEl FMI y la Comisión Europea se han mostrado partidarios de imponer una tasa a los soñadores en numerosas ocasiones. Eso sí, ésta no afectaría a aquellos que sueñen con los triunfos de La Roja o de Rafa Nadal. Al menos es lo que ha transmitido el presidente de Baleares, José Ramón Bauzá. «Debemos imponer una mayor carga fiscal sobre aquellos sueños que fomenten las aspiraciones personales e inciten a anhelar un mayor nivel de vida o un futuro mejor», manifestó ayer Bauzá en un desayuno informativo. «Los sueños colectivos relacionados con el deporte no deberían tributar ya que al fin y al cabo se trata de logros ajenos. Que la ciudadanía viva esas aspiraciones como propias solo es producto de sus limitaciones intelectuales. Podemos cobrarles por soñadores, pero no por tontos».\\n                                                                                                                                                                                                                                                                                                                                                                                                                                                                                                                                                                                                                                                                                                                                                                                                                                                                                                                                                                                                                                                                                                                                                                                                                                                                                                                                                                                                                                                                                                                                           1\n",
       "Un vertido incontrolado de productos homeopáticos ha contaminado durante varios días la red de suministro de agua potable que se distribuye a través del Consorcio de Aguas de Tarragona (CAT) sin que se hayan observado consecuencias.\\nLos homeópatas creen que los peces nadan con más «flow»\\n«Aquí está todo bien. El río bien, la salud bien, la familia como siempre…», informaba un agente de la Guardia Civil que presenció el vertido de cuatro toneladas de medicamentos homeopáticos en el río Ebro, a la altura de Ascó.\\nAunque, según fuentes del Departamento de Medio Ambiente de la Generalitat, las sustancias han entrado en contacto directo con la fauna y la flora de la zona sin observarse efecto alguno, varios especialistas en homeopatía aseguran que este vertido reducirá notablemente los casos de reuma entre los peces. \\n«Bajará el dolor de articulaciones, se reducirá el estrés y es posible que algunos siluros recuperen el pelo de la cabeza», explican los homeópatas. «Con nueve o diez vertidos más se empezará a ver el efecto», insisten.\\nDe momento, el único cambio que ha provocado el incidente ha sido la presencia de varios enfermos en la orilla del río. Esta madrugada, las autoridades han tenido que sacar del agua a un individuo con síntomas de hipotermia que iba gritando «A mí me funciona» mientras los agentes forcejeaban con él para sacarlo del río.\\n                                                                                                                                                                                                                                                                                                                                                                                                                                                                                                                                                                                                                                                                                                                                                                                                                                                                                                                                                                                                                                                                                                                                                                                                                                                                                                                                                                                                                                                                                                                                                                                                                                                                                                                                                                                                                                                                                                                                                                                                                                                                                                                                                                                                                                                                                                                                                                                                                                                                                                                                                                                         1\n",
       "Tildándolo de “asombroso espectáculo”, Manuel Esloveño, de 54 años, asegura estar “absolutamente encandilado” por cómo paulatinamente el tiempo está transformándole en peor persona, acrecentando su egoísmo, hipocresía e indiferencia ante el pesar ajeno.\\n“Es fascinante vivir este proceso, de verdad. Supongo que es el milagro de la vida”, dice este administrativo a quien, hace años, podían afectarle las injusticias pero ya no.\\n“Es un proceso precioso ver cómo la naturaleza va haciéndote más resentido con el tiempo”, ha explicado a diversos periodistas esta mañana. “De joven eres una buena persona y te vas sorprendiendo ante tu creciente egoísmo. Y lo más increíble de todo es hasta qué punto te da igual. Es fascinante”.\\n“Es una transformación emocionante y milagrosa”, afirma\\n“Estoy encandilado y sorprendido ante mi creciente egoísmo”, dice. “Supongo que sí, que podría esforzarme para ser mejor persona pero es increíble hasta qué punto me da igual” dice absolutamente deslumbrado ante el prodigio de la madurez.\\n“Mi egoísmo está en su máxima floración ahora y puedes ver, si te fijas, cómo poco a poco ha ido tornándose en la desvergüenza más deshumanizada que puedas imaginar. Y poder ver eso, poder presenciarlo, es un privilegio”, declara.\\n“Las cosas son a la vez más triviales que nunca y mucho más importantes, y la diferencia entre lo trivial y lo importante resulta indiferente y lo que me la suda todo resulta sobrecogedor”, concluye con lágrimas en los ojos.\\nAl cierre de la edición, fuentes cercanas a Manuel han informado que éste ha vuelto a casa por la noche asegurando haberse colado en la cola del supermercado. «Y no pasa nada», ha dicho.\\n                                                                                                                                                                                                                                                                                                                                                                                                                                                                                                                                                                                                                                                                                                                                                                                                                                                                                                                                                                                                                                                                                                                                                                                                                                                                                                                                                                                                                                                                                                                                                                                                                                                                                                                                                                                                                                                                                                                                                                                                                                                                                                                                                                                                                                                                             1\n",
       "\\nLos espaguetis o spaghetti son uno de los formatos de pasta más extendidos en todo el mundo y se pueden servir con infinidad de salsas y preparaciones. Aquí tienes cinco recetas sencillísimas para prepararte una cena rápida. Lo único que tienes que hacer es hervir la cantidad de pasta adecuada y seguir unos pasos muy sencillos.\\nEspaguetis con ajo y aceite:\\nCocina los espaguetis en agua con sal hasta que estén al dente.En una sartén grande, calienta aceite de oliva y agrega varios dientes de ajo picados.Cocina el ajo a fuego medio hasta que esté dorado.Escurre los espaguetis y añádelos a la sartén y… Oh, no, ¿has hervido demasiados?Vale, ¿pero cuánto es «demasiados»?¿Sí? ¿Tantos? Oh, bueno, pues… Vale, coge algunos con cuidado de no quemarte y deja los otros en agua porque probablemen… ¿se están saliendo de la olla?Vale, pide una pizza y cierra la cocina.¿Has valorado comprar una báscula?\\nEspaguetis con tomate y albahaca:\\nCocina los espaguetis en agua con sal hasta que estén al dente.100 gramos de espaguetis por persona, no es tan difícil.Si sois dos personas, haz 200 gramos.Mientras tanto, en una sartén, calienta aceite de oliva y agrega tomates cherry cortados por la mitad.Cocina los tomates a fuego medio hasta que se ablanden.Agrega hojas de albahaca fresca y sazona con sal y pimienta al gusto.Escurre los espaguetis y… Vale, ¿pero cuántos espaguetis has hervido? ¿Un kilo? ¿Por qué has hervido un kilo?¿Dos paguetes? ¿Pero por qué has hecho dos paquetes? ¿Cuántos sois? ¿Sois diez personas?No, solo tú. Y has hecho un kilo. OK.¿Puedes llamar a gente para invitarles a comer de urgencia?No, vale, bueno, intenta comértelo todo mientras ves Anatomía de Grey.Sirve con queso parmesano rallado.\\nEspaguetis con limón y pimienta:\\nCocina los espaguetis en agua con sal hasta que estén al dente. Hagamos una cosa, contemos los espaguetis de uno en uno. Pon tres, empecemos por ahí.Un espagueti… a la olla. Bien.Dos espaguetis… a la olla. Bien.Vamos con el tercero. Treeeees espag… Vale, ¿por qué hay cuatro ollas de agua hirviendo llenas de espaguetis?Lo mejor será cocinarlos todos, ¿cuántos limones tienes en la nevera? Necesitaremos limón y pimienta.No tienes limón ni pimienta, vale.Bueno, ¿entonces por qué te has puesto a cocinar una receta que se llama literalmente «espaguetis con limón y pimienta»?Vale, a ver qué podemos hacer.Un momento, ¿por qué hay quince nuevas ollas con espaguetis hirviendo?\\nEspaguetis con pesto:\\nCocina los espaguetis en agua con sal hasta que estén al dente.Sabes que la sequía en España es un problema realmente grave, ¿verdad? Tomemos conciencia de los riesgos que suponen para nuestro futuro la desertización y el uso de recursos hídricos de forma desproporcionada. ¿Sabes que, con la cantidad de agua que usas tú para hervir una ración de espaguetis (que has sido incapaz de calcular por algún motivo y has multiplicado por mil), se podrían regar 15 campos de golf?Siendo conscientes de ello, vayamos con mucho cuidado y cocinemos únicamente una ración de espaguetis. No mil. No sesenta. No dos. Una ración para una persona humana normal.Vale, para ello…¿Te has pasado un poquito? Vale, no perdamos la paciencia. ¿Cuánto te has pasado?Ajá, ajá… entiendo.¿Has valorado montar un restaurante italiano para usar todos esos espaguetis que has cocinado por algún motivo?Llama a Buitoni ahora mismo y reserva todo el pesto que tengan. Te preguntarán cuántos palés, pero eso no es lo que tú pedirás, tú pedirás todo el pesto que tengan. Todo. Todo el que tengan. La totalidad del pesto que hayan fabricado y que tengan en stock.\\nEspaguetis con brócoli:\\nCocina los espaguetis en agua con sal hasta que estén al dente.Mientras tanto, hierve brócoli en agua con sal hasta que esté tierno.Tira el brócoli, que no se come.Cómete las cinco toneladas de espaguetis que has cocinado sin querer y muere.\\n      1\n",
       "Name: Cuerpo, Length: 1634, dtype: int64"
      ]
     },
     "execution_count": 18,
     "metadata": {},
     "output_type": "execute_result"
    }
   ],
   "source": [
    "df_emt['Cuerpo'].value_counts()"
   ]
  },
  {
   "cell_type": "code",
   "execution_count": 19,
   "id": "c3c5f6a5-021d-49c3-9f56-9ef11590d153",
   "metadata": {},
   "outputs": [
    {
     "data": {
      "text/plain": [
       "Periódico              0\n",
       "Hipervínculo           0\n",
       "Fecha publicación      0\n",
       "Titular                0\n",
       "Subtítulo            497\n",
       "Target                 0\n",
       "Cuerpo               303\n",
       "dtype: int64"
      ]
     },
     "execution_count": 19,
     "metadata": {},
     "output_type": "execute_result"
    }
   ],
   "source": [
    "df_emt.isnull().sum()"
   ]
  },
  {
   "cell_type": "code",
   "execution_count": 21,
   "id": "a70911c6-b400-4e00-b89e-50872cb8ba1b",
   "metadata": {},
   "outputs": [
    {
     "data": {
      "text/plain": [
       "(2107, 7)"
      ]
     },
     "execution_count": 21,
     "metadata": {},
     "output_type": "execute_result"
    }
   ],
   "source": [
    "df_emt.shape"
   ]
  },
  {
   "cell_type": "code",
   "execution_count": 24,
   "id": "015b42fc-3f65-442c-98e7-e414701124df",
   "metadata": {},
   "outputs": [],
   "source": [
    "df_emt2 = df_emt.copy()\n",
    "df_emt2 = df_emt2.dropna(subset=['Cuerpo'])"
   ]
  },
  {
   "cell_type": "code",
   "execution_count": 25,
   "id": "5a3472f7-0a1d-4c35-a5cd-eef7a5726e6c",
   "metadata": {},
   "outputs": [
    {
     "data": {
      "text/plain": [
       "(1804, 7)"
      ]
     },
     "execution_count": 25,
     "metadata": {},
     "output_type": "execute_result"
    }
   ],
   "source": [
    "df_emt2.shape"
   ]
  },
  {
   "cell_type": "code",
   "execution_count": 27,
   "id": "16bc1800-3f51-421b-9cc3-171457cf9020",
   "metadata": {},
   "outputs": [],
   "source": [
    "df_emt2.drop_duplicates(keep='first', inplace=True)"
   ]
  },
  {
   "cell_type": "code",
   "execution_count": 28,
   "id": "ab7e6f6d-4ebd-4af3-acd1-5c0b44efd950",
   "metadata": {},
   "outputs": [
    {
     "data": {
      "text/plain": [
       "(1804, 7)"
      ]
     },
     "execution_count": 28,
     "metadata": {},
     "output_type": "execute_result"
    }
   ],
   "source": [
    "df_emt2.shape"
   ]
  },
  {
   "cell_type": "code",
   "execution_count": 31,
   "id": "0bbc32f5-5636-412c-a8fd-b29319bca3e9",
   "metadata": {},
   "outputs": [
    {
     "data": {
      "text/plain": [
       "Periódico              0\n",
       "Hipervínculo           0\n",
       "Fecha publicación      0\n",
       "Titular                0\n",
       "Subtítulo            196\n",
       "Target                 0\n",
       "Cuerpo                 0\n",
       "dtype: int64"
      ]
     },
     "execution_count": 31,
     "metadata": {},
     "output_type": "execute_result"
    }
   ],
   "source": [
    "df_emt2.isnull().sum()"
   ]
  },
  {
   "cell_type": "code",
   "execution_count": 34,
   "id": "50214df5-9aff-468a-b5a6-919a37930578",
   "metadata": {},
   "outputs": [],
   "source": [
    "df_emt2.drop(df_emt2[df_emt2['Cuerpo'] == 'INICIAR SESIÓN'].index, inplace=True)\n",
    "df_emt2.drop(df_emt2[df_emt2['Cuerpo'] == '\\n\\nEste contenido es solo para suscriptores de El Mundo Today. \\nAccede a tu cuenta ¡Suscríbete ahora!\\n\\n'].index, inplace=True)"
   ]
  },
  {
   "cell_type": "code",
   "execution_count": 35,
   "id": "c103427a-7401-44aa-bd9e-2260af0e0833",
   "metadata": {},
   "outputs": [
    {
     "data": {
      "text/plain": [
       "(1643, 7)"
      ]
     },
     "execution_count": 35,
     "metadata": {},
     "output_type": "execute_result"
    }
   ],
   "source": [
    "df_emt2.shape"
   ]
  },
  {
   "cell_type": "code",
   "execution_count": 37,
   "id": "c735d7fd-476f-4b2b-b5fd-3ffc7b53080f",
   "metadata": {},
   "outputs": [],
   "source": [
    "df_emt2.drop(df_emt2[df_emt2['Cuerpo'] == '\\n'].index, inplace=True)"
   ]
  },
  {
   "cell_type": "code",
   "execution_count": 38,
   "id": "155e3aeb-f872-4680-9fa1-6cdcb4f2ab36",
   "metadata": {},
   "outputs": [
    {
     "data": {
      "text/plain": [
       "(1631, 7)"
      ]
     },
     "execution_count": 38,
     "metadata": {},
     "output_type": "execute_result"
    }
   ],
   "source": [
    "df_emt2.shape"
   ]
  },
  {
   "cell_type": "code",
   "execution_count": 39,
   "id": "37d13cb6-6942-4c2e-abcf-f7a8727f5124",
   "metadata": {},
   "outputs": [],
   "source": [
    "df_emt2.to_csv(\"data_emt_limpio.csv\", index=False)"
   ]
  },
  {
   "cell_type": "code",
   "execution_count": null,
   "id": "5f9ae772-d17d-4838-ae85-4451f9c29f4a",
   "metadata": {},
   "outputs": [],
   "source": []
  }
 ],
 "metadata": {
  "kernelspec": {
   "display_name": "Python 3 (ipykernel)",
   "language": "python",
   "name": "python3"
  },
  "language_info": {
   "codemirror_mode": {
    "name": "ipython",
    "version": 3
   },
   "file_extension": ".py",
   "mimetype": "text/x-python",
   "name": "python",
   "nbconvert_exporter": "python",
   "pygments_lexer": "ipython3",
   "version": "3.10.9"
  }
 },
 "nbformat": 4,
 "nbformat_minor": 5
}
