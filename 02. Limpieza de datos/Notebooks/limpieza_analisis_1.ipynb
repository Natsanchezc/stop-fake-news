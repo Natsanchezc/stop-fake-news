{
 "cells": [
  {
   "cell_type": "code",
   "execution_count": 1,
   "id": "a29f5dc4-c3e3-4e1e-a6a1-f01e6d7f4a5d",
   "metadata": {},
   "outputs": [
    {
     "name": "stdout",
     "output_type": "stream",
     "text": [
      "<class 'pandas.core.frame.DataFrame'>\n",
      "Int64Index: 6614 entries, 0 to 6784\n",
      "Data columns (total 8 columns):\n",
      " #   Column             Non-Null Count  Dtype \n",
      "---  ------             --------------  ----- \n",
      " 0   Periódico          6614 non-null   object\n",
      " 1   Hipervínculo       6614 non-null   object\n",
      " 2   Fecha publicación  6607 non-null   object\n",
      " 3   Titular            6614 non-null   object\n",
      " 4   Subtítulo          5422 non-null   object\n",
      " 5   Cuerpo             6614 non-null   object\n",
      " 6   Categoría          4983 non-null   object\n",
      " 7   Target             6614 non-null   int64 \n",
      "dtypes: int64(1), object(7)\n",
      "memory usage: 465.0+ KB\n",
      "None\n"
     ]
    }
   ],
   "source": [
    "import pandas as pd\n",
    "df_sucio = pd.read_csv('totales_sin_limpiar.csv').drop_duplicates()\n",
    "print(df_sucio.info())\n",
    "df_sucio.head()\n",
    "\n",
    "falsas = df_sucio[df_sucio.Target == 1].reset_index(drop=True)\n",
    "verdaderas = df_sucio[df_sucio.Target == 0].reset_index(drop=True)"
   ]
  },
  {
   "cell_type": "code",
   "execution_count": 2,
   "id": "ac98f8ca-8561-4944-a267-2152cfaeccfb",
   "metadata": {},
   "outputs": [
    {
     "data": {
      "text/html": [
       "<div>\n",
       "<style scoped>\n",
       "    .dataframe tbody tr th:only-of-type {\n",
       "        vertical-align: middle;\n",
       "    }\n",
       "\n",
       "    .dataframe tbody tr th {\n",
       "        vertical-align: top;\n",
       "    }\n",
       "\n",
       "    .dataframe thead th {\n",
       "        text-align: right;\n",
       "    }\n",
       "</style>\n",
       "<table border=\"1\" class=\"dataframe\">\n",
       "  <thead>\n",
       "    <tr style=\"text-align: right;\">\n",
       "      <th></th>\n",
       "      <th>Periódico</th>\n",
       "      <th>Hipervínculo</th>\n",
       "      <th>Fecha publicación</th>\n",
       "      <th>Titular</th>\n",
       "      <th>Subtítulo</th>\n",
       "      <th>Cuerpo</th>\n",
       "      <th>Categoría</th>\n",
       "      <th>Target</th>\n",
       "    </tr>\n",
       "  </thead>\n",
       "  <tbody>\n",
       "  </tbody>\n",
       "</table>\n",
       "</div>"
      ],
      "text/plain": [
       "Empty DataFrame\n",
       "Columns: [Periódico, Hipervínculo, Fecha publicación, Titular, Subtítulo, Cuerpo, Categoría, Target]\n",
       "Index: []"
      ]
     },
     "execution_count": 2,
     "metadata": {},
     "output_type": "execute_result"
    }
   ],
   "source": [
    "df_sucio[df_sucio.Cuerpo == 'NaN']\n",
    "# no hay NaNs escritos como strings"
   ]
  },
  {
   "cell_type": "code",
   "execution_count": null,
   "id": "d6811917-8135-4c22-808e-72d8d3819c0a",
   "metadata": {},
   "outputs": [],
   "source": []
  },
  {
   "cell_type": "code",
   "execution_count": 3,
   "id": "e255155c-3d51-42c0-8020-2179a2de445c",
   "metadata": {},
   "outputs": [],
   "source": [
    "import numpy as np"
   ]
  },
  {
   "cell_type": "code",
   "execution_count": 4,
   "id": "e9518635-a1c9-4468-bcc1-75a1aa8d0ec9",
   "metadata": {},
   "outputs": [
    {
     "name": "stdout",
     "output_type": "stream",
     "text": [
      "el Ministerio del Interior (Minint).Los integrantes de este grupo de migrantes cubanos habían participado en dos salidas ilegales de la isla, por la provincia central Ciego de Ávila.Con este vuelo, suman 90 las operaciones de retorno desde diferentes países en lo que va del año en curso, refiere la nota publicada por el Minint en Twitter.El pasado 6 e junio, el gobierno de Bahamas retornó a Cuba a otros tres migrantes ilegales como parte de los acuerdos migratorios entre los dos países.Aunque la mayor cantidad de migrantes irregulares cubanos deportados en esas operaciones proceden de Estados Unidos, también han sido retornado grupos desde Belice, Islas Caimán, República Dominicana y México. \n",
      "\n",
      " de la vulnerabilidad”.Y ha criticado “cualquier estamento que atentara contra todo esto”.“Uno de los grandes hitos que he tenido, en este camino, ha sido tener un público que ha hecho suyas estas canciones hasta llenar y agotar recintos. Salas libres de violencia machista y espacios donde el colectivo LGTBI+ se sintiera seguro”, ha añadido.El cantante lamenta la cancelación pero asegura que su conciencia no le dejaría tranquilo “si fuese de la misma mano que fomenta y rentabiliza el odio, que 'manda a la basura' al colectivo LGTBI+, que vota en contra de la ley trans y que los ve, junto a la población inmigrante, como ciudadanos de tercera, desprovistos de los mismos derechos que el resto”. \n",
      "\n",
      "uplentes.En los ocho partidos sin Benzema, los sustitutos han sido Jovic en dos (victorias ante Inter y Elche en Copa) Mariano (dos triunfos ante Elche y Alcoyano), Isco (victoria contra el Granada), Bale (empate en Villarreal), Asensio (derrota copera en Bilbao) y Modric, en el último clásico. Ocho ocasiones, seis alternativas. Ninguna constante.En el horizonte, los nueve puntos de ventaja sobre el Sevilla y el miedo inconsciente de parte del madridismo. \"Yo ya perdí una Champions tras ir ganando 3-0\", declaró Ancelotti. La Liga de Queiroz, aquel 2015 de Carletto... Las finales de aquí al desenlace del curso empezarán en Vigo, con visitas al Pizjuán, a Pamplona y al Metropolitano incluidas. \n",
      "\n",
      "vida justo antes de morir, similar a los reportados en las experiencias cercanas a la muerte\", sugiere Zemmar. \"Estos hallazgos desafían nuestra comprensión de cuándo termina exactamente la vida y generan importantes preguntas posteriores, como las relacionadas con la donación de órganos\".\"Como neurocirujano, a veces me enfrento a pérdidas. Es indescriptiblemente difícil dar la noticia de la muerte a familiares angustiados\", asegura el médico. \"Algo que podemos aprender de esta investigación es que, aunque nuestros seres queridos tienen los ojos cerrados y están listos para dejarnos descansar, sus cerebros pueden estar reproduciendo algunos de los mejores momentos que vivieron en sus vidas\". \n",
      "\n",
      "e coteja el conjunto con enero de 2020 y enero de 2019, unos meses anteriores a la pandemia, entonces los aumentos no son del 100% sino del 30%. Aun así, todavía supone una tasa de crecimiento robusta y que supera el 4% al que crece la afiliación.El economista José María Duelo llama la atención sobre la marcha que ha tenido la contratación indefinida en la construcción desde octubre a enero. En este periodo y al margen de la reforma laboral, el peso de los trabajadores fijos ha crecido con mucha fuerza: sumando fijos y fijos discontinuos han pasado en enero a representar el 62% de los asalariados del sector frente al 54% registrado en octubre. Un incremento de ocho puntos en solo tres meses. \n",
      "\n",
      " equipos tienen opciones de acompañar a la Canarinha a octavos. Suiza, con tres puntos, depende de sí misma: una victoria le da el pase y un empate también le vale si Camerún no derrota a Brasil. Serbia (un punto) depende de terceros, pero tampoco necesita un imposible: debe superar a Suiza y esperar que Camerún no venza a los sudamericanos.Después del revuelo alrededor de selecciones como Irán, Alemania, Dinamarca y Países Bajos, entre otras, por asuntos políticos internos y mensajes en defensa de los derechos humanos en un Estado como Qatar, aparece este Serbia-Suiza que hurga en las cicatrices de los noventa en Europa.Suscríbete aquí a nuestra newsletter especial sobre el Mundial de Qatar \n",
      "\n"
     ]
    }
   ],
   "source": [
    "# sacamos el final de un par de noticias al azar de cada periodico y repetimos varias veces\n",
    "# experimentamos con los datos para ver si hay algún patron muy claro en los finales que debamos eliminar\n",
    "\n",
    "for p in ['ElDiario.es', 'ElMundo', 'El País']:\n",
    "    \n",
    "    i1 = np.random.randint(len(verdaderas[verdaderas.Periódico == p]))\n",
    "    i2 = np.random.randint(len(verdaderas[verdaderas.Periódico == p]))\n",
    "    \n",
    "    print(verdaderas[verdaderas.Periódico == p].Cuerpo.iloc[i1][-700:], '\\n')\n",
    "    print(verdaderas[verdaderas.Periódico == p].Cuerpo.iloc[i2][-700:], '\\n')"
   ]
  },
  {
   "cell_type": "code",
   "execution_count": 5,
   "id": "57d70ac0-b385-47de-892b-beb41bd77b23",
   "metadata": {},
   "outputs": [],
   "source": [
    "el_pais = verdaderas[verdaderas.Periódico == 'El País'].reset_index(drop = True)"
   ]
  },
  {
   "cell_type": "code",
   "execution_count": 6,
   "id": "c749b783-7ed9-4f19-8094-4bfa7edc4335",
   "metadata": {},
   "outputs": [
    {
     "name": "stdout",
     "output_type": "stream",
     "text": [
      "[-1]\n"
     ]
    }
   ],
   "source": [
    "indices1 = el_pais.Cuerpo.str.find('suscríbete')\n",
    "indices2 = el_pais.Cuerpo.str.find('suscríbase')\n",
    "\n",
    "print(indices2.unique())\n",
    "# parece que no aparece el \"suscríbase\"... pensaba que si"
   ]
  },
  {
   "cell_type": "code",
   "execution_count": 7,
   "id": "8027736e-4e15-4efc-adfb-8c429830e434",
   "metadata": {},
   "outputs": [],
   "source": [
    "minimos = np.minimum(indices1, indices2)\n",
    "maximos = np.maximum(indices1, indices2)\n",
    "\n",
    "indices = pd.Series(np.where((indices1 != -1) & (indices2 != -1), minimos, np.where((indices1 == -1) | (indices2 == -1), maximos, -1)))"
   ]
  },
  {
   "cell_type": "code",
   "execution_count": 8,
   "id": "0b57353b-3f49-4206-a315-fb092eda6cad",
   "metadata": {},
   "outputs": [],
   "source": [
    "# lista de indices con el menor indice de \"indices1\" e \"indices2\", para que si coinciden ambas palabras en una noticia (cosa que no sucede, pero bueno), se elimine desde la primera"
   ]
  },
  {
   "cell_type": "code",
   "execution_count": 9,
   "id": "19950997-29e7-4f58-8580-f41ef08726c0",
   "metadata": {},
   "outputs": [
    {
     "data": {
      "text/plain": [
       "0         -1\n",
       "1         -1\n",
       "2       6158\n",
       "3         -1\n",
       "4         -1\n",
       "        ... \n",
       "1943    6661\n",
       "1944    7472\n",
       "1945      -1\n",
       "1946    5917\n",
       "1947      -1\n",
       "Length: 1948, dtype: int64"
      ]
     },
     "execution_count": 9,
     "metadata": {},
     "output_type": "execute_result"
    }
   ],
   "source": [
    "indices"
   ]
  },
  {
   "cell_type": "code",
   "execution_count": 10,
   "id": "322bf67f-99a8-452a-be81-0df32630ec01",
   "metadata": {},
   "outputs": [],
   "source": [
    "def slicer(df, string_to_find, col = 'Cuerpo'):\n",
    "    \n",
    "    indices = df[col].str.find(string_to_find)\n",
    "    df[col] = df.apply(lambda x: x[col][:indices[x.name]], axis = 1)\n",
    "    \n",
    "    return df"
   ]
  },
  {
   "cell_type": "code",
   "execution_count": null,
   "id": "e6627510-36e2-4b6b-a790-1242ad6bbe1e",
   "metadata": {},
   "outputs": [],
   "source": []
  },
  {
   "cell_type": "code",
   "execution_count": 11,
   "id": "c2d93c5f-554b-4e55-957d-8218fa739775",
   "metadata": {},
   "outputs": [
    {
     "data": {
      "text/plain": [
       "5949"
      ]
     },
     "execution_count": 11,
     "metadata": {},
     "output_type": "execute_result"
    }
   ],
   "source": [
    "len(el_pais.Cuerpo.iloc[1946])"
   ]
  },
  {
   "cell_type": "code",
   "execution_count": 12,
   "id": "1fa9d050-ada1-44a6-8f5c-f2bdcdd7e512",
   "metadata": {},
   "outputs": [
    {
     "data": {
      "text/html": [
       "<div>\n",
       "<style scoped>\n",
       "    .dataframe tbody tr th:only-of-type {\n",
       "        vertical-align: middle;\n",
       "    }\n",
       "\n",
       "    .dataframe tbody tr th {\n",
       "        vertical-align: top;\n",
       "    }\n",
       "\n",
       "    .dataframe thead th {\n",
       "        text-align: right;\n",
       "    }\n",
       "</style>\n",
       "<table border=\"1\" class=\"dataframe\">\n",
       "  <thead>\n",
       "    <tr style=\"text-align: right;\">\n",
       "      <th></th>\n",
       "      <th>Periódico</th>\n",
       "      <th>Hipervínculo</th>\n",
       "      <th>Fecha publicación</th>\n",
       "      <th>Titular</th>\n",
       "      <th>Subtítulo</th>\n",
       "      <th>Cuerpo</th>\n",
       "      <th>Categoría</th>\n",
       "      <th>Target</th>\n",
       "    </tr>\n",
       "  </thead>\n",
       "  <tbody>\n",
       "    <tr>\n",
       "      <th>0</th>\n",
       "      <td>El País</td>\n",
       "      <td>https://elpais.com/espana/2022-10-19/el-pp-adm...</td>\n",
       "      <td>2022-10-19</td>\n",
       "      <td>El PP admite que el tono de Sánchez en el deba...</td>\n",
       "      <td>“Se parece más a un presidente”, sostienen sob...</td>\n",
       "      <td>La negociación para renovar el Poder Judicial ...</td>\n",
       "      <td>espana</td>\n",
       "      <td>0</td>\n",
       "    </tr>\n",
       "    <tr>\n",
       "      <th>1</th>\n",
       "      <td>El País</td>\n",
       "      <td>https://elpais.com/deportes/2022-06-05/el-fond...</td>\n",
       "      <td>2022-06-05</td>\n",
       "      <td>El fondo del corazón de Rafa Nadal</td>\n",
       "      <td>Cuando la cámara enfocaba a su entrenador, Car...</td>\n",
       "      <td>Lleva tantos años Rafa Nadal jugando la final ...</td>\n",
       "      <td>deportes</td>\n",
       "      <td>0</td>\n",
       "    </tr>\n",
       "    <tr>\n",
       "      <th>2</th>\n",
       "      <td>El País</td>\n",
       "      <td>https://elpais.com/cultura/2022-09-16/era-sexo...</td>\n",
       "      <td>2022-09-16</td>\n",
       "      <td>“Era sexo, drogas y rock. Duró hasta los 50 añ...</td>\n",
       "      <td>Hoy se ha presentado en el festival de cine de...</td>\n",
       "      <td>Aparece en pantalla fumando. Mucho. También be...</td>\n",
       "      <td>cultura</td>\n",
       "      <td>0</td>\n",
       "    </tr>\n",
       "    <tr>\n",
       "      <th>3</th>\n",
       "      <td>El País</td>\n",
       "      <td>https://elpais.com/internacional/2022-08-01/en...</td>\n",
       "      <td>2022-08-01</td>\n",
       "      <td>En el frente de Jersón: “Necesitamos mucho más...</td>\n",
       "      <td>Militares en las zonas de combate del frente s...</td>\n",
       "      <td>Entre los deseos de un líder político y la rea...</td>\n",
       "      <td>internacional</td>\n",
       "      <td>0</td>\n",
       "    </tr>\n",
       "    <tr>\n",
       "      <th>4</th>\n",
       "      <td>El País</td>\n",
       "      <td>https://elpais.com/podcasts/hoy-en-el-pais/202...</td>\n",
       "      <td>2022-06-08</td>\n",
       "      <td>Ante la Selectividad: “Me equivoqué de carrera...</td>\n",
       "      <td>Un 34% de universitarios deja los estudios el ...</td>\n",
       "      <td>Créditos:Disponible en todas las plataformas d...</td>\n",
       "      <td>podcasts</td>\n",
       "      <td>0</td>\n",
       "    </tr>\n",
       "    <tr>\n",
       "      <th>...</th>\n",
       "      <td>...</td>\n",
       "      <td>...</td>\n",
       "      <td>...</td>\n",
       "      <td>...</td>\n",
       "      <td>...</td>\n",
       "      <td>...</td>\n",
       "      <td>...</td>\n",
       "      <td>...</td>\n",
       "    </tr>\n",
       "    <tr>\n",
       "      <th>1943</th>\n",
       "      <td>El País</td>\n",
       "      <td>https://elpais.com/internacional/2022-09-16/be...</td>\n",
       "      <td>2022-09-16</td>\n",
       "      <td>Berta Valle: “La represión de Daniel Ortega ha...</td>\n",
       "      <td>La activista y esposa del excandidato a la pre...</td>\n",
       "      <td>Confinados en sus celdas, durmiendo en bancos ...</td>\n",
       "      <td>internacional</td>\n",
       "      <td>0</td>\n",
       "    </tr>\n",
       "    <tr>\n",
       "      <th>1944</th>\n",
       "      <td>El País</td>\n",
       "      <td>https://elpais.com/internacional/2022-06-12/me...</td>\n",
       "      <td>2022-06-12</td>\n",
       "      <td>Merkel rompe su silencio... y no se arrepiente...</td>\n",
       "      <td>La excanciller regresa a la vida pública tras ...</td>\n",
       "      <td>“¿Le ha gustado nuestra conversación?”, le pre...</td>\n",
       "      <td>internacional</td>\n",
       "      <td>0</td>\n",
       "    </tr>\n",
       "    <tr>\n",
       "      <th>1945</th>\n",
       "      <td>El País</td>\n",
       "      <td>https://elpais.com/television/2022-06-15/el-se...</td>\n",
       "      <td>2022-06-15</td>\n",
       "      <td>El secreto de ‘Nadie sabe nada’ para conquista...</td>\n",
       "      <td>Tras nueve años en antena en la SER y YouTube,...</td>\n",
       "      <td>Para entender la esencia del éxito de un fenóm...</td>\n",
       "      <td>television</td>\n",
       "      <td>0</td>\n",
       "    </tr>\n",
       "    <tr>\n",
       "      <th>1946</th>\n",
       "      <td>El País</td>\n",
       "      <td>https://elpais.com/television/2022-04-18/maste...</td>\n",
       "      <td>2022-04-18</td>\n",
       "      <td>‘MasterChef’, ‘Supervivientes’ y ‘La Voz Kids’...</td>\n",
       "      <td>Formatos de probada eficacia vuelven a la prog...</td>\n",
       "      <td>La primavera no solo altera la sangre, también...</td>\n",
       "      <td>television</td>\n",
       "      <td>0</td>\n",
       "    </tr>\n",
       "    <tr>\n",
       "      <th>1947</th>\n",
       "      <td>El País</td>\n",
       "      <td>https://elpais.com/ciencia/cafe-y-teoremas/202...</td>\n",
       "      <td>2022-09-12</td>\n",
       "      <td>¿Por qué los peces nadan tan rápido?</td>\n",
       "      <td>Un estudio realizado en Pekín resuelve una cue...</td>\n",
       "      <td>Mientras que el humano más rápido del mundo al...</td>\n",
       "      <td>ciencia</td>\n",
       "      <td>0</td>\n",
       "    </tr>\n",
       "  </tbody>\n",
       "</table>\n",
       "<p>1948 rows × 8 columns</p>\n",
       "</div>"
      ],
      "text/plain": [
       "     Periódico                                       Hipervínculo  \\\n",
       "0      El País  https://elpais.com/espana/2022-10-19/el-pp-adm...   \n",
       "1      El País  https://elpais.com/deportes/2022-06-05/el-fond...   \n",
       "2      El País  https://elpais.com/cultura/2022-09-16/era-sexo...   \n",
       "3      El País  https://elpais.com/internacional/2022-08-01/en...   \n",
       "4      El País  https://elpais.com/podcasts/hoy-en-el-pais/202...   \n",
       "...        ...                                                ...   \n",
       "1943   El País  https://elpais.com/internacional/2022-09-16/be...   \n",
       "1944   El País  https://elpais.com/internacional/2022-06-12/me...   \n",
       "1945   El País  https://elpais.com/television/2022-06-15/el-se...   \n",
       "1946   El País  https://elpais.com/television/2022-04-18/maste...   \n",
       "1947   El País  https://elpais.com/ciencia/cafe-y-teoremas/202...   \n",
       "\n",
       "     Fecha publicación                                            Titular  \\\n",
       "0           2022-10-19  El PP admite que el tono de Sánchez en el deba...   \n",
       "1           2022-06-05                 El fondo del corazón de Rafa Nadal   \n",
       "2           2022-09-16  “Era sexo, drogas y rock. Duró hasta los 50 añ...   \n",
       "3           2022-08-01  En el frente de Jersón: “Necesitamos mucho más...   \n",
       "4           2022-06-08  Ante la Selectividad: “Me equivoqué de carrera...   \n",
       "...                ...                                                ...   \n",
       "1943        2022-09-16  Berta Valle: “La represión de Daniel Ortega ha...   \n",
       "1944        2022-06-12  Merkel rompe su silencio... y no se arrepiente...   \n",
       "1945        2022-06-15  El secreto de ‘Nadie sabe nada’ para conquista...   \n",
       "1946        2022-04-18  ‘MasterChef’, ‘Supervivientes’ y ‘La Voz Kids’...   \n",
       "1947        2022-09-12               ¿Por qué los peces nadan tan rápido?   \n",
       "\n",
       "                                              Subtítulo  \\\n",
       "0     “Se parece más a un presidente”, sostienen sob...   \n",
       "1     Cuando la cámara enfocaba a su entrenador, Car...   \n",
       "2     Hoy se ha presentado en el festival de cine de...   \n",
       "3     Militares en las zonas de combate del frente s...   \n",
       "4     Un 34% de universitarios deja los estudios el ...   \n",
       "...                                                 ...   \n",
       "1943  La activista y esposa del excandidato a la pre...   \n",
       "1944  La excanciller regresa a la vida pública tras ...   \n",
       "1945  Tras nueve años en antena en la SER y YouTube,...   \n",
       "1946  Formatos de probada eficacia vuelven a la prog...   \n",
       "1947  Un estudio realizado en Pekín resuelve una cue...   \n",
       "\n",
       "                                                 Cuerpo      Categoría  Target  \n",
       "0     La negociación para renovar el Poder Judicial ...         espana       0  \n",
       "1     Lleva tantos años Rafa Nadal jugando la final ...       deportes       0  \n",
       "2     Aparece en pantalla fumando. Mucho. También be...        cultura       0  \n",
       "3     Entre los deseos de un líder político y la rea...  internacional       0  \n",
       "4     Créditos:Disponible en todas las plataformas d...       podcasts       0  \n",
       "...                                                 ...            ...     ...  \n",
       "1943  Confinados en sus celdas, durmiendo en bancos ...  internacional       0  \n",
       "1944  “¿Le ha gustado nuestra conversación?”, le pre...  internacional       0  \n",
       "1945  Para entender la esencia del éxito de un fenóm...     television       0  \n",
       "1946  La primavera no solo altera la sangre, también...     television       0  \n",
       "1947  Mientras que el humano más rápido del mundo al...        ciencia       0  \n",
       "\n",
       "[1948 rows x 8 columns]"
      ]
     },
     "execution_count": 12,
     "metadata": {},
     "output_type": "execute_result"
    }
   ],
   "source": [
    "# el_pais['Cuerpo'] = el_pais.apply(lambda fila: fila['Cuerpo'][:indices[fila.name]], axis = 1)\n",
    "\n",
    "slicer(el_pais, 'suscríbete')\n",
    "\n",
    "# el 'apply' es a todo el dataframe \"el_pais\", luego especificamos axis = 1 para se aplique por filas\n",
    "# en cada fila, se accede a la columna 'Cuerpo' y se hace slicing hasta el valor de la serie de indices que corresponde a esa fila"
   ]
  },
  {
   "cell_type": "code",
   "execution_count": 13,
   "id": "24202ab3-111b-48ec-a5b8-7819a22a9267",
   "metadata": {},
   "outputs": [
    {
     "data": {
      "text/plain": [
       "5917"
      ]
     },
     "execution_count": 13,
     "metadata": {},
     "output_type": "execute_result"
    }
   ],
   "source": [
    "len(el_pais.Cuerpo.iloc[1946])\n",
    "# acorta en las que sale el \"suscribete\""
   ]
  },
  {
   "cell_type": "code",
   "execution_count": null,
   "id": "f4554f28-be0e-4d36-8c2e-3313a5607355",
   "metadata": {},
   "outputs": [],
   "source": []
  },
  {
   "cell_type": "code",
   "execution_count": 14,
   "id": "1229c9f9-6590-4d88-b28e-6236234d51d2",
   "metadata": {},
   "outputs": [
    {
     "data": {
      "text/plain": [
       "array([  -1, 4175, 5125, 9377, 7980, 7886, 3816], dtype=int64)"
      ]
     },
     "execution_count": 14,
     "metadata": {},
     "output_type": "execute_result"
    }
   ],
   "source": [
    "el_diario = verdaderas[verdaderas.Periódico == 'ElDiario.es'].reset_index(drop = True)\n",
    "indices = el_diario.Cuerpo.str.find('-----')\n",
    "indices.unique()\n",
    "# parece que hay 6 noticias donde aparecen los guiones"
   ]
  },
  {
   "cell_type": "code",
   "execution_count": 15,
   "id": "54a8bad8-1145-4b91-9831-c67a0bb9c217",
   "metadata": {},
   "outputs": [
    {
     "data": {
      "text/plain": [
       "4768"
      ]
     },
     "execution_count": 15,
     "metadata": {},
     "output_type": "execute_result"
    }
   ],
   "source": [
    "len(el_diario.Cuerpo.iloc[3])"
   ]
  },
  {
   "cell_type": "code",
   "execution_count": 16,
   "id": "6ea8effd-96c4-43d5-b9a2-b77c79a8d891",
   "metadata": {},
   "outputs": [],
   "source": [
    "el_diario['Cuerpo'] = el_diario.apply(lambda fila: fila['Cuerpo'][:indices[fila.name]], axis = 1)"
   ]
  },
  {
   "cell_type": "code",
   "execution_count": 17,
   "id": "f4e55a27-910a-4307-88f9-4dc9d7ecfddb",
   "metadata": {},
   "outputs": [
    {
     "data": {
      "text/plain": [
       "4175"
      ]
     },
     "execution_count": 17,
     "metadata": {},
     "output_type": "execute_result"
    }
   ],
   "source": [
    "len(el_diario.Cuerpo.iloc[3])"
   ]
  },
  {
   "cell_type": "code",
   "execution_count": null,
   "id": "ab493556-4fb3-401a-98c0-9b19ddc8d881",
   "metadata": {},
   "outputs": [],
   "source": []
  },
  {
   "cell_type": "code",
   "execution_count": 18,
   "id": "49bca799-5b23-4d67-a9cd-09c4a90c8c9f",
   "metadata": {},
   "outputs": [],
   "source": [
    "verdaderas_limpio = pd.concat([el_diario, verdaderas[verdaderas.Periódico == 'ElMundo'], el_pais]).reset_index(drop = True)\n",
    "\n",
    "# Cuerpo de las noticias sin valores faltantes, habiendo eliminado las principales frases incómodas que aparecían al final. Sin duplicados."
   ]
  },
  {
   "cell_type": "code",
   "execution_count": 19,
   "id": "c83d28e5-3527-470a-aacb-7bf6dcf541b9",
   "metadata": {},
   "outputs": [],
   "source": [
    "# .to_csv('totales_limpias.csv', index = False)"
   ]
  },
  {
   "cell_type": "code",
   "execution_count": 20,
   "id": "2dc57884-d1e3-4715-a70c-79b5d999fd9f",
   "metadata": {},
   "outputs": [
    {
     "name": "stdout",
     "output_type": "stream",
     "text": [
      "de ir pasando queso y souvenirs de la zona a sus compañeros del sector madrileño de la cola también ha apuntado que la experiencia que adquieran en el extranjero seguro que les beneficia a la hora de encontrar un puesto de trabajo aunque la cola de la oficina de la calle santa leonor es la más extensa y aparatosa de las que ha generado el paro en españa, el ministerio de trabajo ha reconocido que la más preocupante es la de la oficina del inem de barbate (cádiz). los parados están ya en el mar y muchos marroquíes esperan ansiosos a que alcancen el estrecho para meterse también en la cola con la esperanza de entrar en nuestro país y, si puede ser, con un trabajo estable , explica un portavoz. \n",
      "\n",
      ", lamenta uno de los viajeros de renfe y del tiempo. los viajeros del pasado han intentado tranquilizar sin éxito a sus versiones del futuro, que llevan mucho más tiempo esperando que ellos y, por tanto, disponen de menos paciencia y están más irritados. los momentos de mayor tensión se han producido cuando uno de los pasajeros ha empezado a hacer spoilers de tadeo jones 2: el secreto del rey midas , la película que se emitía en el tren en el instante en el que convergieron los dos momentos temporales. los más afectados por el suceso, sin lugar a dudas, son las personas que viajan en el vagón del silencio, pues se han encontrado con sus versiones del futuro y no han podido preguntarles nada. \n",
      "\n",
      "isión portátil en el confesionario, para ver los partidos del Madrid cuando coincidían con los horarios de confesión.Algunos feligreses se extrañaban de una luz que provenía del interior del confesionario, así como de pequeños saltos y gritos ahogados que el cura daba de repente, como si estuviera pendiente de algo más. Finalmente en un descuido del párroco se atrevieron a inspeccionar el habitáculo descubriendo la televisión.El cura, una vez descubierto se defendió de las acusaciones. “Puedo perfectamente hacer dos cosas a la vez, atender las confesiones y mirar la televisión, no es tan difícil. Lo que no es muy cristiano es pretender que el Madrid juegue la Champions y que yo me lo pierda” \n",
      "\n",
      "olicitar formalmente Mediaset, productora del programa Gran Hermano, una edición alternativa del programa que se llame Gran Hermana.Éstas asociaciones se amparan en la ley de igualdad para pedir dicha solicitud y ya han conseguido recoger más de 300.000 firmas apoyando la idea. Pero la solicitud va más allá que el mero cambio de nombre pues también piden que el programa vuelva a estar presentado por una mujer y que además la figura de “el super” sea también una mujer.Ni Tele5 ni la productora Mediaset se han pronunciado todavía sobre el asunto pero no descartarían la idea de hacer una edición únicamente de mujeres, lo que según ellos ayudaría precisamente a ganar audiencia entre los hombres. \n",
      "\n"
     ]
    }
   ],
   "source": [
    "for p in ['El Mundo Today', 'HayNoticia.es']:\n",
    "    \n",
    "    i1 = np.random.randint(len(falsas[falsas.Periódico == p]))\n",
    "    i2 = np.random.randint(len(falsas[falsas.Periódico == p]))\n",
    "    \n",
    "    print(falsas[falsas.Periódico == p].Cuerpo.iloc[i1][-700:], '\\n')\n",
    "    print(falsas[falsas.Periódico == p].Cuerpo.iloc[i2][-700:], '\\n')\n",
    "    \n",
    "# no veo ningun patron en las ultimas lineas de las noticias\n",
    "# solo algunas noticias muy cortas, de unos 200 caracteres que voy a eliminar a continuacion"
   ]
  },
  {
   "cell_type": "code",
   "execution_count": null,
   "id": "65e4bd89-19bf-45d5-b3b7-291a08892344",
   "metadata": {},
   "outputs": [],
   "source": []
  },
  {
   "cell_type": "markdown",
   "id": "76a5f0c5-5238-48dd-87aa-d268901eb8b0",
   "metadata": {},
   "source": [
    "# Análisis de la longitud de las noticias (Cuerpo)"
   ]
  },
  {
   "cell_type": "code",
   "execution_count": 21,
   "id": "d1c628a0-9269-43ce-bdd5-594c7388678a",
   "metadata": {},
   "outputs": [
    {
     "name": "stdout",
     "output_type": "stream",
     "text": [
      "longitud media verdaderas: 6335.020735620835 \n",
      "longitud media falsas: 1518.5793991416308 \n",
      "ratio v/f: 4.171675672145739\n"
     ]
    }
   ],
   "source": [
    "v, f = verdaderas.Cuerpo.str.len().mean(), falsas.Cuerpo.str.len().mean()\n",
    "print(f'longitud media verdaderas: {v} \\nlongitud media falsas: {f} \\nratio v/f: {v/f}')"
   ]
  },
  {
   "cell_type": "code",
   "execution_count": 22,
   "id": "768a1ad2-3d3d-4fba-a457-716f580a41ae",
   "metadata": {},
   "outputs": [],
   "source": [
    "import seaborn as sns\n",
    "from matplotlib import pyplot as plt"
   ]
  },
  {
   "cell_type": "code",
   "execution_count": 23,
   "id": "af24f6a4-e869-43ab-8e93-1af9be54e217",
   "metadata": {},
   "outputs": [
    {
     "data": {
      "image/png": "[encoded data removed]",
      "text/plain": [
       "<Figure size 2500x800 with 2 Axes>"
      ]
     },
     "metadata": {},
     "output_type": "display_data"
    }
   ],
   "source": [
    "long_v = verdaderas.Cuerpo.str.len()\n",
    "long_f = falsas.Cuerpo.str.len()\n",
    "\n",
    "figure, axis = plt.subplots(1, 2, figsize=(25, 8))\n",
    "\n",
    "sns.histplot(long_f, ax = axis[0])\n",
    "axis[0].set_title('longitudes falsas')\n",
    "\n",
    "sns.histplot(long_v, ax = axis[1])\n",
    "axis[1].set_title('longitudes verdaderas')\n",
    "\n",
    "plt.show()"
   ]
  },
  {
   "cell_type": "code",
   "execution_count": 24,
   "id": "a6db1088-2406-4d28-a6d7-d448d8e6bef4",
   "metadata": {},
   "outputs": [
    {
     "name": "stdout",
     "output_type": "stream",
     "text": [
      "Algunos datos sobre longitudes de Falsas y Verdaderas \n",
      "\n",
      "Por encima de los 4000 caracteres:  (18, 1629)\n",
      "En proporciones:  (0.008193523214982443, 0.6119476672426561)\n",
      "Coeficientes de variación:  (0.5199134145880905, 1.505305876682012)\n"
     ]
    }
   ],
   "source": [
    "print('Algunos datos sobre longitudes de Falsas y Verdaderas \\n')\n",
    "print('Por encima de los 4000 caracteres: ', (long_f[long_f > 4000].count(), long_v[long_v < 4000].count()))\n",
    "print('En proporciones: ', (21/len(long_f), 2479/len(long_v)))\n",
    "print('Coeficientes de variación: ', (long_f.std()/long_f.mean() , long_v.std()/long_v.mean()))"
   ]
  },
  {
   "cell_type": "markdown",
   "id": "42d5cc1f-c4a3-4c43-95e5-5de92b00a09b",
   "metadata": {},
   "source": [
    "### Aunque no se aprecie tanto en los histogramas, la distribución de las longitudes de las noticias verdaderas presenta mucha mayor asimetría y dispersión.\n",
    "#### 60% de las verdaderas por encima de los 4000 caracteres, mientras que ni el 1% de las falsas lo hacen\n",
    "#### También se observa mucha mayor dispersión en las longitudes de las verdaderas"
   ]
  },
  {
   "cell_type": "markdown",
   "id": "3a7f61c5-7161-4f11-b679-7c6289d6997f",
   "metadata": {},
   "source": [
    "### Eliminando noticias por encima de cierto valor:\n",
    "#### - Cantidades más similares de un tipo y otro\n",
    "#### - Longitudes medias mas parecidas\n",
    "#### - Menor asimetría en la distribución de las longitudes de las verdaderas\n",
    "#### - Menor diferencia en la dispersion de ambas longitudes"
   ]
  },
  {
   "cell_type": "code",
   "execution_count": 25,
   "id": "2aea2a1c-0cda-4811-bdf6-1ae8148ce076",
   "metadata": {},
   "outputs": [],
   "source": [
    "totales = pd.concat([verdaderas_limpio, falsas]).reset_index(drop = True)"
   ]
  },
  {
   "cell_type": "code",
   "execution_count": 26,
   "id": "7c59d554-d2ad-4307-8d66-7218647a1441",
   "metadata": {},
   "outputs": [],
   "source": [
    "descartadas = totales[((totales.Cuerpo.str.len() < 200) == True) | ((totales.Cuerpo.str.len() > 6000) == True)]"
   ]
  },
  {
   "cell_type": "code",
   "execution_count": 27,
   "id": "31d8c164-37c6-47de-98d5-fb6194b482f9",
   "metadata": {},
   "outputs": [
    {
     "name": "stdout",
     "output_type": "stream",
     "text": [
      "2615\n",
      "2473\n"
     ]
    }
   ],
   "source": [
    "totales_limpio = totales.drop(descartadas.index).reset_index(drop=True)\n",
    "print(len(totales_limpio[totales_limpio.Target == 0]))\n",
    "print(len(totales_limpio[totales_limpio.Target == 1]))"
   ]
  },
  {
   "cell_type": "markdown",
   "id": "665dc75a-4687-4a02-99c6-bfedc8fc7528",
   "metadata": {},
   "source": [
    "## Repito el analisis tras la limpieza"
   ]
  },
  {
   "cell_type": "code",
   "execution_count": 28,
   "id": "2ad82b45-49ef-4b10-a7d3-caef2668634c",
   "metadata": {},
   "outputs": [],
   "source": [
    "verdaderas = totales_limpio[totales_limpio.Target == 0]\n",
    "falsas = totales_limpio[totales_limpio.Target == 1]"
   ]
  },
  {
   "cell_type": "code",
   "execution_count": 29,
   "id": "0afd5d7f-3187-437e-84c7-3d287dc3a5ea",
   "metadata": {},
   "outputs": [
    {
     "data": {
      "image/png": "[encoded data removed]",
      "text/plain": [
       "<Figure size 2500x800 with 2 Axes>"
      ]
     },
     "metadata": {},
     "output_type": "display_data"
    }
   ],
   "source": [
    "long_v = verdaderas.Cuerpo.str.len()\n",
    "long_f = falsas.Cuerpo.str.len()\n",
    "\n",
    "figure, axis = plt.subplots(1, 2, figsize=(25, 8))\n",
    "\n",
    "sns.histplot(long_f, ax = axis[0])\n",
    "axis[0].set_title('longitudes falsas')\n",
    "\n",
    "sns.histplot(long_v, ax = axis[1], bins = 70)\n",
    "axis[1].set_title('longitudes verdaderas')\n",
    "\n",
    "plt.show()\n",
    "\n",
    "# se observa algo raro en las noticias verdaderas de una longitud aproximada de 400\n",
    "# tantas con una longitud tan concreta indica que probablemente formen algun tipo de grupo con características comunes"
   ]
  },
  {
   "cell_type": "code",
   "execution_count": 30,
   "id": "f37b7dd8-4d53-41ad-b2a3-03f558d3ac07",
   "metadata": {},
   "outputs": [
    {
     "name": "stdout",
     "output_type": "stream",
     "text": [
      "362\n"
     ]
    },
    {
     "data": {
      "text/plain": [
       "'El Foreign Office le ordenó salir de Ucrania apenas un día antes de que comenzara la invasión. El periodista freelance y escritor Paul Mason (Leigh, Reino Unido, 62 años) se encontraba en Kiev acompañando a una delegación política. «Nos dijeron que lHazte Premium desde 1€ el primer mes Aprovecha esta oferta por tiempo limitado y accede a todo el contenido web\\n'"
      ]
     },
     "execution_count": 30,
     "metadata": {},
     "output_type": "execute_result"
    }
   ],
   "source": [
    "# VEAMOS DE FORMA ALEATORIA UNAS CUANTAS\n",
    "\n",
    "cortas = verdaderas[(verdaderas.Cuerpo.str.len() < 500) == True].reset_index(drop = True)\n",
    "\n",
    "i = np.random.randint(len(cortas))\n",
    "print(len(cortas.Cuerpo.iloc[i]))\n",
    "cortas.Cuerpo.iloc[i]"
   ]
  },
  {
   "cell_type": "code",
   "execution_count": 55,
   "id": "78ae380e-116e-4fe8-802d-e88374c19647",
   "metadata": {},
   "outputs": [],
   "source": [
    "# en la mayoría se repite al final el mensaje \"Hazte Premium desde 1€ el primer mes Aprovecha esta oferta por tiempo limitado y accede a todo el contenido web\\n\"\n",
    "# habia pensado eliminarlas directamete pero son mas de 560, me parecen muchas\n",
    "\n",
    "#  * * * *  ACTUALIZACION: FINALMENTE LAS BORRAMOS \n",
    "#  POR LO QUE LAS CELDAS SIGUIENTES A LA PROXIMA QUEDAN SIMPLEMENTE COMENTADAS  * * * * "
   ]
  },
  {
   "cell_type": "code",
   "execution_count": 32,
   "id": "01e943a0-1a5e-4c57-be0a-0b518c3e36ef",
   "metadata": {},
   "outputs": [],
   "source": [
    "descartar = verdaderas[(verdaderas.Cuerpo.str.len() < 500) == True].index\n",
    "# se podria afinar un poco mas para tirar justo las que tengan ese formato, pero tampoco mucho (ver celda siguiente)\n",
    "\n",
    "verdaderas = verdaderas.drop(descartar).reset_index(drop = True)"
   ]
  },
  {
   "cell_type": "code",
   "execution_count": null,
   "id": "6fa1febb-afa7-4c31-8e33-09074885c356",
   "metadata": {},
   "outputs": [],
   "source": []
  },
  {
   "cell_type": "code",
   "execution_count": 31,
   "id": "0ec8a2e8-4dd2-4d29-a752-c5da85280e99",
   "metadata": {},
   "outputs": [
    {
     "name": "stdout",
     "output_type": "stream",
     "text": [
      "Aparece en 553 noticias de las 569 que estamos analizando\n"
     ]
    }
   ],
   "source": [
    "# indices = cortas.Cuerpo.str.find('Hazte Premium')\n",
    "# print(f'Aparece en {(indices != -1).sum()} noticias de las {len(cortas)} que estamos analizando')"
   ]
  },
  {
   "cell_type": "code",
   "execution_count": 32,
   "id": "90769802-805c-45a4-8298-b71297aff6f3",
   "metadata": {},
   "outputs": [
    {
     "data": {
      "text/plain": [
       "0      250\n",
       "1      250\n",
       "2      250\n",
       "3      250\n",
       "4      250\n",
       "      ... \n",
       "564    250\n",
       "565    250\n",
       "566     -1\n",
       "567     -1\n",
       "568     -1\n",
       "Name: Cuerpo, Length: 569, dtype: int64"
      ]
     },
     "execution_count": 32,
     "metadata": {},
     "output_type": "execute_result"
    }
   ],
   "source": [
    "# indices\n",
    "\n",
    "# es raro que el \"Hazte Premium...\" empiece tantas veces en el mismo punto"
   ]
  },
  {
   "cell_type": "code",
   "execution_count": 33,
   "id": "feaa68f5-20cc-4e82-936d-957f4a9f8789",
   "metadata": {},
   "outputs": [
    {
     "data": {
      "text/plain": [
       "0    Estos días se cumple un año desde que Araceli ...\n",
       "1    Hace algo más de 14 años que el Ibex 35 conqui...\n",
       "2    Hoy reposan en las calles como un elemento más...\n",
       "3    Cuando Ismael Clemente empezó a frecuentar los...\n",
       "4    La continuidad del Instituto Nacional Electora...\n",
       "5    Al final no fue para tanto, sino todo un éxito...\n",
       "6    Cuando a principios del siglo pasado la nueva ...\n",
       "Name: Cuerpo, dtype: object"
      ]
     },
     "execution_count": 33,
     "metadata": {},
     "output_type": "execute_result"
    }
   ],
   "source": [
    "# cortas.Cuerpo[:7]\n",
    "\n",
    "# Sin embargo sí parecen distintas"
   ]
  },
  {
   "cell_type": "code",
   "execution_count": 34,
   "id": "983fee13-0171-4787-a4b7-7117a03cf32b",
   "metadata": {},
   "outputs": [
    {
     "name": "stdout",
     "output_type": "stream",
     "text": [
      "362\n",
      "250\n"
     ]
    }
   ],
   "source": [
    "# print(len(cortas.Cuerpo.iloc[0]))\n",
    "# cortas['Cuerpo'] = cortas.apply(lambda fila: fila['Cuerpo'][:indices[fila.name]], axis = 1)\n",
    "# print(len(cortas.Cuerpo.iloc[0]))"
   ]
  },
  {
   "cell_type": "code",
   "execution_count": null,
   "id": "b1135075-64e3-4dde-96c6-e3cbec6c53b7",
   "metadata": {},
   "outputs": [],
   "source": []
  },
  {
   "cell_type": "code",
   "execution_count": 35,
   "id": "3a715f78-5509-4aa1-afaf-2b759053fed8",
   "metadata": {},
   "outputs": [],
   "source": [
    "# indices_cortas = verdaderas[(verdaderas.Cuerpo.str.len() < 500) == True].index\n",
    "# verdaderas = pd.concat([verdaderas.drop(indices_cortas).reset_index(drop = True), cortas]).reset_index(drop = True)\n",
    "\n",
    "#  ya limpio del todo"
   ]
  },
  {
   "cell_type": "code",
   "execution_count": null,
   "id": "d6f31b71-3caa-4ed6-8342-85133de7fcec",
   "metadata": {},
   "outputs": [],
   "source": []
  },
  {
   "cell_type": "code",
   "execution_count": 34,
   "id": "294f449a-6231-46e6-bad1-93463ea2f5fa",
   "metadata": {},
   "outputs": [
    {
     "data": {
      "image/png": "[encoded data removed]",
      "text/plain": [
       "<Figure size 640x480 with 1 Axes>"
      ]
     },
     "metadata": {},
     "output_type": "display_data"
    }
   ],
   "source": [
    "long_v = verdaderas.Cuerpo.str.len()\n",
    "sns.histplot(long_v, bins = 70)\n",
    "plt.show()\n",
    "\n",
    "#  * * * * LA DISTRIBUCIÓN DE LAS LONGITUDES DE LAS VERDADERAS YA TIENE OTRO ASPECTO ! * * * * "
   ]
  },
  {
   "cell_type": "code",
   "execution_count": null,
   "id": "88d89bcb-bb56-481a-92fd-e4bebad48ec6",
   "metadata": {},
   "outputs": [],
   "source": []
  },
  {
   "cell_type": "code",
   "execution_count": 35,
   "id": "fe1c45df-5220-415c-92c4-55ed76e95628",
   "metadata": {},
   "outputs": [],
   "source": [
    "totales_limpisimo = pd.concat([verdaderas, falsas]).reset_index(drop = True)"
   ]
  },
  {
   "cell_type": "code",
   "execution_count": 36,
   "id": "f197c25e-e67e-4e04-b57a-f76678791e7d",
   "metadata": {},
   "outputs": [],
   "source": [
    "#  * * * *  ACTUALIZACION: QUITO LOS CEROS  * * * * \n",
    "\n",
    "eliminar = ['000', '00']\n",
    "totales_limpisimo['Cuerpo'] = totales_limpisimo['Cuerpo'].replace(eliminar, '', regex=True)"
   ]
  },
  {
   "cell_type": "code",
   "execution_count": 37,
   "id": "214a88fa-0e7a-4b99-890e-e53eb3c9bdb5",
   "metadata": {},
   "outputs": [],
   "source": [
    "totales_limpisimo.loc[:, 'Cuerpo'] = totales_limpisimo.Cuerpo.str.lower()\n",
    "totales_limpisimo.loc[:, 'Subtítulo'] = totales_limpisimo.Subtítulo.str.lower()\n",
    "totales_limpisimo.loc[:, 'Titular'] = totales_limpisimo.Titular.str.lower()"
   ]
  },
  {
   "cell_type": "code",
   "execution_count": 54,
   "id": "2b879414-8087-4417-95da-78a30a8387b2",
   "metadata": {},
   "outputs": [],
   "source": [
    "# totales_limpisimo.to_csv('dataset_final.csv', index = False)\n",
    "\n",
    "#  * * * * GUARDO EL ACTUALIZADO * * * *\n",
    "totales_limpisimo.to_csv('dataset_final_actualizacion1.csv', index = False)"
   ]
  },
  {
   "cell_type": "code",
   "execution_count": 39,
   "id": "f2dc9377-b9ea-40e8-afdd-50e1b166013c",
   "metadata": {},
   "outputs": [
    {
     "data": {
      "text/html": [
       "<div>\n",
       "<style scoped>\n",
       "    .dataframe tbody tr th:only-of-type {\n",
       "        vertical-align: middle;\n",
       "    }\n",
       "\n",
       "    .dataframe tbody tr th {\n",
       "        vertical-align: top;\n",
       "    }\n",
       "\n",
       "    .dataframe thead th {\n",
       "        text-align: right;\n",
       "    }\n",
       "</style>\n",
       "<table border=\"1\" class=\"dataframe\">\n",
       "  <thead>\n",
       "    <tr style=\"text-align: right;\">\n",
       "      <th></th>\n",
       "      <th>Periódico</th>\n",
       "      <th>Hipervínculo</th>\n",
       "      <th>Fecha publicación</th>\n",
       "      <th>Titular</th>\n",
       "      <th>Subtítulo</th>\n",
       "      <th>Cuerpo</th>\n",
       "      <th>Categoría</th>\n",
       "      <th>Target</th>\n",
       "    </tr>\n",
       "  </thead>\n",
       "  <tbody>\n",
       "    <tr>\n",
       "      <th>0</th>\n",
       "      <td>ElDiario.es</td>\n",
       "      <td>https://www.eldiario.es/politica/pp-recupera-l...</td>\n",
       "      <td>2023-07-11</td>\n",
       "      <td>el pp se recupera ligeramente pero sigue sin o...</td>\n",
       "      <td>la estimación de escaños no se mueve en la enc...</td>\n",
       "      <td>el partido popular se recupera muy ligeramente...</td>\n",
       "      <td>politica</td>\n",
       "      <td>0</td>\n",
       "    </tr>\n",
       "    <tr>\n",
       "      <th>1</th>\n",
       "      <td>ElDiario.es</td>\n",
       "      <td>https://www.eldiario.es/politica/58-ciudadanos...</td>\n",
       "      <td>2023-07-11</td>\n",
       "      <td>un 58% de los ciudadanos critican los pactos c...</td>\n",
       "      <td>el 17,8% de quienes apuestan por feijóo ven “m...</td>\n",
       "      <td>el pp ha necesitado a vox para recuperar buena...</td>\n",
       "      <td>politica</td>\n",
       "      <td>0</td>\n",
       "    </tr>\n",
       "    <tr>\n",
       "      <th>2</th>\n",
       "      <td>ElDiario.es</td>\n",
       "      <td>https://www.eldiario.es/politica/diputado-ayus...</td>\n",
       "      <td>2023-07-11</td>\n",
       "      <td>un diputado de ayuso reúne a un grupo de vícti...</td>\n",
       "      <td>daniel portero trata con urgencia de contrarre...</td>\n",
       "      <td>el diputado del pp en la asamblea de madrid da...</td>\n",
       "      <td>politica</td>\n",
       "      <td>0</td>\n",
       "    </tr>\n",
       "    <tr>\n",
       "      <th>3</th>\n",
       "      <td>ElDiario.es</td>\n",
       "      <td>https://www.eldiario.es/andalucia/almeria/psoe...</td>\n",
       "      <td>2023-07-11</td>\n",
       "      <td>el psoe de mójacar recurre ante el constitucio...</td>\n",
       "      <td>ya con nuevo alcalde del pp, los socialistas r...</td>\n",
       "      <td>mojácar retomó el ritmo político con la procla...</td>\n",
       "      <td>andalucia</td>\n",
       "      <td>0</td>\n",
       "    </tr>\n",
       "    <tr>\n",
       "      <th>4</th>\n",
       "      <td>ElDiario.es</td>\n",
       "      <td>https://www.eldiario.es/castilla-la-mancha/pol...</td>\n",
       "      <td>2023-07-11</td>\n",
       "      <td>la exalcaldesa de toledo pide a feijóo que fir...</td>\n",
       "      <td>la socialista, también número dos al congreso,...</td>\n",
       "      <td>la exalcaldesa de toledo y 'número dos' de la ...</td>\n",
       "      <td>castilla-la-mancha</td>\n",
       "      <td>0</td>\n",
       "    </tr>\n",
       "    <tr>\n",
       "      <th>...</th>\n",
       "      <td>...</td>\n",
       "      <td>...</td>\n",
       "      <td>...</td>\n",
       "      <td>...</td>\n",
       "      <td>...</td>\n",
       "      <td>...</td>\n",
       "      <td>...</td>\n",
       "      <td>...</td>\n",
       "    </tr>\n",
       "    <tr>\n",
       "      <th>4514</th>\n",
       "      <td>HayNoticia.es</td>\n",
       "      <td>https://haynoticia.es/una-empresa-catalana-tri...</td>\n",
       "      <td>2018-11-06</td>\n",
       "      <td>una empresa catalana triunfa con su papel higi...</td>\n",
       "      <td>NaN</td>\n",
       "      <td>la empresa catalana banys nous de barcelona es...</td>\n",
       "      <td>curiosidades</td>\n",
       "      <td>1</td>\n",
       "    </tr>\n",
       "    <tr>\n",
       "      <th>4515</th>\n",
       "      <td>HayNoticia.es</td>\n",
       "      <td>https://haynoticia.es/hospitalizado-tras-inten...</td>\n",
       "      <td>2018-10-31</td>\n",
       "      <td>hospitalizado tras intentar sacarse una muela ...</td>\n",
       "      <td>NaN</td>\n",
       "      <td>sucedió el pasado lunes poco después de las 20...</td>\n",
       "      <td>curiosidades</td>\n",
       "      <td>1</td>\n",
       "    </tr>\n",
       "    <tr>\n",
       "      <th>4516</th>\n",
       "      <td>HayNoticia.es</td>\n",
       "      <td>https://haynoticia.es/lleva-300-bolsas-de-plas...</td>\n",
       "      <td>2018-10-30</td>\n",
       "      <td>lleva 300 bolsas de plástico a mercadona para ...</td>\n",
       "      <td>NaN</td>\n",
       "      <td>un joven ha sido noticia ayer tras presentarse...</td>\n",
       "      <td>curiosidades</td>\n",
       "      <td>1</td>\n",
       "    </tr>\n",
       "    <tr>\n",
       "      <th>4517</th>\n",
       "      <td>HayNoticia.es</td>\n",
       "      <td>https://haynoticia.es/la-dgt-multara-a-los-con...</td>\n",
       "      <td>2018-10-28</td>\n",
       "      <td>la dgt multará a los conductores que no hayan ...</td>\n",
       "      <td>NaN</td>\n",
       "      <td>este domingo nos ha tocado hacer por segunda v...</td>\n",
       "      <td>curiosidades</td>\n",
       "      <td>1</td>\n",
       "    </tr>\n",
       "    <tr>\n",
       "      <th>4518</th>\n",
       "      <td>HayNoticia.es</td>\n",
       "      <td>https://haynoticia.es/una-sentencia-prohibe-a-...</td>\n",
       "      <td>2018-10-25</td>\n",
       "      <td>una sentencia prohibe a los comercios poner vi...</td>\n",
       "      <td>NaN</td>\n",
       "      <td>así se ha pronunciado la audiencia provincial ...</td>\n",
       "      <td>curiosidades</td>\n",
       "      <td>1</td>\n",
       "    </tr>\n",
       "  </tbody>\n",
       "</table>\n",
       "<p>4519 rows × 8 columns</p>\n",
       "</div>"
      ],
      "text/plain": [
       "          Periódico                                       Hipervínculo  \\\n",
       "0       ElDiario.es  https://www.eldiario.es/politica/pp-recupera-l...   \n",
       "1       ElDiario.es  https://www.eldiario.es/politica/58-ciudadanos...   \n",
       "2       ElDiario.es  https://www.eldiario.es/politica/diputado-ayus...   \n",
       "3       ElDiario.es  https://www.eldiario.es/andalucia/almeria/psoe...   \n",
       "4       ElDiario.es  https://www.eldiario.es/castilla-la-mancha/pol...   \n",
       "...             ...                                                ...   \n",
       "4514  HayNoticia.es  https://haynoticia.es/una-empresa-catalana-tri...   \n",
       "4515  HayNoticia.es  https://haynoticia.es/hospitalizado-tras-inten...   \n",
       "4516  HayNoticia.es  https://haynoticia.es/lleva-300-bolsas-de-plas...   \n",
       "4517  HayNoticia.es  https://haynoticia.es/la-dgt-multara-a-los-con...   \n",
       "4518  HayNoticia.es  https://haynoticia.es/una-sentencia-prohibe-a-...   \n",
       "\n",
       "     Fecha publicación                                            Titular  \\\n",
       "0           2023-07-11  el pp se recupera ligeramente pero sigue sin o...   \n",
       "1           2023-07-11  un 58% de los ciudadanos critican los pactos c...   \n",
       "2           2023-07-11  un diputado de ayuso reúne a un grupo de vícti...   \n",
       "3           2023-07-11  el psoe de mójacar recurre ante el constitucio...   \n",
       "4           2023-07-11  la exalcaldesa de toledo pide a feijóo que fir...   \n",
       "...                ...                                                ...   \n",
       "4514        2018-11-06  una empresa catalana triunfa con su papel higi...   \n",
       "4515        2018-10-31  hospitalizado tras intentar sacarse una muela ...   \n",
       "4516        2018-10-30  lleva 300 bolsas de plástico a mercadona para ...   \n",
       "4517        2018-10-28  la dgt multará a los conductores que no hayan ...   \n",
       "4518        2018-10-25  una sentencia prohibe a los comercios poner vi...   \n",
       "\n",
       "                                              Subtítulo  \\\n",
       "0     la estimación de escaños no se mueve en la enc...   \n",
       "1     el 17,8% de quienes apuestan por feijóo ven “m...   \n",
       "2     daniel portero trata con urgencia de contrarre...   \n",
       "3     ya con nuevo alcalde del pp, los socialistas r...   \n",
       "4     la socialista, también número dos al congreso,...   \n",
       "...                                                 ...   \n",
       "4514                                                NaN   \n",
       "4515                                                NaN   \n",
       "4516                                                NaN   \n",
       "4517                                                NaN   \n",
       "4518                                                NaN   \n",
       "\n",
       "                                                 Cuerpo           Categoría  \\\n",
       "0     el partido popular se recupera muy ligeramente...            politica   \n",
       "1     el pp ha necesitado a vox para recuperar buena...            politica   \n",
       "2     el diputado del pp en la asamblea de madrid da...            politica   \n",
       "3     mojácar retomó el ritmo político con la procla...           andalucia   \n",
       "4     la exalcaldesa de toledo y 'número dos' de la ...  castilla-la-mancha   \n",
       "...                                                 ...                 ...   \n",
       "4514  la empresa catalana banys nous de barcelona es...        curiosidades   \n",
       "4515  sucedió el pasado lunes poco después de las 20...        curiosidades   \n",
       "4516  un joven ha sido noticia ayer tras presentarse...        curiosidades   \n",
       "4517  este domingo nos ha tocado hacer por segunda v...        curiosidades   \n",
       "4518  así se ha pronunciado la audiencia provincial ...        curiosidades   \n",
       "\n",
       "      Target  \n",
       "0          0  \n",
       "1          0  \n",
       "2          0  \n",
       "3          0  \n",
       "4          0  \n",
       "...      ...  \n",
       "4514       1  \n",
       "4515       1  \n",
       "4516       1  \n",
       "4517       1  \n",
       "4518       1  \n",
       "\n",
       "[4519 rows x 8 columns]"
      ]
     },
     "execution_count": 39,
     "metadata": {},
     "output_type": "execute_result"
    }
   ],
   "source": [
    "totales_limpisimo"
   ]
  },
  {
   "cell_type": "code",
   "execution_count": null,
   "id": "bac88da6-665a-4f62-8101-f19aae0b4501",
   "metadata": {},
   "outputs": [],
   "source": []
  },
  {
   "cell_type": "markdown",
   "id": "d501dedc-9694-4bf9-ae4b-8ee211a4bae1",
   "metadata": {},
   "source": [
    "# Análisis de palabras más frecuentes"
   ]
  },
  {
   "cell_type": "code",
   "execution_count": 2,
   "id": "29f2f76c-4b32-49a5-b808-c73131aee10b",
   "metadata": {},
   "outputs": [],
   "source": [
    "#  * * * * en estas líneas habia codigo que era redundante con lo posterior "
   ]
  },
  {
   "cell_type": "code",
   "execution_count": 3,
   "id": "de3a1f5e-9974-4ad3-b21f-c1fe3363d258",
   "metadata": {},
   "outputs": [],
   "source": [
    "#   lo borro para que esté todo mas claro * * * * "
   ]
  },
  {
   "cell_type": "code",
   "execution_count": null,
   "id": "b80d959c-e82e-4ad3-8ba2-0042792c5fcd",
   "metadata": {},
   "outputs": [],
   "source": []
  },
  {
   "cell_type": "code",
   "execution_count": null,
   "id": "ce95709f-8b39-4e29-89f8-dd8c3eb5fa6d",
   "metadata": {},
   "outputs": [],
   "source": []
  },
  {
   "cell_type": "code",
   "execution_count": 44,
   "id": "6aea5d0b-c845-425d-8b11-9472a95fd34d",
   "metadata": {},
   "outputs": [],
   "source": [
    "from collections import Counter\n",
    "from nltk.corpus import stopwords\n",
    "from sklearn.feature_extraction.text import CountVectorizer\n",
    "\n",
    "stopwords = stopwords.words('spanish')\n",
    "\n",
    "f_cuerpos = falsas.Cuerpo.values\n",
    "vectorizer1 = CountVectorizer(stop_words = stopwords + ['si', 'según', 'tras'])\n",
    "vectorizer1.fit(f_cuerpos)\n",
    "f_vect = vectorizer1.transform(f_cuerpos)\n",
    "palabras1 = vectorizer1.get_feature_names_out()"
   ]
  },
  {
   "cell_type": "code",
   "execution_count": 45,
   "id": "2cdbae01-4e6f-41a7-ae67-ee74794f07c9",
   "metadata": {},
   "outputs": [],
   "source": [
    "frecuencias_fal = f_vect.sum(axis=0)\n",
    "frecuencias_fal = np.asarray(frecuencias_fal).ravel()\n",
    "\n",
    "contador_fal = Counter(dict(zip(palabras1, frecuencias_fal)))\n",
    "\n",
    "# Filtrar stopwords y palabras de longitud 1\n",
    "mas_frec_fal = [(palabra, frecuencia) for palabra, frecuencia in contador_fal.most_common(10) if palabra not in stopwords and len(palabra) > 1]"
   ]
  },
  {
   "cell_type": "code",
   "execution_count": 46,
   "id": "6af8236f-3d88-4189-b6c3-3dc395064ae7",
   "metadata": {},
   "outputs": [],
   "source": [
    "frecuencias_fal = [frecuencia for _, frecuencia in mas_frec_fal]\n",
    "palabras_fal = [palabra for palabra, _ in mas_frec_fal]"
   ]
  },
  {
   "cell_type": "code",
   "execution_count": 47,
   "id": "4bb64170-7e3a-476e-8f71-0996652a2959",
   "metadata": {},
   "outputs": [
    {
     "name": "stdout",
     "output_type": "stream",
     "text": [
      "['años', 'ser', 'ahora', 'así', 'sido', 'mañana', 'vez', 'dos', 'aunque', 'casa']\n",
      "[1138, 1084, 937, 876, 824, 777, 765, 760, 721, 716]\n"
     ]
    }
   ],
   "source": [
    "print(palabras_fal) \n",
    "print(frecuencias_fal)"
   ]
  },
  {
   "cell_type": "code",
   "execution_count": null,
   "id": "45484f29-b19c-4653-a42e-c75f486e6bec",
   "metadata": {},
   "outputs": [],
   "source": []
  },
  {
   "cell_type": "code",
   "execution_count": 48,
   "id": "4b694359-da13-432a-b753-948cfe12b555",
   "metadata": {},
   "outputs": [],
   "source": [
    "# ahora vemos las frecuencias de las verdaderas:"
   ]
  },
  {
   "cell_type": "code",
   "execution_count": 49,
   "id": "8b324395-95b6-43c2-bf70-986c5c41f1cf",
   "metadata": {},
   "outputs": [],
   "source": [
    "v_cuerpos = verdaderas.Cuerpo.values\n",
    "vectorizer2 = CountVectorizer(stop_words = stopwords + ['si', 'según', 'tras'])\n",
    "vectorizer2.fit(v_cuerpos)\n",
    "v_vect = vectorizer2.transform(v_cuerpos)\n",
    "palabras2 = vectorizer2.get_feature_names_out()"
   ]
  },
  {
   "cell_type": "code",
   "execution_count": 50,
   "id": "886d147b-b5a9-4055-9b67-a884164aa8a7",
   "metadata": {},
   "outputs": [],
   "source": [
    "frecuencias_ver = v_vect.sum(axis=0)\n",
    "frecuencias_ver = np.asarray(frecuencias_ver).ravel()\n",
    "\n",
    "contador_ver = Counter(dict(zip(palabras2, frecuencias_ver)))\n",
    "\n",
    "# Filtrar stopwords y palabras de longitud 1\n",
    "mas_frec_ver = [(palabra, frecuencia) for palabra, frecuencia in contador_ver.most_common(10) if palabra not in stopwords and len(palabra) > 1]"
   ]
  },
  {
   "cell_type": "code",
   "execution_count": null,
   "id": "afb8005e-6966-45bc-b111-4f874befe7ef",
   "metadata": {},
   "outputs": [],
   "source": []
  },
  {
   "cell_type": "code",
   "execution_count": 51,
   "id": "ac7b4dab-400e-4541-a875-60f744ba7cb5",
   "metadata": {},
   "outputs": [],
   "source": [
    "frecuencias_ver = [frecuencia for _, frecuencia in mas_frec_ver]\n",
    "palabras_ver = [palabra for palabra, _ in mas_frec_ver]"
   ]
  },
  {
   "cell_type": "code",
   "execution_count": 52,
   "id": "06c2d1fb-5ca5-42a4-8288-909585494782",
   "metadata": {},
   "outputs": [
    {
     "name": "stdout",
     "output_type": "stream",
     "text": [
      "['años', 'dos', 'ser', 'año', 'país', 'después', 'ahora', 'parte', 'sido', 'madrid']\n",
      "[2914, 2379, 1660, 1543, 1539, 1437, 1423, 1408, 1331, 1322]\n"
     ]
    }
   ],
   "source": [
    "print(palabras_ver) \n",
    "print(frecuencias_ver)"
   ]
  },
  {
   "cell_type": "code",
   "execution_count": null,
   "id": "1b30922e-01e2-47a8-b9fe-1627eada31b5",
   "metadata": {},
   "outputs": [],
   "source": []
  },
  {
   "cell_type": "code",
   "execution_count": 53,
   "id": "4c83c70c-fac9-4998-a622-fc03672fbcc6",
   "metadata": {},
   "outputs": [
    {
     "data": {
      "image/png": "[encoded data removed]",
      "text/plain": [
       "<Figure size 1000x500 with 2 Axes>"
      ]
     },
     "metadata": {},
     "output_type": "display_data"
    }
   ],
   "source": [
    "from wordcloud import WordCloud\n",
    "import matplotlib.pyplot as plt\n",
    "\n",
    "wordcloud_fal = WordCloud(width=400, height=400, background_color='white').generate_from_frequencies(dict(zip(palabras_fal, frecuencias_fal)))\n",
    "wordcloud_ver = WordCloud(width=400, height=400, background_color='white').generate_from_frequencies(dict(zip(palabras_ver, frecuencias_ver)))\n",
    "\n",
    "fig, axes = plt.subplots(1, 2, figsize=(10, 5))\n",
    "\n",
    "axes[0].imshow(wordcloud_fal)\n",
    "axes[0].set_title('Noticias Falsas')\n",
    "axes[0].axis('off')\n",
    "\n",
    "axes[1].imshow(wordcloud_ver)\n",
    "axes[1].set_title('Noticias Verdaderas')\n",
    "axes[1].axis('off')\n",
    "\n",
    "plt.show()"
   ]
  },
  {
   "cell_type": "code",
   "execution_count": null,
   "id": "8e56499f-e40f-40ed-b585-fd9ab1acf665",
   "metadata": {},
   "outputs": [],
   "source": []
  },
  {
   "cell_type": "code",
   "execution_count": null,
   "id": "d76497ee-0b35-4f69-a226-ffd3f1f49afc",
   "metadata": {},
   "outputs": [],
   "source": []
  },
  {
   "cell_type": "code",
   "execution_count": null,
   "id": "577bd3cd-6c80-4a42-af28-1c719e7cb3ce",
   "metadata": {},
   "outputs": [],
   "source": []
  },
  {
   "cell_type": "code",
   "execution_count": null,
   "id": "839e7615-0733-4ee2-8d8a-e63863b3af44",
   "metadata": {},
   "outputs": [],
   "source": []
  }
 ],
 "metadata": {
  "kernelspec": {
   "display_name": "Python 3 (ipykernel)",
   "language": "python",
   "name": "python3"
  },
  "language_info": {
   "codemirror_mode": {
    "name": "ipython",
    "version": 3
   },
   "file_extension": ".py",
   "mimetype": "text/x-python",
   "name": "python",
   "nbconvert_exporter": "python",
   "pygments_lexer": "ipython3",
   "version": "3.10.9"
  }
 },
 "nbformat": 4,
 "nbformat_minor": 5
}
